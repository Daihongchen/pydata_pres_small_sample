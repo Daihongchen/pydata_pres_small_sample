{
 "cells": [
  {
   "cell_type": "markdown",
   "metadata": {
    "slideshow": {
     "slide_type": "slide"
    }
   },
   "source": [
    "# AB-testing by clusters\n",
    "\n",
    "## How to run experiments on small data sets\n",
    "[Bertil Hatt](https://www.linkedin.com/in/bertilhatt/) & [João F. Martins](https://www.linkedin.com/in/joão-fidalgo-martins-8837b07a\n",
    ") — [Farfech](https://www.farfetchtechblog.com/en/)"
   ]
  },
  {
   "cell_type": "markdown",
   "metadata": {
    "slideshow": {
     "slide_type": "subslide"
    }
   },
   "source": [
    "## This presentation is relevant if you are curious about:\n",
    "- AB-tests _aka_ Double-blind randomised control trials\n",
    "- Python code running this test\n",
    "- on small samples\n",
    "  - Experimental treatment, few patients\n",
    "  - New company, B2B or market-place\n",
    "  - External constraints, _e.g._ relations, OTL, enrollment\n",
    "\n",
    "Constraints are often expressed as *clusters* of observations. Another name for that pattern is *quasi-experiments*."
   ]
  },
  {
   "cell_type": "markdown",
   "metadata": {
    "slideshow": {
     "slide_type": "slide"
    }
   },
   "source": [
    "## Contents\n",
    "<a name=\"contents_1\"></a>\n",
    "\n",
    "[**AB-test**](#intro)\n",
    "* [Principle of a statitical test](#principles)\n",
    "* [Monitoring with AA tests](#aa_tests)\n",
    "* [Sensitivity tests](#sensitivity)\n",
    "\n",
    "[**Complications**](#complications)\n",
    "* [Choosing a test unit](#unit_selection)\n",
    "* [Non-logged in users](#id_post_exposure)\n",
    "* [Overlapping experiments](#overlap)\n",
    "\n",
    "[**Small sample**](#small_sample)\n",
    "* [Re-shuffling the random split](#reshuffle)\n",
    "* [Control for type and activity](#type_activity)\n",
    "* [Excluding outliers](#outliers)\n",
    "\n",
    "[Summary](#summary)\n"
   ]
  },
  {
   "cell_type": "markdown",
   "metadata": {
    "slideshow": {
     "slide_type": "slide"
    }
   },
   "source": [
    "# Why run experiments when you have small samples\n",
    "<a name=\"intro\"></a>\n",
    "\n",
    "\n",
    "## Why AB tests (in general)?\n",
    "- Measuring when circumstances changes too\n",
    "- Multiple simultaneous interferring tests\n",
    "- Explicit precision over impact measure"
   ]
  },
  {
   "cell_type": "markdown",
   "metadata": {
    "slideshow": {
     "slide_type": "fragment"
    }
   },
   "source": [
    "## Relevant use cases\n",
    "- Early clinical tests with few patients\n",
    "- New company, B2B with few partners\n",
    "  - Blockier sides of a multisided market\n",
    "- Quasi experiment _aka_ Experiment by cluster"
   ]
  },
  {
   "cell_type": "markdown",
   "metadata": {
    "slideshow": {
     "slide_type": "fragment"
    }
   },
   "source": [
    "## Does it make sense to test on small sample?\n",
    "  - Yes, but “low power”: test can only detect strong effect\n",
    "  - Manage expectations stakeholders, control the test split"
   ]
  },
  {
   "cell_type": "markdown",
   "metadata": {
    "slideshow": {
     "slide_type": "slide"
    }
   },
   "source": [
    "# How to run a test\n",
    "<a name=\"principles\"></a>"
   ]
  },
  {
   "cell_type": "markdown",
   "metadata": {
    "slideshow": {
     "slide_type": "fragment"
    }
   },
   "source": [
    "## Define your experiment\n",
    "\n",
    "### Population, treatment, objective metric, minimum relevant impact\n",
    "- Define population, isolate independent unit\n",
    "- Control _vs._ Treatment \n",
    "- Objective metric\n",
    "  - simplified to conversion rate: Observations and Conversions\n",
    "- Relevant impact: Minimum detectable effect and duration"
   ]
  },
  {
   "cell_type": "markdown",
   "metadata": {
    "slideshow": {
     "slide_type": "subslide"
    }
   },
   "source": [
    "### Statistical test – Simplified\n",
    "\n",
    "We estimate the Conversion rate for control and treatment in their respective sample.\n",
    "\n",
    "$$ \\hat{CR_C} = \\frac{\\#conv_C}{\\#obs_C} \\quad \\hat{CR_T} = \\frac{\\#conv_T}{\\#obs_T}$$ \n",
    "\n",
    "the variance of the conversion rate for control is:\n",
    "$$ \\hat V \\left(\\hat{CR_C}\\right) = \\frac{\\hat{CR_C}(1-\\hat{CR_C})}{\\#obs_C} $$\n",
    "\n",
    "the variance for the difference is :\n",
    "$$ \\hat V \\left(d_{C-T}\\right) =\n",
    "   \\hat V \\left(\\hat{CR_C} - \\hat{CR_T}\\right) =\n",
    "\\frac{\\hat{CR_C}(1-\\hat{CR_C})}{\\#obs_C} + \\frac{\\hat{CR_T}(1-\\hat{CR_T})}{\\#obs_T} $$\n",
    "\n",
    "while the standard deviation of the difference is:\n",
    "$$ \\hat\\sigma\\left(\\hat{d_{C-T}}\\right) =\n",
    "\\sqrt{\\frac{\\hat{CR_C}(1-\\hat{CR_C})}{\\#obs_C} +\n",
    "      \\frac{\\hat{CR_T}(1-\\hat{CR_T})}{\\#obs_T}} $$\n",
    "\n",
    "\n",
    "We consider the difference to be **significant** by proving wrong the no-difference hypothesis:\n",
    "- if we assume Control and Treatment are the same,\n",
    "- would the difference only happen in the 5% most eggregious cases?\n",
    "\n",
    "  _i.e._ Is the difference in conversion rate **outside of the confidence interval** for Control?\n",
    "\n",
    "For $\\alpha = 5\\%$, that means $ z_{1-\\alpha/2} = 1.96 $ standard deviations on either side of the estimate.\n",
    "\n",
    "$$ \\hat{d_{C-T}} \\in \\left[ 0 \\pm z.\\hat\\sigma\\left(\\hat{d_{C-T}}\\right)\\right] $$"
   ]
  },
  {
   "cell_type": "markdown",
   "metadata": {},
   "source": [
    "### Statistical test – Simplified (Continued)\n",
    "\n",
    "We can also express the test with a $t$-score and a $p$-value: \n",
    "\n",
    "- $t$ is the number of standard deviation observed, _i.e._ $$ \\hat{t} = \\frac{\\hat{d_{C-T}}}{\\sigma\\left(\\hat{d_{C-T}}\\right)} $$\n",
    "- $p$ is the probability that our data would be at least this inconsistent given our hypothesis. It’s typically computed using known distribution function."
   ]
  },
  {
   "cell_type": "markdown",
   "metadata": {
    "slideshow": {
     "slide_type": "subslide"
    }
   },
   "source": [
    "### Caveat\n",
    "\n",
    "We are assuming that:\n",
    "1. we observe at most one conversion per observation;\n",
    "  - This is not true for test on non-binary quantities.\n",
    "1. there are enough observations in total and;\n",
    "1. the conversion rate is far enough from zero  \n",
    "   for a Bernoulli sample to be assumed Gaussian;\n",
    "  - This is not true for small samples.\n",
    "1. each observation (and conversion) is independent;\n",
    "  - This might not be true if event can be grouped.\n",
    "\n",
    "Most of those assumptions will be challenged further down.  "
   ]
  },
  {
   "cell_type": "markdown",
   "metadata": {
    "slideshow": {
     "slide_type": "subslide"
    }
   },
   "source": [
    "### Minimal detectable effect\n",
    "\n",
    "Given $p_C = \\hat{CR_C}, p_T = \\hat{CR_T} $ and an agreed $z$, the **minimal detectable effect** (MDE) is\n",
    "\n",
    "$$ \\begin{align}\n",
    "MDE & = z.\\hat\\sigma(d_{C-T}) \\\\\n",
    "& = z \\sqrt{\\frac{p_C(1-p_C)}{\\#obs_C}+\\frac{p_T(1-p_T)}{\\#obs_T}}\n",
    "\\end{align}$$\n",
    "\n",
    "therefore, assuming that we have a balanced segment ($\\#obs_C = \\#obs_T$) and that we have a rought estimation $p$ of $p_C$ and $p_T$, we can compute how many observations are needed for a test to reach a relevant minimal detectable effect:\n",
    "\n",
    "$$ \\begin{align}\n",
    "MDE \\quad = & \\quad  z \\sqrt{\\frac{p(1-p)}{\\#obs_C}+\\frac{p(1-p)}{\\#obs_T}}\\\\\n",
    " \\quad \\approx & \\quad z \\sqrt{2 \\frac{p(1-p)}{\\#obs_C}} \\\\\n",
    "\\#obs_C \\quad \\approx  & \\quad 2 p(1-p)\\left(\\frac{z}{MDE}\\right)^2 \\\\\n",
    "\\#obs \\quad = \\quad \\#obs_T + \\#obs_C \\quad \\approx & \\quad 4 p(1-p)\\left(\\frac{z}{MDE}\\right)^2\n",
    "\\end{align}$$\n",
    "\n",
    "\n",
    "For a MDE twice more refined, you’ll need four times more observations.\n",
    "\n",
    "The expected test **duration** is inferred from the expected traffic."
   ]
  },
  {
   "cell_type": "markdown",
   "metadata": {
    "slideshow": {
     "slide_type": "slide"
    }
   },
   "source": [
    "# Random generation\n",
    "\n",
    "<a name=\"random_generation\"></a>\n",
    "\n",
    "We need to create fake data for the purpose of this presentation"
   ]
  },
  {
   "cell_type": "markdown",
   "metadata": {
    "slideshow": {
     "slide_type": "subslide"
    }
   },
   "source": [
    "### Generate random values"
   ]
  },
  {
   "cell_type": "code",
   "execution_count": 1,
   "metadata": {
    "slideshow": {
     "slide_type": "fragment"
    }
   },
   "outputs": [],
   "source": [
    "import pandas as pd\n",
    "import datetime as dt\n",
    "import numpy as np\n",
    "\n",
    "def date_from_value(value, start = \"2019-01-01\", end = \"2019-07-01\"):\n",
    "    \"\"\"\n",
    "    Given a value between 0 and 1,\n",
    "    Returns a datetime between two dates (as string)\n",
    "    \"\"\"\n",
    "    # TODO: more realistic time of day\n",
    "    start = dt.datetime.strptime(start, '%Y-%m-%d')\n",
    "    end = dt.datetime.strptime(end, '%Y-%m-%d')\n",
    "    duration_sec = value * ((end - start).days*24*60*60)\n",
    "    return start + dt.timedelta(seconds=duration_sec)"
   ]
  },
  {
   "cell_type": "code",
   "execution_count": 2,
   "metadata": {
    "slideshow": {
     "slide_type": "subslide"
    }
   },
   "outputs": [],
   "source": [
    "def generate_observation_and_conversion(\n",
    "    conversion_rate = 0.3,\n",
    "    nb_users= 400,\n",
    "    nb_events = 1000,\n",
    "    pareto_parameter_conversion_delay = .4,\n",
    "):\n",
    "    \"\"\"\n",
    "    Given parameters about a population,\n",
    "    Returns a list of random events, with a possible conversion and delay\n",
    "    \"\"\"\n",
    "    random_dates = pd.Series(np.random.random(size=(nb_events)))\n",
    "    random_dates = random_dates.apply(date_from_value)\n",
    "    random_users = pd.Series(np.random.randint(nb_users, size=(nb_events)))\n",
    "    random_convs = pd.Series(np.random.rand(nb_events) < conversion_rate)\n",
    "    random_conv_delay = pd.Series(np.random.pareto(\n",
    "        pareto_parameter_conversion_delay, size=(nb_events)\n",
    "    ))\n",
    "    random_events = pd.concat([\n",
    "        random_dates, random_users, random_convs, random_conv_delay,\n",
    "    ], axis=1, sort=False)\n",
    "    random_events.columns = [\"event_timestamp\", \"user_id\", \"conversion\", \"conversion_delay\",]\n",
    "    return random_events"
   ]
  },
  {
   "cell_type": "code",
   "execution_count": 3,
   "metadata": {
    "slideshow": {
     "slide_type": "fragment"
    }
   },
   "outputs": [
    {
     "data": {
      "text/html": [
       "<div>\n",
       "<style scoped>\n",
       "    .dataframe tbody tr th:only-of-type {\n",
       "        vertical-align: middle;\n",
       "    }\n",
       "\n",
       "    .dataframe tbody tr th {\n",
       "        vertical-align: top;\n",
       "    }\n",
       "\n",
       "    .dataframe thead th {\n",
       "        text-align: right;\n",
       "    }\n",
       "</style>\n",
       "<table border=\"1\" class=\"dataframe\">\n",
       "  <thead>\n",
       "    <tr style=\"text-align: right;\">\n",
       "      <th></th>\n",
       "      <th>event_timestamp</th>\n",
       "      <th>user_id</th>\n",
       "      <th>conversion</th>\n",
       "      <th>conversion_delay</th>\n",
       "    </tr>\n",
       "  </thead>\n",
       "  <tbody>\n",
       "    <tr>\n",
       "      <th>0</th>\n",
       "      <td>2019-02-19 08:12:16.503327</td>\n",
       "      <td>85</td>\n",
       "      <td>False</td>\n",
       "      <td>7.884838</td>\n",
       "    </tr>\n",
       "    <tr>\n",
       "      <th>1</th>\n",
       "      <td>2019-03-10 13:03:01.713686</td>\n",
       "      <td>212</td>\n",
       "      <td>True</td>\n",
       "      <td>1.730238</td>\n",
       "    </tr>\n",
       "    <tr>\n",
       "      <th>2</th>\n",
       "      <td>2019-01-21 05:00:52.272784</td>\n",
       "      <td>331</td>\n",
       "      <td>False</td>\n",
       "      <td>5.761928</td>\n",
       "    </tr>\n",
       "    <tr>\n",
       "      <th>3</th>\n",
       "      <td>2019-02-16 00:13:35.463049</td>\n",
       "      <td>77</td>\n",
       "      <td>False</td>\n",
       "      <td>2061.644412</td>\n",
       "    </tr>\n",
       "    <tr>\n",
       "      <th>4</th>\n",
       "      <td>2019-03-10 01:11:22.093202</td>\n",
       "      <td>180</td>\n",
       "      <td>True</td>\n",
       "      <td>2.525923</td>\n",
       "    </tr>\n",
       "  </tbody>\n",
       "</table>\n",
       "</div>"
      ],
      "text/plain": [
       "             event_timestamp  user_id  conversion  conversion_delay\n",
       "0 2019-02-19 08:12:16.503327       85       False          7.884838\n",
       "1 2019-03-10 13:03:01.713686      212        True          1.730238\n",
       "2 2019-01-21 05:00:52.272784      331       False          5.761928\n",
       "3 2019-02-16 00:13:35.463049       77       False       2061.644412\n",
       "4 2019-03-10 01:11:22.093202      180        True          2.525923"
      ]
     },
     "execution_count": 3,
     "metadata": {},
     "output_type": "execute_result"
    }
   ],
   "source": [
    "random_events = generate_observation_and_conversion()\n",
    "random_events.head()"
   ]
  },
  {
   "cell_type": "code",
   "execution_count": 4,
   "metadata": {
    "slideshow": {
     "slide_type": "subslide"
    }
   },
   "outputs": [],
   "source": [
    "def generate_conversion_from_observation(random_events):\n",
    "    \"\"\"\n",
    "    Given a set of events with possible conversions\n",
    "    Return the table of conversions\n",
    "    \"\"\"\n",
    "    convertions = random_events[random_events[\"conversion\"]]\n",
    "    if len(convertions) > 0:\n",
    "        convertions = convertions.assign(\n",
    "            event_timestamp = convertions.apply(\n",
    "                lambda row: row[\"event_timestamp\"] + dt.timedelta(\n",
    "                    minutes=min(row[\"conversion_delay\"], 24*60*60)\n",
    "                    # If conversion_delay is too high, type can overflod\n",
    "                ),\n",
    "            axis=1))\n",
    "    return convertions[[\"event_timestamp\", \"user_id\"]]"
   ]
  },
  {
   "cell_type": "code",
   "execution_count": 5,
   "metadata": {
    "slideshow": {
     "slide_type": "fragment"
    }
   },
   "outputs": [
    {
     "data": {
      "text/html": [
       "<div>\n",
       "<style scoped>\n",
       "    .dataframe tbody tr th:only-of-type {\n",
       "        vertical-align: middle;\n",
       "    }\n",
       "\n",
       "    .dataframe tbody tr th {\n",
       "        vertical-align: top;\n",
       "    }\n",
       "\n",
       "    .dataframe thead th {\n",
       "        text-align: right;\n",
       "    }\n",
       "</style>\n",
       "<table border=\"1\" class=\"dataframe\">\n",
       "  <thead>\n",
       "    <tr style=\"text-align: right;\">\n",
       "      <th></th>\n",
       "      <th>event_timestamp</th>\n",
       "      <th>user_id</th>\n",
       "    </tr>\n",
       "  </thead>\n",
       "  <tbody>\n",
       "    <tr>\n",
       "      <th>1</th>\n",
       "      <td>2019-03-10 13:04:45.527989</td>\n",
       "      <td>212</td>\n",
       "    </tr>\n",
       "    <tr>\n",
       "      <th>4</th>\n",
       "      <td>2019-03-10 01:13:53.648610</td>\n",
       "      <td>180</td>\n",
       "    </tr>\n",
       "    <tr>\n",
       "      <th>7</th>\n",
       "      <td>2019-02-26 04:10:23.441957</td>\n",
       "      <td>111</td>\n",
       "    </tr>\n",
       "  </tbody>\n",
       "</table>\n",
       "</div>"
      ],
      "text/plain": [
       "             event_timestamp  user_id\n",
       "1 2019-03-10 13:04:45.527989      212\n",
       "4 2019-03-10 01:13:53.648610      180\n",
       "7 2019-02-26 04:10:23.441957      111"
      ]
     },
     "execution_count": 5,
     "metadata": {},
     "output_type": "execute_result"
    }
   ],
   "source": [
    "random_convertions = generate_conversion_from_observation(random_events)\n",
    "random_convertions.head(3)"
   ]
  },
  {
   "cell_type": "code",
   "execution_count": 6,
   "metadata": {
    "scrolled": false,
    "slideshow": {
     "slide_type": "subslide"
    }
   },
   "outputs": [],
   "source": [
    "def generate_events(cr=.3, n_users=400, n_obs=1_000, pp=.4):\n",
    "    \"\"\"\n",
    "    Given optional key parameters about an set of events\n",
    "    Return a sample set of events with observations and conversions\n",
    "    \"\"\"\n",
    "    observation = generate_observation_and_conversion(cr, n_users, n_obs, pp)\n",
    "    convertions = generate_conversion_from_observation(observation)\n",
    "    observation = observation[[\"event_timestamp\", \"user_id\"]]\n",
    "    observation = observation.assign(event_type = \"observation\")\n",
    "    convertions = convertions.assign(event_type = \"conversion\")\n",
    "    events = pd.concat([observation, convertions], axis=0)    \n",
    "    events = events.sort_values(by=[\"event_timestamp\"]).reset_index(drop=True)\n",
    "    return events"
   ]
  },
  {
   "cell_type": "code",
   "execution_count": 7,
   "metadata": {
    "slideshow": {
     "slide_type": "fragment"
    }
   },
   "outputs": [
    {
     "data": {
      "text/html": [
       "<div>\n",
       "<style scoped>\n",
       "    .dataframe tbody tr th:only-of-type {\n",
       "        vertical-align: middle;\n",
       "    }\n",
       "\n",
       "    .dataframe tbody tr th {\n",
       "        vertical-align: top;\n",
       "    }\n",
       "\n",
       "    .dataframe thead th {\n",
       "        text-align: right;\n",
       "    }\n",
       "</style>\n",
       "<table border=\"1\" class=\"dataframe\">\n",
       "  <thead>\n",
       "    <tr style=\"text-align: right;\">\n",
       "      <th></th>\n",
       "      <th>event_timestamp</th>\n",
       "      <th>user_id</th>\n",
       "      <th>event_type</th>\n",
       "    </tr>\n",
       "  </thead>\n",
       "  <tbody>\n",
       "    <tr>\n",
       "      <th>0</th>\n",
       "      <td>2019-01-01 03:56:51.245109</td>\n",
       "      <td>147</td>\n",
       "      <td>observation</td>\n",
       "    </tr>\n",
       "    <tr>\n",
       "      <th>1</th>\n",
       "      <td>2019-01-01 06:18:31.745709</td>\n",
       "      <td>84</td>\n",
       "      <td>observation</td>\n",
       "    </tr>\n",
       "    <tr>\n",
       "      <th>2</th>\n",
       "      <td>2019-01-01 11:56:20.170313</td>\n",
       "      <td>234</td>\n",
       "      <td>observation</td>\n",
       "    </tr>\n",
       "    <tr>\n",
       "      <th>3</th>\n",
       "      <td>2019-01-01 17:21:51.696596</td>\n",
       "      <td>64</td>\n",
       "      <td>observation</td>\n",
       "    </tr>\n",
       "    <tr>\n",
       "      <th>4</th>\n",
       "      <td>2019-01-01 17:34:03.043350</td>\n",
       "      <td>64</td>\n",
       "      <td>conversion</td>\n",
       "    </tr>\n",
       "  </tbody>\n",
       "</table>\n",
       "</div>"
      ],
      "text/plain": [
       "             event_timestamp  user_id   event_type\n",
       "0 2019-01-01 03:56:51.245109      147  observation\n",
       "1 2019-01-01 06:18:31.745709       84  observation\n",
       "2 2019-01-01 11:56:20.170313      234  observation\n",
       "3 2019-01-01 17:21:51.696596       64  observation\n",
       "4 2019-01-01 17:34:03.043350       64   conversion"
      ]
     },
     "execution_count": 7,
     "metadata": {},
     "output_type": "execute_result"
    }
   ],
   "source": [
    "events = generate_events()\n",
    "events.head()"
   ]
  },
  {
   "cell_type": "code",
   "execution_count": 8,
   "metadata": {
    "slideshow": {
     "slide_type": "subslide"
    }
   },
   "outputs": [],
   "source": [
    "options = [\"control\", \"treatment\"]\n",
    "def generate_segment_from_events(events=generate_events(), options=options):\n",
    "    \"\"\"\n",
    "    Given events and an optional list of alternative options\n",
    "    Returns balanced assignement to each segment\n",
    "    \"\"\"\n",
    "    creation = pd.DataFrame(events.groupby(\"user_id\")[\"event_timestamp\"].min())    \n",
    "    assignment = np.random.choice(options, len(creation))\n",
    "    creation = creation.assign(segment = assignment)\n",
    "    creation.columns = [\"assignment_timestamp\", \"segment\"]\n",
    "    return creation"
   ]
  },
  {
   "cell_type": "code",
   "execution_count": 9,
   "metadata": {
    "slideshow": {
     "slide_type": "fragment"
    }
   },
   "outputs": [
    {
     "data": {
      "text/html": [
       "<div>\n",
       "<style scoped>\n",
       "    .dataframe tbody tr th:only-of-type {\n",
       "        vertical-align: middle;\n",
       "    }\n",
       "\n",
       "    .dataframe tbody tr th {\n",
       "        vertical-align: top;\n",
       "    }\n",
       "\n",
       "    .dataframe thead th {\n",
       "        text-align: right;\n",
       "    }\n",
       "</style>\n",
       "<table border=\"1\" class=\"dataframe\">\n",
       "  <thead>\n",
       "    <tr style=\"text-align: right;\">\n",
       "      <th></th>\n",
       "      <th>assignment_timestamp</th>\n",
       "      <th>segment</th>\n",
       "    </tr>\n",
       "    <tr>\n",
       "      <th>user_id</th>\n",
       "      <th></th>\n",
       "      <th></th>\n",
       "    </tr>\n",
       "  </thead>\n",
       "  <tbody>\n",
       "    <tr>\n",
       "      <th>1</th>\n",
       "      <td>2019-02-26 13:34:25.967022</td>\n",
       "      <td>control</td>\n",
       "    </tr>\n",
       "    <tr>\n",
       "      <th>2</th>\n",
       "      <td>2019-01-12 03:19:14.204799</td>\n",
       "      <td>treatment</td>\n",
       "    </tr>\n",
       "    <tr>\n",
       "      <th>3</th>\n",
       "      <td>2019-02-20 09:55:29.089067</td>\n",
       "      <td>control</td>\n",
       "    </tr>\n",
       "    <tr>\n",
       "      <th>4</th>\n",
       "      <td>2019-04-04 20:35:49.335652</td>\n",
       "      <td>control</td>\n",
       "    </tr>\n",
       "    <tr>\n",
       "      <th>5</th>\n",
       "      <td>2019-02-21 20:56:30.618297</td>\n",
       "      <td>control</td>\n",
       "    </tr>\n",
       "  </tbody>\n",
       "</table>\n",
       "</div>"
      ],
      "text/plain": [
       "              assignment_timestamp    segment\n",
       "user_id                                      \n",
       "1       2019-02-26 13:34:25.967022    control\n",
       "2       2019-01-12 03:19:14.204799  treatment\n",
       "3       2019-02-20 09:55:29.089067    control\n",
       "4       2019-04-04 20:35:49.335652    control\n",
       "5       2019-02-21 20:56:30.618297    control"
      ]
     },
     "execution_count": 9,
     "metadata": {},
     "output_type": "execute_result"
    }
   ],
   "source": [
    "segment = generate_segment_from_events()\n",
    "segment.head()"
   ]
  },
  {
   "cell_type": "markdown",
   "metadata": {
    "slideshow": {
     "slide_type": "slide"
    }
   },
   "source": [
    "## Code \n",
    "\n",
    "<a name=\"code\"></a>\n",
    "\n",
    "### Processing results"
   ]
  },
  {
   "cell_type": "code",
   "execution_count": 10,
   "metadata": {
    "slideshow": {
     "slide_type": "fragment"
    }
   },
   "outputs": [],
   "source": [
    "events = generate_events() # load_from_database()\n",
    "segment = generate_segment_from_events(events)\n",
    "events_with_segment = events.set_index(\"user_id\").join(segment, on=\"user_id\")\n",
    "totals = events_with_segment.groupby([\"segment\", \"event_type\"])[\"segment\"].count()"
   ]
  },
  {
   "cell_type": "code",
   "execution_count": 11,
   "metadata": {
    "slideshow": {
     "slide_type": "fragment"
    }
   },
   "outputs": [
    {
     "data": {
      "text/plain": [
       "segment    event_type \n",
       "control    conversion     155\n",
       "           observation    474\n",
       "treatment  conversion     151\n",
       "           observation    526\n",
       "Name: segment, dtype: int64"
      ]
     },
     "execution_count": 11,
     "metadata": {},
     "output_type": "execute_result"
    }
   ],
   "source": [
    "totals.head()"
   ]
  },
  {
   "cell_type": "code",
   "execution_count": 12,
   "metadata": {
    "slideshow": {
     "slide_type": "subslide"
    }
   },
   "outputs": [],
   "source": [
    "def compute_totals(events, segment):\n",
    "    events_with_segment = events.set_index(\"user_id\")\\\n",
    "        .join(segment, on=\"user_id\")\n",
    "    totals = events_with_segment \\\n",
    "        .groupby([\"segment\", \"event_type\"])[\"segment\"].count()\n",
    "    return totals"
   ]
  },
  {
   "cell_type": "code",
   "execution_count": 13,
   "metadata": {
    "scrolled": true,
    "slideshow": {
     "slide_type": "fragment"
    }
   },
   "outputs": [
    {
     "data": {
      "text/plain": [
       "segment    event_type \n",
       "control    conversion     145\n",
       "           observation    501\n",
       "treatment  conversion     159\n",
       "           observation    499\n",
       "Name: segment, dtype: int64"
      ]
     },
     "execution_count": 13,
     "metadata": {},
     "output_type": "execute_result"
    }
   ],
   "source": [
    "events = generate_events()\n",
    "segment = generate_segment_from_events(events)\n",
    "totals = compute_totals(events, segment)\n",
    "totals"
   ]
  },
  {
   "cell_type": "code",
   "execution_count": 14,
   "metadata": {
    "slideshow": {
     "slide_type": "subslide"
    }
   },
   "outputs": [],
   "source": [
    "from scipy.stats import norm, t\n",
    "alpha = .1\n",
    "\n",
    "def var_cr(segment):\n",
    "    if segment.observation > 0:\n",
    "        cr = segment.conversion / segment.observation\n",
    "        var = cr*(1-cr)/segment.observation\n",
    "        return var, cr\n",
    "    else:\n",
    "        return None\n",
    "\n",
    "def beat_conf_interval(value, conf_interval):\n",
    "    if value < conf_interval[0]:\n",
    "        result = \"Loose\"        \n",
    "        significant = True\n",
    "    else:    \n",
    "        if value > conf_interval[1]:\n",
    "            result = \"Win\"\n",
    "            significant = True\n",
    "        else:\n",
    "            result = \"Draw\"        \n",
    "            significant = False\n",
    "    return significant, result\n",
    "\n",
    "class TTest():\n",
    "    def __init__(self, totals, alpha=alpha):\n",
    "        self.totals = totals\n",
    "        self.alpha = alpha\n",
    "#         self.cr_c, self.cr_t = None, None\n",
    "#         self.difference = None\n",
    "#         self.stddev = None\n",
    "#         self.conf_interval = None\n",
    "#         self.result, self.significant = None\n",
    "#         self.z, self.t, self.p = None, None, None\n",
    "    def compute(self):\n",
    "        co = self.totals.control\n",
    "        tr = self.totals.treatment\n",
    "        self.observation = co.observation + tr.observation\n",
    "        var_c, self.cr_c = var_cr(co) \n",
    "        var_t, self.cr_t = var_cr(tr)\n",
    "\n",
    "        # Stats\n",
    "        self.difference = self.cr_t - self.cr_c\n",
    "        self.rel_diff = self.difference/self.cr_c\n",
    "        self.stddev = np.sqrt(var_c + var_t)\n",
    "        self.z = norm.interval(1-self.alpha)\n",
    "        self.conf_interval = tuple(i*self.stddev for i in self.z)\n",
    "\n",
    "        # Results\n",
    "        self.significant, self.result = \\\n",
    "            beat_conf_interval(self.difference, self.conf_interval)    \n",
    "        self.t = self.difference/self.stddev\n",
    "        self.p = 1 - t.cdf(self.t, df=self.observation -2)        \n",
    "        return self.significant\n",
    "    \n",
    "# def compute_test_results(totals, alpha=alpha):\n",
    "#     var_c, cr_c = var_cr(totals.control) \n",
    "#     var_t, cr_t = var_cr(totals.treatment)\n",
    "#     stdev = np.sqrt(var_c + var_t)\n",
    "#     z = norm.interval(1-alpha)\n",
    "#     diff = cr_c - cr_t    \n",
    "#     return diff, (z[0]*stdev, z[1]*stdev), (cr_c, cr_t) \n",
    "#     # stdev\n",
    "\n",
    "# def compute_test_stats(results, alpha=alpha):\n",
    "\n",
    "#     diff, (z[0]*stdev, z[1]*stdev), (cr_c, cr_t) \n",
    "#     result[0], result[1]\n",
    "\n",
    "\n",
    "# def compute_test_significant(result):\n",
    "#     if result is None:\n",
    "#         return None        \n",
    "#     else:\n",
    "#         return (result[0] < result[1][0]) or (result[0] > result[1][1])"
   ]
  },
  {
   "cell_type": "code",
   "execution_count": 15,
   "metadata": {
    "slideshow": {
     "slide_type": "fragment"
    }
   },
   "outputs": [
    {
     "data": {
      "text/plain": [
       "{'totals': segment    event_type \n",
       " control    conversion     145\n",
       "            observation    501\n",
       " treatment  conversion     159\n",
       "            observation    499\n",
       " Name: segment, dtype: int64,\n",
       " 'alpha': 0.1,\n",
       " 'observation': 1000,\n",
       " 'cr_c': 0.2894211576846307,\n",
       " 'cr_t': 0.3186372745490982,\n",
       " 'difference': 0.029216116864467456,\n",
       " 'rel_diff': 0.10094672102826342,\n",
       " 'stddev': 0.029078813805320878,\n",
       " 'z': (-1.6448536269514729, 1.6448536269514722),\n",
       " 'conf_interval': (-0.047830392355128606, 0.047830392355128586),\n",
       " 'significant': False,\n",
       " 'result': 'Draw',\n",
       " 't': 1.0047217558482888,\n",
       " 'p': 0.15763719285892785}"
      ]
     },
     "execution_count": 15,
     "metadata": {},
     "output_type": "execute_result"
    }
   ],
   "source": [
    "# result = compute_test_results(totals)\n",
    "# significant = compute_test_significant(result)\n",
    "# result, significant\n",
    "t_test = TTest(totals)\n",
    "t_test.compute()\n",
    "vars(t_test)"
   ]
  },
  {
   "cell_type": "code",
   "execution_count": 16,
   "metadata": {
    "slideshow": {
     "slide_type": "subslide"
    }
   },
   "outputs": [],
   "source": [
    "def format_ci(ci, sep=' '):\n",
    "    return sep.join(format(lim, '.1%') for lim in ci)\n",
    "\n",
    "def format_decision(self):\n",
    "    str = \"From {0:.1%} to {1:.1%}, \".format(self.cr_c, self.cr_t)\n",
    "    str += \"a gap of {0:.1%}. \".format(abs(self.difference))\n",
    "    str += \"That is \" + (\"more\" if self.significant else \"less\") \n",
    "    str += \" than {0:.1%} and\".format(self.conf_interval[1])\n",
    "    str += ((\"\" if self.significant else \" not\") + \" significant.\")\n",
    "    return str\n",
    "TTest.format_decision = format_decision"
   ]
  },
  {
   "cell_type": "code",
   "execution_count": 17,
   "metadata": {
    "slideshow": {
     "slide_type": "fragment"
    }
   },
   "outputs": [
    {
     "data": {
      "text/plain": [
       "'From 28.9% to 31.9%, a gap of 2.9%. That is less than 4.8% and not significant.'"
      ]
     },
     "execution_count": 17,
     "metadata": {},
     "output_type": "execute_result"
    }
   ],
   "source": [
    "t_test.format_decision()"
   ]
  },
  {
   "cell_type": "code",
   "execution_count": 18,
   "metadata": {
    "slideshow": {
     "slide_type": "skip"
    }
   },
   "outputs": [],
   "source": [
    "# Strong typing\n",
    "class TypedDataFrame:\n",
    "    def __init__(self, table):\n",
    "        self.col_names = None\n",
    "        self.col_types = None\n",
    "        self.df = table\n",
    "    def specify_type(self):\n",
    "        self.df = pd.DataFrame(self.table, columns=self.col_names)\n",
    "        for i, col_name in enumerate(self.col_names):\n",
    "            self.df[col_name].astype(self.col_types[i])\n",
    "\n",
    "class Events(TypedDataFrame):\n",
    "    def __init__(self, table):\n",
    "        self.col_names = [\"event_timestamp\", \"user_id\", \"event_type\", ]\n",
    "        self.col_types = ['datetime64', 'int', 'category', ]        \n",
    "        self.specify_type()\n",
    "    def random_populate(sample_size, p):\n",
    "        self.df = generate_events()\n",
    "\n",
    "class Segment(TypedDataFrame):\n",
    "    def __init__(self, table):\n",
    "        self.cols = [\"timestamp_attribution\", \"segment\", ]\n",
    "        # user_id is key\n",
    "        self.col_type = ['datetime64', 'category', ]        \n",
    "        self.specify_type()\n",
    "    def random_populate(events, options):\n",
    "        self.df = generate_segment_from_events(events, options)"
   ]
  },
  {
   "cell_type": "markdown",
   "metadata": {
    "slideshow": {
     "slide_type": "slide"
    }
   },
   "source": [
    "## Basic classes\n",
    "\n",
    "<a name=\"classes\"></a>\n"
   ]
  },
  {
   "cell_type": "code",
   "execution_count": 19,
   "metadata": {
    "slideshow": {
     "slide_type": "fragment"
    }
   },
   "outputs": [],
   "source": [
    "class ABTest:\n",
    "    def __init__(self, events, segment):\n",
    "        self.events = events # Events(events)\n",
    "        self.segment = segment # Segment(segment)\n",
    "    def compute(self):\n",
    "        self.totals = compute_totals(self.events, self.segment)        \n",
    "        self.t_test = TTest(self.totals)\n",
    "        self.t_test.compute()\n",
    "        self.decision = self.t_test.format_decision()\n",
    "        return self.t_test.significant"
   ]
  },
  {
   "cell_type": "code",
   "execution_count": 20,
   "metadata": {
    "slideshow": {
     "slide_type": "fragment"
    }
   },
   "outputs": [
    {
     "data": {
      "text/plain": [
       "segment    event_type \n",
       "control    conversion     145\n",
       "           observation    501\n",
       "treatment  conversion     159\n",
       "           observation    499\n",
       "Name: segment, dtype: int64"
      ]
     },
     "execution_count": 20,
     "metadata": {},
     "output_type": "execute_result"
    }
   ],
   "source": [
    "abtest = ABTest(events, segment)\n",
    "abtest.compute()\n",
    "abtest.totals"
   ]
  },
  {
   "cell_type": "code",
   "execution_count": 21,
   "metadata": {
    "slideshow": {
     "slide_type": "fragment"
    }
   },
   "outputs": [
    {
     "data": {
      "text/plain": [
       "'From 28.9% to 31.9%, a gap of 2.9%. That is less than 4.8% and not significant.'"
      ]
     },
     "execution_count": 21,
     "metadata": {},
     "output_type": "execute_result"
    }
   ],
   "source": [
    "abtest.decision"
   ]
  },
  {
   "cell_type": "markdown",
   "metadata": {
    "slideshow": {
     "slide_type": "slide"
    }
   },
   "source": [
    "### Size-dependence results\n",
    "\n",
    "The key intuition behind those is that with a larger sample, we could detect more refined effects."
   ]
  },
  {
   "cell_type": "code",
   "execution_count": 22,
   "metadata": {
    "slideshow": {
     "slide_type": "fragment"
    }
   },
   "outputs": [],
   "source": [
    "def test_sample_by_size(n_obs=1_000):\n",
    "    events = generate_events(n_obs=n_obs)\n",
    "    segment = generate_segment_from_events(events)\n",
    "    ab_test = ABTest(events, segment)\n",
    "    ab_test.compute()\n",
    "    print(ab_test.decision)"
   ]
  },
  {
   "cell_type": "code",
   "execution_count": 23,
   "metadata": {
    "slideshow": {
     "slide_type": "fragment"
    }
   },
   "outputs": [
    {
     "name": "stdout",
     "output_type": "stream",
     "text": [
      "From 27.5% to 27.7%, a gap of 0.1%. That is less than 4.7% and not significant.\n"
     ]
    }
   ],
   "source": [
    "test_sample_by_size(n_obs=1_000)"
   ]
  },
  {
   "cell_type": "code",
   "execution_count": 24,
   "metadata": {
    "slideshow": {
     "slide_type": "fragment"
    }
   },
   "outputs": [
    {
     "name": "stdout",
     "output_type": "stream",
     "text": [
      "From 30.1% to 31.9%, a gap of 1.7%. That is more than 1.5% and significant.\n"
     ]
    }
   ],
   "source": [
    "test_sample_by_size(n_obs=10_000)"
   ]
  },
  {
   "cell_type": "code",
   "execution_count": 25,
   "metadata": {
    "slideshow": {
     "slide_type": "fragment"
    }
   },
   "outputs": [
    {
     "name": "stdout",
     "output_type": "stream",
     "text": [
      "From 30.2% to 29.9%, a gap of 0.3%. That is less than 0.5% and not significant.\n"
     ]
    }
   ],
   "source": [
    "test_sample_by_size(n_obs=100_000)"
   ]
  },
  {
   "cell_type": "markdown",
   "metadata": {
    "slideshow": {
     "slide_type": "slide"
    }
   },
   "source": [
    "### Sequential tests\n",
    "\n",
    "Running test for increasingly longer should improve precision. But running the test repeatedly and acting on any significant result means that we **compound false positives**.\n",
    "\n",
    "We can reduce the false positive rate for each individual test to a value that compounds up to our desired $\\alpha$. This is known as the Sequential Probability Ratio Test (SPRT) We have implemented a sequential approach known as the modified SPRT or **mSPRT**. For details, see [a recent paper by Etsy](https://www.hongliangjie.com/publications/wsdm2019_preprint.pdf)"
   ]
  },
  {
   "cell_type": "markdown",
   "metadata": {
    "slideshow": {
     "slide_type": "slide"
    }
   },
   "source": [
    "\n",
    "# AA tests\n",
    "<a name=\"aa_test\"></a>\n",
    "\n",
    "### Why run AA test\n",
    "\n",
    "Is the test detecting non-changes?"
   ]
  },
  {
   "cell_type": "markdown",
   "metadata": {
    "slideshow": {
     "slide_type": "fragment"
    }
   },
   "source": [
    "### Confusion matrix\n",
    "\n",
    "|        _             | Actual difference |  No real difference |\n",
    "| -------------------- |:-----------------:| ------------------- |\n",
    "| **Test signficant**  | True positive     | False positive      |\n",
    "| **Test non-signif.** | False negative    | True negative       |\n"
   ]
  },
  {
   "cell_type": "markdown",
   "metadata": {
    "slideshow": {
     "slide_type": "subslide"
    }
   },
   "source": [
    "# AA tests and Sensitivity testing\n",
    "\n",
    "### Why run AA test\n",
    "\n",
    "Is the test detecting non-changes?\n",
    "\n",
    "### Confusion matrix\n",
    "\n",
    "|        _      | *Actual difference* |  No real difference |\n",
    "| ------------- |:-------------------:| ------------------- |\n",
    "| Test positive | *True positive*     | **False positive**  |\n",
    "| Test negative | *False negative*    | True negative       |\n"
   ]
  },
  {
   "cell_type": "markdown",
   "metadata": {
    "slideshow": {
     "slide_type": "subslide"
    }
   },
   "source": [
    "### How to run an AA tests\n",
    "\n",
    "#### Random split and test, repeatedly\n",
    "\n",
    "- Consider recent past data\n",
    "\n",
    "- Generate random split\n",
    "\n",
    "- Test past data with no change"
   ]
  },
  {
   "cell_type": "code",
   "execution_count": 26,
   "metadata": {
    "slideshow": {
     "slide_type": "subslide"
    }
   },
   "outputs": [],
   "source": [
    "class BatchAATest:\n",
    "    def __init__(self, events):\n",
    "        self.events = events\n",
    "    \n",
    "    def test_with_random_segment(self):\n",
    "        self.segment = generate_segment_from_events(self.events)\n",
    "        self.test = ABTest(self.events, self.segment)\n",
    "        self.test.compute()\n",
    "        return self.test\n",
    "    \n",
    "    def run_step(self, run_per_step=100):\n",
    "        self.results = []\n",
    "        for j in range(run_per_step):\n",
    "            self.test_with_random_segment()\n",
    "            self.results.append(self.test.t_test.significant)\n",
    "        return self.results\n",
    "\n",
    "    def run_series(self, n_steps=10, run_per_step=100, verbose=True):\n",
    "        self.aggregate = []\n",
    "        self.slices = pd.DataFrame([], columns=[\"false_positive\", \"nb_aa_test\"])\n",
    "        for i in range(n_steps):\n",
    "            self.results = self.run_step(run_per_step)\n",
    "            self.aggregate = [sum(self.results), len(self.results)]\n",
    "            if verbose:\n",
    "                print(\"{0} false positives over {1} AA-tests.\".format(*self.aggregate))\n",
    "            self.slices.loc[len(self.slices)] = self.aggregate\n",
    "        return self.slices.sum()"
   ]
  },
  {
   "cell_type": "code",
   "execution_count": 27,
   "metadata": {
    "scrolled": true,
    "slideshow": {
     "slide_type": "subslide"
    }
   },
   "outputs": [
    {
     "name": "stdout",
     "output_type": "stream",
     "text": [
      "13 false positives over 100 AA-tests.\n",
      "12 false positives over 100 AA-tests.\n",
      "11 false positives over 100 AA-tests.\n",
      "15 false positives over 100 AA-tests.\n",
      "6 false positives over 100 AA-tests.\n",
      "11 false positives over 100 AA-tests.\n",
      "7 false positives over 100 AA-tests.\n",
      "6 false positives over 100 AA-tests.\n",
      "11 false positives over 100 AA-tests.\n",
      "7 false positives over 100 AA-tests.\n"
     ]
    },
    {
     "data": {
      "text/plain": [
       "false_positive      99.0\n",
       "nb_aa_test        1000.0\n",
       "dtype: float64"
      ]
     },
     "execution_count": 27,
     "metadata": {},
     "output_type": "execute_result"
    }
   ],
   "source": [
    "events = generate_events()\n",
    "batch_aa_test = BatchAATest(events)\n",
    "batch_aa_test.run_series()"
   ]
  },
  {
   "cell_type": "markdown",
   "metadata": {
    "slideshow": {
     "slide_type": "fragment"
    }
   },
   "source": [
    "We expect a false positive rate of 10%. Is `7 false positives over 100 AA-tests` a sign that there’s something wrong? We need to run thousands of times to have an accurate idea of the _de facto_ false positive rate.\n",
    "\n",
    "We can treat batches of AA-tests as a meta AB-test when a false positive being a conversion. That way, we can estimate a confidence interval for false positives."
   ]
  },
  {
   "cell_type": "markdown",
   "metadata": {
    "slideshow": {
     "slide_type": "slide"
    }
   },
   "source": [
    "### Checking $\\alpha$\n",
    "\n",
    "Thanks to several thousand AA-tests, we compute the ratio of false positives. But we have *set* that ratio with $\\alpha$. Is it consistent?"
   ]
  },
  {
   "cell_type": "code",
   "execution_count": 28,
   "metadata": {
    "slideshow": {
     "slide_type": "subslide"
    }
   },
   "outputs": [],
   "source": [
    "def run_batch(self, n_steps=4, run_per_step=250, verbose=True):    \n",
    "    self.totals = self.run_series(n_steps, run_per_step, verbose)\n",
    "    self.totals.index = [\"conversion\", \"observation\"]\n",
    "    var, false_pos_r = var_cr(self.totals)\n",
    "    stdev = np.sqrt(var)\n",
    "    z = norm.interval(1-alpha)\n",
    "    self.alpha_ci = (false_pos_r + z[0]*stdev, false_pos_r + z[1]*stdev)\n",
    "    return self.alpha_ci\n",
    "\n",
    "def display(self):\n",
    "    fail = beat_conf_interval(alpha, self.alpha_ci)[0]\n",
    "    msg = \"We measure a false positive rate between \"\n",
    "    msg += format_ci(self.alpha_ci, \" and \") + \".\\n\" \n",
    "    msg += \"This is\" + (\" not\" if fail else \"\") + \" consistent\"\n",
    "    msg += \" with our rate set at \" + \"{0:.1%}\".format(alpha) + \". \"\n",
    "    print(msg)\n",
    "    return not fail\n",
    "\n",
    "BatchAATest.run_batch = run_batch\n",
    "BatchAATest.display = display"
   ]
  },
  {
   "cell_type": "code",
   "execution_count": 29,
   "metadata": {
    "slideshow": {
     "slide_type": "subslide"
    }
   },
   "outputs": [
    {
     "name": "stdout",
     "output_type": "stream",
     "text": [
      "30 false positives over 250 AA-tests.\n",
      "31 false positives over 250 AA-tests.\n",
      "28 false positives over 250 AA-tests.\n",
      "30 false positives over 250 AA-tests.\n",
      "We measure a false positive rate between 10.2% and 13.6%.\n",
      "This is not consistent with our rate set at 10.0%. \n"
     ]
    },
    {
     "data": {
      "text/plain": [
       "False"
      ]
     },
     "execution_count": 29,
     "metadata": {},
     "output_type": "execute_result"
    }
   ],
   "source": [
    "batch_aa_test.run_batch()\n",
    "batch_aa_test.display()"
   ]
  },
  {
   "cell_type": "markdown",
   "metadata": {
    "slideshow": {
     "slide_type": "subslide"
    }
   },
   "source": [
    "Just like with standard tests, AA-tests are more accurate if you run many of them. 10,000 AA-tests are typically enough to have good enough precision."
   ]
  },
  {
   "cell_type": "code",
   "execution_count": 30,
   "metadata": {
    "slideshow": {
     "slide_type": "fragment"
    }
   },
   "outputs": [
    {
     "name": "stdout",
     "output_type": "stream",
     "text": [
      "252 false positives over 2500 AA-tests.\n",
      "259 false positives over 2500 AA-tests.\n",
      "279 false positives over 2500 AA-tests.\n",
      "265 false positives over 2500 AA-tests.\n",
      "We measure a false positive rate between 10.0% and 11.1%.\n",
      "This is not consistent with our rate set at 10.0%. \n"
     ]
    },
    {
     "data": {
      "text/plain": [
       "False"
      ]
     },
     "execution_count": 30,
     "metadata": {},
     "output_type": "execute_result"
    }
   ],
   "source": [
    "# Warning: Takes several minutes\n",
    "batch_aa_test = BatchAATest(generate_events())\n",
    "batch_aa_test.run_batch(n_steps=4, run_per_step=2_500)\n",
    "batch_aa_test.display()"
   ]
  },
  {
   "cell_type": "markdown",
   "metadata": {
    "slideshow": {
     "slide_type": "slide"
    }
   },
   "source": [
    "## Sensitivity testing\n",
    "\n",
    "<a name=\"sensitivity\"></a>\n",
    "\n",
    "### Sensitivity tests: AA tests with a boost\n",
    "\n",
    "What if, rather than pick two identical samples, we split the sample at random, and then **inflated the conversion rate of treatment** by a small fraction? Would that make the test more likely to succeed?"
   ]
  },
  {
   "cell_type": "code",
   "execution_count": 31,
   "metadata": {},
   "outputs": [
    {
     "data": {
      "text/plain": [
       "False"
      ]
     },
     "execution_count": 31,
     "metadata": {},
     "output_type": "execute_result"
    }
   ],
   "source": [
    "aa_test = ABTest(events, segment)\n",
    "aa_test.compute()\n",
    "aa_test.t_test.significant"
   ]
  },
  {
   "cell_type": "code",
   "execution_count": 32,
   "metadata": {
    "slideshow": {
     "slide_type": "subslide"
    }
   },
   "outputs": [],
   "source": [
    "import copy\n",
    "thresholds = [0, 0.001, 0.002, 0.005, 0.01, 0.02, 0.05, 0.1, 0.2, 0.5, 1, 2]\n",
    "\n",
    "def find_detected_diff(self, thresholds=thresholds):\n",
    "    for threshold in thresholds:\n",
    "        inflated_t_test = copy.deepcopy(self.t_test)\n",
    "        inflated_t_test.totals.treatment.conversion *= (1+threshold)\n",
    "        if inflated_t_test.compute():            \n",
    "            return threshold\n",
    "    return -1       \n",
    "    \n",
    "ABTest.find_detected_diff = find_detected_diff\n",
    "\n",
    "class SensitivityTest (BatchAATest):\n",
    "\n",
    "    def run_step(self, run_per_step=100):\n",
    "        self.list_diff = []\n",
    "        for j in range(run_per_step):\n",
    "            self.test_with_random_segment()\n",
    "            self.test.compute()            \n",
    "            self.test.detected_diff = self.test.find_detected_diff()\n",
    "            self.list_diff.append(self.test.detected_diff)\n",
    "        return self.list_diff    "
   ]
  },
  {
   "cell_type": "markdown",
   "metadata": {
    "slideshow": {
     "slide_type": "subslide"
    }
   },
   "source": [
    "Let’s count all the differences that are large enough to be detected by one test."
   ]
  },
  {
   "cell_type": "code",
   "execution_count": 33,
   "metadata": {
    "slideshow": {
     "slide_type": "fragment"
    }
   },
   "outputs": [
    {
     "data": {
      "text/plain": [
       "0.00    12\n",
       "0.02     2\n",
       "0.05     6\n",
       "0.10    18\n",
       "0.20    31\n",
       "0.50    31\n",
       "dtype: int64"
      ]
     },
     "execution_count": 33,
     "metadata": {},
     "output_type": "execute_result"
    }
   ],
   "source": [
    "sensitivity_test = SensitivityTest(generate_events())\n",
    "list_diff = sensitivity_test.run_step()\n",
    "pd.Series(list_diff).value_counts().sort_index()"
   ]
  },
  {
   "cell_type": "markdown",
   "metadata": {
    "slideshow": {
     "slide_type": "fragment"
    }
   },
   "source": [
    "Out of 100 AA-tests on the same `events` data source, we were able to get a significant result by increasing the conversion rate by 5, 10 or 20% — depending on the test split."
   ]
  },
  {
   "cell_type": "markdown",
   "metadata": {
    "slideshow": {
     "slide_type": "subslide"
    }
   },
   "source": [
    "### Minimum difference reliably detected\n",
    "\n",
    "We want to know how much difference between Control and Treatement is large enough to be reliably detected. We need to compute the distribution of differences that are large enough and find the upper quantile."
   ]
  },
  {
   "cell_type": "code",
   "execution_count": 34,
   "metadata": {
    "slideshow": {
     "slide_type": "fragment"
    }
   },
   "outputs": [],
   "source": [
    "def run_series(self, n_steps=4, run_per_step=25, verbose=True):\n",
    "    self.aggregate = []\n",
    "    self.slices = pd.Series([0] * len(thresholds), index=thresholds)\n",
    "    for i in range(n_steps):\n",
    "        self.list_diff = self.run_step(run_per_step)\n",
    "        self.aggregate = pd.Series(self.list_diff).value_counts().sort_index()\n",
    "        self.slices = self.slices.add(self.aggregate, fill_value=0).fillna(0)\n",
    "        if verbose:\n",
    "            print(self.aggregate.cumsum())\n",
    "    return self.slices.cumsum()\n",
    "    \n",
    "def run_batch(self, n_steps=4, run_per_step=25, verbose=False):    \n",
    "    self.n_runs = n_steps*run_per_step\n",
    "    self.cum_dist = self.run_series(n_steps, run_per_step, verbose)\n",
    "    self.reliable = int((1-alpha)*self.n_runs)\n",
    "    significant = self.cum_dist[self.cum_dist > self.reliable]\n",
    "    self.min_significant = min(significant.index)\n",
    "    return self.min_significant\n",
    "\n",
    "SensitivityTest.run_series = run_series\n",
    "SensitivityTest.run_batch = run_batch"
   ]
  },
  {
   "cell_type": "code",
   "execution_count": 35,
   "metadata": {
    "slideshow": {
     "slide_type": "fragment"
    }
   },
   "outputs": [
    {
     "data": {
      "text/plain": [
       "0.5"
      ]
     },
     "execution_count": 35,
     "metadata": {},
     "output_type": "execute_result"
    }
   ],
   "source": [
    "sensitivity_test.run_batch()"
   ]
  },
  {
   "cell_type": "markdown",
   "metadata": {
    "slideshow": {
     "slide_type": "subslide"
    }
   },
   "source": [
    "Let’s now plot that distribution."
   ]
  },
  {
   "cell_type": "code",
   "execution_count": 36,
   "metadata": {
    "slideshow": {
     "slide_type": "fragment"
    }
   },
   "outputs": [],
   "source": [
    "import matplotlib.pyplot as plt\n",
    "# Simple display — make better later\n",
    "def format_result(self):\n",
    "    msg = \"After {0:,} runs, we estimate that \".format(self.n_runs)\n",
    "    msg += \"this test should reliably ({0:.0%}) detect \".format(1-alpha) \n",
    "    msg += \"improvements of at least {0:.1%}\".format(self.min_significant)\n",
    "    return msg\n",
    "\n",
    "def display(self):\n",
    "    val = self.cum_dist.index    \n",
    "    n_obs = self.test.t_test.observation\n",
    "    self.cum_dist[val > 0].plot(logx=True).set(\n",
    "        title=\"Sensitivity curve ({0:,} obs.)\"\\\n",
    "            .format(n_obs),\n",
    "        xlabel=\"Effect scale (log scale)\",\n",
    "        ylabel=\"Number of tests\",\n",
    "    )\n",
    "    plt.hlines(self.reliable, min(val[val > 0]), max(val),\n",
    "               color=\"red\", linestyles=\"dotted\")    \n",
    "    plt.show()\n",
    "    pass\n",
    "\n",
    "\n",
    "SensitivityTest.format_result = format_result\n",
    "SensitivityTest.display = display"
   ]
  },
  {
   "cell_type": "code",
   "execution_count": 37,
   "metadata": {
    "slideshow": {
     "slide_type": "subslide"
    }
   },
   "outputs": [
    {
     "name": "stdout",
     "output_type": "stream",
     "text": [
      "After 100 runs, we estimate that this test should reliably (90%) detect improvements of at least 50.0%\n"
     ]
    },
    {
     "data": {
      "image/png": "[encoded data removed]",
      "text/plain": [
       "<Figure size 432x288 with 1 Axes>"
      ]
     },
     "metadata": {
      "needs_background": "light"
     },
     "output_type": "display_data"
    }
   ],
   "source": [
    "print(sensitivity_test.format_result())\n",
    "sensitivity_test.display()"
   ]
  },
  {
   "cell_type": "markdown",
   "metadata": {
    "slideshow": {
     "slide_type": "subslide"
    }
   },
   "source": [
    "### Compute minimal difference\n",
    "\n",
    "We actually do not have to iterate over sample `thresholds` to find the right value for a significant change. It would be more efficicent to process by dichotomy, either over the list or on absolute values. More simply, it is faster to run the AA-test; the ratio between the upper bound and the difference is the minimal effect that would make the test significant."
   ]
  },
  {
   "cell_type": "code",
   "execution_count": 38,
   "metadata": {
    "slideshow": {
     "slide_type": "fragment"
    }
   },
   "outputs": [],
   "source": [
    "def find_detected_diff(self):\n",
    "    min_detection = self.t_test.cr_c + self.t_test.conf_interval[1]\n",
    "    self.detected_diff = (min_detection/self.t_test.cr_t) - 1\n",
    "    return self.detected_diff\n",
    "\n",
    "ABTest.find_detected_diff = find_detected_diff"
   ]
  },
  {
   "cell_type": "markdown",
   "metadata": {
    "slideshow": {
     "slide_type": "skip"
    }
   },
   "source": [
    "### Verification\n",
    "\n",
    "Let’s check that the treatment conversion increased by this minimum boost gives the exact value of the upper limit."
   ]
  },
  {
   "cell_type": "code",
   "execution_count": 39,
   "metadata": {
    "slideshow": {
     "slide_type": "skip"
    }
   },
   "outputs": [
    {
     "data": {
      "text/plain": [
       "{'totals': segment    event_type \n",
       " control    conversion     131\n",
       "            observation    481\n",
       " treatment  conversion     153\n",
       "            observation    519\n",
       " Name: segment, dtype: int64,\n",
       " 'alpha': 0.1,\n",
       " 'observation': 1000,\n",
       " 'cr_c': 0.27234927234927236,\n",
       " 'cr_t': 0.2947976878612717,\n",
       " 'difference': 0.02244841551199933,\n",
       " 'rel_diff': 0.0824250981776464,\n",
       " 'stddev': 0.0285055991474319,\n",
       " 'z': (-1.6448536269514729, 1.6448536269514722),\n",
       " 'conf_interval': (-0.04688753814607817, 0.046887538146078156),\n",
       " 'significant': False,\n",
       " 'result': 'Draw',\n",
       " 't': 0.7875089871254901,\n",
       " 'p': 0.21558547731604039}"
      ]
     },
     "execution_count": 39,
     "metadata": {},
     "output_type": "execute_result"
    }
   ],
   "source": [
    "events = generate_events()\n",
    "segment = generate_segment_from_events(events)\n",
    "aa_test = ABTest(events, segment)\n",
    "aa_test.compute()\n",
    "vars(aa_test.t_test)"
   ]
  },
  {
   "cell_type": "code",
   "execution_count": 40,
   "metadata": {
    "slideshow": {
     "slide_type": "skip"
    }
   },
   "outputs": [
    {
     "name": "stdout",
     "output_type": "stream",
     "text": [
      "segment    event_type \n",
      "control    conversion     131\n",
      "           observation    481\n",
      "treatment  conversion     153\n",
      "           observation    519\n",
      "Name: segment, dtype: int64\n",
      "0.0829013375626595\n"
     ]
    },
    {
     "data": {
      "text/plain": [
       "{'totals': segment    event_type \n",
       " control    conversion     131\n",
       "            observation    481\n",
       " treatment  conversion     166\n",
       "            observation    519\n",
       " Name: segment, dtype: int64,\n",
       " 'alpha': 0.1,\n",
       " 'observation': 1000,\n",
       " 'cr_c': 0.27234927234927236,\n",
       " 'cr_t': 0.3198458574181118,\n",
       " 'difference': 0.047496585068839414,\n",
       " 'rel_diff': 0.17439585815352487,\n",
       " 'stddev': 0.028829973954243606,\n",
       " 'z': (-1.6448536269514729, 1.6448536269514722),\n",
       " 'conf_interval': (-0.04742108722355409, 0.04742108722355407),\n",
       " 'significant': True,\n",
       " 'result': 'Win',\n",
       " 't': 1.6474723544399246,\n",
       " 'p': 0.049887890020213765}"
      ]
     },
     "execution_count": 40,
     "metadata": {},
     "output_type": "execute_result"
    }
   ],
   "source": [
    "import math\n",
    "print(aa_test.totals)\n",
    "sensitivity = aa_test.find_detected_diff()\n",
    "print(sensitivity)\n",
    "aa_test.totals.treatment.conversion = math.ceil(\n",
    "    aa_test.totals.treatment.conversion.astype(float) \\\n",
    "    * (1 + sensitivity)\n",
    ")\n",
    "aa_test.t_test.compute()\n",
    "vars(aa_test.t_test)"
   ]
  },
  {
   "cell_type": "markdown",
   "metadata": {
    "slideshow": {
     "slide_type": "subslide"
    }
   },
   "source": [
    "Let’s see how that faster and more accurate approach runs on our sample"
   ]
  },
  {
   "cell_type": "code",
   "execution_count": 41,
   "metadata": {
    "slideshow": {
     "slide_type": "fragment"
    }
   },
   "outputs": [
    {
     "name": "stdout",
     "output_type": "stream",
     "text": [
      "After 500 runs, we estimate that this test should reliably (90%) detect improvements of at least 29.4%\n"
     ]
    }
   ],
   "source": [
    "sensitivity_test.run_batch(n_steps=4, run_per_step=125)\n",
    "print(sensitivity_test.format_result())"
   ]
  },
  {
   "cell_type": "markdown",
   "metadata": {
    "slideshow": {
     "slide_type": "subslide"
    }
   },
   "source": [
    "### Test sensitivity with observations\n",
    "\n",
    "Let’s now consider an test with more observations than just 1,000."
   ]
  },
  {
   "cell_type": "code",
   "execution_count": 42,
   "metadata": {
    "slideshow": {
     "slide_type": "subslide"
    }
   },
   "outputs": [
    {
     "data": {
      "text/plain": [
       "0.09478606871192263"
      ]
     },
     "execution_count": 42,
     "metadata": {},
     "output_type": "execute_result"
    }
   ],
   "source": [
    "more_sensitive_test = SensitivityTest(generate_events(n_obs=10_000))\n",
    "more_sensitive_test.run_batch(n_steps=4, run_per_step=125)"
   ]
  },
  {
   "cell_type": "code",
   "execution_count": 43,
   "metadata": {
    "slideshow": {
     "slide_type": "subslide"
    }
   },
   "outputs": [
    {
     "data": {
      "text/plain": [
       "0.028234950681393034"
      ]
     },
     "execution_count": 43,
     "metadata": {},
     "output_type": "execute_result"
    }
   ],
   "source": [
    "most_sensitive_test = SensitivityTest(generate_events(n_obs=100_000))\n",
    "most_sensitive_test.run_batch(n_steps=4, run_per_step=125)"
   ]
  },
  {
   "cell_type": "code",
   "execution_count": 44,
   "metadata": {},
   "outputs": [
    {
     "data": {
      "image/png": "[encoded data removed]",
      "text/plain": [
       "<Figure size 432x288 with 1 Axes>"
      ]
     },
     "metadata": {
      "needs_background": "light"
     },
     "output_type": "display_data"
    }
   ],
   "source": [
    "def multi_display(tests):    \n",
    "    for test in tests[1:]:\n",
    "        val = test.cum_dist.index\n",
    "        test.cum_dist[val > 0].plot(logx=True)\n",
    "    tests[0].display()\n",
    "    pass\n",
    "\n",
    "tests = [sensitivity_test, more_sensitive_test, most_sensitive_test]\n",
    "multi_display(tests)"
   ]
  },
  {
   "cell_type": "markdown",
   "metadata": {
    "slideshow": {
     "slide_type": "subslide"
    }
   },
   "source": [
    "Tests on small samples are less sensitive to minor changes.\n",
    "\n",
    "We already knew that testing on smaller samples means our false positive rate $\\alpha$ is harder to confirm _cf._ [AA-tests](#aa-test). _I.e._ We can’t control the quality of our test as well. Does this mean that, our prediction of the test sensitivity is but less reliable too?\n",
    "\n",
    "Let’s explore that by running multiple sensitivity tests on samples of different sizes."
   ]
  },
  {
   "cell_type": "code",
   "execution_count": 45,
   "metadata": {
    "slideshow": {
     "slide_type": "fragment"
    }
   },
   "outputs": [],
   "source": [
    "def compute_multiple_curves(events, n_curve=100):\n",
    "    list_sensitivity_test = []\n",
    "    for i in range(n_curve):\n",
    "        list_sensitivity_test.append(SensitivityTest(events))\n",
    "        list_sensitivity_test[i].run_batch()        \n",
    "    return list_sensitivity_test\n",
    "\n",
    "list_sensitivity_test = compute_multiple_curves(events)"
   ]
  },
  {
   "cell_type": "code",
   "execution_count": 46,
   "metadata": {
    "slideshow": {
     "slide_type": "skip"
    }
   },
   "outputs": [],
   "source": [
    "def display_multiple_curves(\n",
    "    list_sensitivity_test, \n",
    "    color=\"blue\", transparency=0.1, \n",
    "    padding=1.3, x_scale=\"linear\"\n",
    "):    \n",
    "    n_tests = len(list_sensitivity_test)\n",
    "    n_runs = list_sensitivity_test[0].n_runs\n",
    "    n_obs = list_sensitivity_test[0].test.t_test.observation\n",
    "\n",
    "    list_min_significant = []\n",
    "    for sensitive_test in list_sensitivity_test:\n",
    "        list_min_significant.append(sensitive_test.min_significant)\n",
    "    \n",
    "    fig, (ax1, ax2) = plt.subplots(2, 1, figsize=(6, 10))\n",
    "    ax1.set(\n",
    "        title=\"{0:,} sensitivity tests ({1:,} obs.)\".format(n_tests, n_obs),\n",
    "        xlabel=\"Difference size\",\n",
    "        ylabel=\"Number of AA-tests\",\n",
    "    )    \n",
    "    if x_scale == \"linear\":\n",
    "        x_lim = (0, max(list_min_significant)*padding)\n",
    "        ax1.set_xlim(x_lim)\n",
    "    if x_scale == \"log\":        \n",
    "        ax1.set_xscale('log')\n",
    "        x_lim = (val[val > 0], max(val))\n",
    "        ax1.set_xlim(x_lim)\n",
    "    ax1.hlines(list_sensitivity_test[0].reliable,\n",
    "              x_lim[0], x_lim[1],\n",
    "              color=\"red\", linestyles=\"dotted\")\n",
    "    for sensitive_test in list_sensitivity_test:\n",
    "        cum_dist = sensitive_test.cum_dist\n",
    "        val = cum_dist.index\n",
    "        use = (val > x_lim[0]) & (val < x_lim[1])\n",
    "        ax1.plot(cum_dist[use], color=color, alpha=transparency)\n",
    "    x_ticks = ax1.get_xticks()\n",
    "    ax1.set_xticklabels(['{:,.0%}'.format(x) for x in x_ticks])\n",
    "    \n",
    "    ax2.hist(list_min_significant)\n",
    "    x_ticks = ax2.get_xticks()\n",
    "    ax2.set_xticklabels(['{:,.0%}'.format(x) for x in x_ticks])\n",
    "    x = np.linspace(min(x_ticks), max(x_ticks), 20)\n",
    "    m = np.mean(list_min_significant)\n",
    "    s = np.std(list_min_significant)\n",
    "    ax2.plot(x, norm.pdf(x, m, s))\n",
    "    ax2.set(\n",
    "        title=\"Minimum difference reliably detectable\",\n",
    "        xlabel=\"Reliably ({0:.0%}) detectable difference\".format(1-alpha),\n",
    "        ylabel=\"Number of Sensitivity tests\",\n",
    "    )    \n",
    "\n",
    "    plt.show()"
   ]
  },
  {
   "cell_type": "code",
   "execution_count": 47,
   "metadata": {},
   "outputs": [
    {
     "data": {
      "image/png": "[encoded data removed]",
      "text/plain": [
       "<Figure size 432x720 with 2 Axes>"
      ]
     },
     "metadata": {
      "needs_background": "light"
     },
     "output_type": "display_data"
    }
   ],
   "source": [
    "display_multiple_curves(list_sensitivity_test)"
   ]
  },
  {
   "cell_type": "code",
   "execution_count": 54,
   "metadata": {},
   "outputs": [
    {
     "data": {
      "image/png": "[encoded data removed]",
      "text/plain": [
       "<Figure size 432x720 with 2 Axes>"
      ]
     },
     "metadata": {
      "needs_background": "light"
     },
     "output_type": "display_data"
    }
   ],
   "source": [
    "list_less_sensitivity_test = compute_multiple_curves(\n",
    "    generate_events(n_obs=200),\n",
    ")\n",
    "display_multiple_curves(list_less_sensitivity_test)"
   ]
  },
  {
   "cell_type": "markdown",
   "metadata": {
    "slideshow": {
     "slide_type": "slide"
    }
   },
   "source": [
    "## Small samples\n",
    "\n",
    "Let’s take an extreme example (10 observations, 10% conversion rate) and see how our code fails on such a small sample."
   ]
  },
  {
   "cell_type": "code",
   "execution_count": 48,
   "metadata": {
    "slideshow": {
     "slide_type": "subslide"
    }
   },
   "outputs": [],
   "source": [
    "def try_small_sample(cr=.2, n_obs=20, n_try=4):\n",
    "    for i in range(n_try):\n",
    "        events = generate_events(cr=cr, n_obs=n_obs)\n",
    "        # cr=.3, n_users=400, n_obs=1_000, pp=.4\n",
    "        batch_aa_test = BatchAATest(events)\n",
    "        try:\n",
    "            batch_aa_test.run_batch(n_steps=1, run_per_step=1000)\n",
    "            batch_aa_test.display()\n",
    "        except Exception as e:\n",
    "            print(type(e).__name__, e)\n",
    "            print(batch_aa_test.test.totals)\n",
    "            break"
   ]
  },
  {
   "cell_type": "code",
   "execution_count": 49,
   "metadata": {
    "scrolled": true,
    "slideshow": {
     "slide_type": "fragment"
    }
   },
   "outputs": [
    {
     "name": "stdout",
     "output_type": "stream",
     "text": [
      "AttributeError 'Series' object has no attribute 'conversion'\n",
      "segment    event_type \n",
      "control    observation     8\n",
      "treatment  conversion      4\n",
      "           observation    12\n",
      "Name: segment, dtype: int64\n"
     ]
    }
   ],
   "source": [
    "try_small_sample()"
   ]
  },
  {
   "cell_type": "markdown",
   "metadata": {
    "slideshow": {
     "slide_type": "subslide"
    }
   },
   "source": [
    "### Introduce data quality tests\n",
    "\n",
    "If n_users < 100, then random segments might not include both active users assigned to `control` or `treatment`. We want to check that there are enough in both segments to run a test."
   ]
  },
  {
   "cell_type": "code",
   "execution_count": 55,
   "metadata": {
    "slideshow": {
     "slide_type": "fragment"
    }
   },
   "outputs": [],
   "source": [
    "# TODO: Handle more than a binary control/treatment split\n",
    "\n",
    "def is_segment_balanced(self, min_ratio=.4):    \n",
    "    try:\n",
    "        oc = self.totals.control.observation\n",
    "        ot = self.totals.treatment.observation\n",
    "        min_ratio = (oc + ot) * min_ratio\n",
    "        balanced = (min(oc, ot) >= min_ratio)\n",
    "        \n",
    "        cc = self.totals.control.conversion\n",
    "        ct = self.totals.treatment.conversion\n",
    "        conversion_exist = (cc > 0) & (ct > 0)\n",
    "        \n",
    "        self.balanced = balanced & conversion_exist\n",
    "    except:\n",
    "        self.balanced = False\n",
    "    return self.balanced\n",
    "\n",
    "ABTest.is_segment_balanced = is_segment_balanced"
   ]
  },
  {
   "cell_type": "code",
   "execution_count": null,
   "metadata": {
    "slideshow": {
     "slide_type": "subslide"
    }
   },
   "outputs": [],
   "source": [
    "def test_with_random_segment(self, verbose=False):\n",
    "    self.balanced = False\n",
    "    while self.balanced is False:\n",
    "        self.segment = generate_segment_from_events(self.events)\n",
    "        self.test = ABTest(self.events, self.segment)        \n",
    "        self.test.totals = compute_totals(self.events, self.segment)\n",
    "        self.balanced = self.test.is_segment_balanced()\n",
    "        if verbose and not self.balanced:\n",
    "            print(\"Segment not balanced\", self.test.totals)\n",
    "    self.test.t_test = TTest(self.test.totals)\n",
    "    self.test.t_test.compute()\n",
    "    self.test.decision = self.test.t_test.format_decision()\n",
    "    return self.test\n",
    "\n",
    "BatchAATest.test_with_random_segment = test_with_random_segment"
   ]
  },
  {
   "cell_type": "code",
   "execution_count": 56,
   "metadata": {
    "scrolled": true,
    "slideshow": {
     "slide_type": "subslide"
    }
   },
   "outputs": [
    {
     "name": "stdout",
     "output_type": "stream",
     "text": [
      "120 false positives over 1000 AA-tests.\n",
      "We measure a false positive rate between 10.3% and 13.7%.\n",
      "This is not consistent with our rate set at 10.0%. \n",
      "16 false positives over 1000 AA-tests.\n",
      "We measure a false positive rate between 0.9% and 2.3%.\n",
      "This is not consistent with our rate set at 10.0%. \n",
      "2 false positives over 1000 AA-tests.\n",
      "We measure a false positive rate between -0.0% and 0.4%.\n",
      "This is not consistent with our rate set at 10.0%. \n",
      "0 false positives over 1000 AA-tests.\n",
      "We measure a false positive rate between 0.0% and 0.0%.\n",
      "This is not consistent with our rate set at 10.0%. \n"
     ]
    }
   ],
   "source": [
    "try_small_sample()"
   ]
  },
  {
   "cell_type": "markdown",
   "metadata": {
    "slideshow": {
     "slide_type": "fragment"
    }
   },
   "source": [
    "Tests on samples as small as 20 (to be split in two) have terrible behaviour but our edited `BatchAATest.test_with_random_segment()` iterates until we had segments that respect basic rules (`balanced` and `conversion_exist`).\n",
    "\n",
    "If our constraints on segment are more constrained, we can reject some randomised splits to make sure the test is sensical. Let’s see what those constrained can be in practice."
   ]
  },
  {
   "cell_type": "markdown",
   "metadata": {
    "slideshow": {
     "slide_type": "slide"
    }
   },
   "source": [
    "## Units in groups\n",
    "\n",
    "Imagine you have 1,000 users to split, but they belong to 100 cities and you want to make sure the distribution in each segment per city is reasonnable."
   ]
  },
  {
   "cell_type": "code",
   "execution_count": null,
   "metadata": {
    "slideshow": {
     "slide_type": "fragment"
    }
   },
   "outputs": [],
   "source": [
    "# Build `country_id` in `events`"
   ]
  },
  {
   "cell_type": "markdown",
   "metadata": {
    "slideshow": {
     "slide_type": "subslide"
    }
   },
   "source": [
    "### Swaps\n",
    "\n",
    "Segments are less random that way.\n"
   ]
  },
  {
   "cell_type": "code",
   "execution_count": null,
   "metadata": {
    "slideshow": {
     "slide_type": "fragment"
    }
   },
   "outputs": [],
   "source": [
    "# - Find the main difference\n",
    "# - Identify a unit that could address that\n",
    "# - Iterate"
   ]
  },
  {
   "cell_type": "markdown",
   "metadata": {
    "slideshow": {
     "slide_type": "slide"
    }
   },
   "source": [
    "## Units of a certain scale\n",
    "\n",
    "Imagine you are testing per city. An similar number of city doesn’t means the sample is balanced — not if city size is based on a Zipf law.\n",
    "\n",
    "What’s the impact of re-balancing on sensitivity?"
   ]
  },
  {
   "cell_type": "code",
   "execution_count": null,
   "metadata": {},
   "outputs": [],
   "source": [
    "\n",
    "# Build `shop_id` in `events`"
   ]
  },
  {
   "cell_type": "markdown",
   "metadata": {
    "slideshow": {
     "slide_type": "subslide"
    }
   },
   "source": [
    "### Swaps\n",
    "\n",
    "Segments are less random that way.\n"
   ]
  },
  {
   "cell_type": "code",
   "execution_count": null,
   "metadata": {
    "slideshow": {
     "slide_type": "fragment"
    }
   },
   "outputs": [],
   "source": [
    "# - Find the main unbalance between segments of shops\n",
    "# - Identify a shop that could address that\n",
    "# - Iterate"
   ]
  },
  {
   "cell_type": "code",
   "execution_count": null,
   "metadata": {},
   "outputs": [],
   "source": []
  },
  {
   "cell_type": "markdown",
   "metadata": {
    "slideshow": {
     "slide_type": "skip"
    }
   },
   "source": [
    "With small samples, our confidence interval for $\\alpha$ is often far from expectations. \n",
    "\n",
    "When dealing with small samples, check the false positive rates. Make sure that you are comfortable with how large they can be. That’s one of the issues with smaller samples: results are less reliable -- unless you are checking a large change. Let’s look into that."
   ]
  },
  {
   "cell_type": "markdown",
   "metadata": {
    "slideshow": {
     "slide_type": "skip"
    }
   },
   "source": [
    "### Issue with small samples\n",
    "\n",
    "1. Less sensitive overall: use observations as a Bayesian update\n",
    "1. Less able to check for sensitivity and false positives\n",
    "1. There might not be 10,000 good, possible random samples\n"
   ]
  },
  {
   "cell_type": "code",
   "execution_count": null,
   "metadata": {},
   "outputs": [],
   "source": []
  },
  {
   "cell_type": "markdown",
   "metadata": {
    "slideshow": {
     "slide_type": "slide"
    }
   },
   "source": [
    "# Complications"
   ]
  },
  {
   "cell_type": "markdown",
   "metadata": {
    "slideshow": {
     "slide_type": "slide"
    }
   },
   "source": [
    "\n",
    "## Unit selection with AA tests\n",
    "<a name=\"unit_selection\"></a>\n",
    "\n",
    "### Choosing a test unit on web traffic: observation, session, user, country\n",
    "\n",
    "Our `event` only knows about `user_id`. Let’s see what happens when we include realistic observations, session and countries in addition to users. "
   ]
  },
  {
   "cell_type": "code",
   "execution_count": 53,
   "metadata": {
    "slideshow": {
     "slide_type": "skip"
    }
   },
   "outputs": [
    {
     "ename": "IndentationError",
     "evalue": "expected an indented block (<ipython-input-53-12429157b608>, line 3)",
     "output_type": "error",
     "traceback": [
      "\u001b[0;36m  File \u001b[0;32m\"<ipython-input-53-12429157b608>\"\u001b[0;36m, line \u001b[0;32m3\u001b[0m\n\u001b[0;31m    def generate_user_country(users):\u001b[0m\n\u001b[0m      ^\u001b[0m\n\u001b[0;31mIndentationError\u001b[0m\u001b[0;31m:\u001b[0m expected an indented block\n"
     ]
    }
   ],
   "source": [
    "def generate_user_country(users):\n",
    "    \n",
    "def generate_user_country(users):\n",
    "    \n",
    "\n",
    "class ABTest(ABTest):\n",
    "    def __init__(self):\n",
    "        self.col_names = [\"event_timestamp\", \"user_id\", \"session_id\", \"event_type\", \"segment\", \"device_type\"]\n",
    "        self.col_types = ['datetime64', 'int', 'int', 'category', 'category', 'category']\n",
    "        self.specify_type()\n",
    "\n",
    "# def generate_observation_and_conversion(\n",
    "#     conversion_rate = 0.3,\n",
    "#     nb_users= 400,\n",
    "#     nb_events = 1000,\n",
    "#     pareto_parameter_conversion_delay = .4,\n",
    "# ):\n",
    "#     \"\"\"\n",
    "#     Given parameters about a population,\n",
    "#     Returns a list of random events, with a possible conversion and delay\n",
    "#     \"\"\"\n",
    "#     random_dates = pd.Series(np.random.random(size=(nb_events)))\n",
    "#     random_dates = random_dates.apply(date_from_value)\n",
    "#     random_users = pd.Series(np.random.randint(nb_users, size=(nb_events)))\n",
    "#     random_convs = pd.Series(np.random.rand(nb_events) < conversion_rate)\n",
    "#     random_conv_delay = pd.Series(np.random.pareto(\n",
    "#         pareto_parameter_conversion_delay, size=(nb_events)\n",
    "#     ))\n",
    "#     random_events = pd.concat([\n",
    "#         random_dates, random_users, random_convs, random_conv_delay,\n",
    "#     ], axis=1, sort=False)\n",
    "#     random_events.columns = [\"event_timestamp\", \"user_id\", \"conversion\", \"conversion_delay\",]\n",
    "#     return random_events        \n",
    "        \n",
    "# def generate_events(cr=.3, n_users=400, n_obs=1_000, pp=.4):\n",
    "#     \"\"\"\n",
    "#     Given optional key parameters about an set of events\n",
    "#     Return a sample set of events with observations and conversions\n",
    "#     \"\"\"\n",
    "#     observation = generate_observation_and_conversion(cr, n_users, n_obs, pp)\n",
    "#     convertions = generate_conversion_from_observation(observation)\n",
    "#     observation = observation[[\"event_timestamp\", \"user_id\"]]\n",
    "#     observation = observation.assign(event_type = \"observation\")\n",
    "#     convertions = convertions.assign(event_type = \"conversion\")\n",
    "#     events = pd.concat([observation, convertions], axis=0)    \n",
    "#     events = events.sort_values(by=[\"event_timestamp\"]).reset_index(drop=True)\n",
    "#     return events        \n",
    "        "
   ]
  },
  {
   "cell_type": "markdown",
   "metadata": {
    "slideshow": {
     "slide_type": "subslide"
    }
   },
   "source": [
    "What we did in the first part wasn’t appropriate:\n",
    "- we randomised the segment per `user_id`;\n",
    "- the metric was a ratio on the number of `observation`.\n",
    "\n",
    "You should randomise per the same unit that you are testing, in case your metric is correlated with the difference between the two."
   ]
  },
  {
   "cell_type": "markdown",
   "metadata": {
    "slideshow": {
     "slide_type": "subslide"
    }
   },
   "source": [
    "Using smaller units can increase the sensitivity of the test, but it raises concerns about user experience: they might prefer consistency."
   ]
  },
  {
   "cell_type": "code",
   "execution_count": null,
   "metadata": {},
   "outputs": [],
   "source": [
    "### Exclude double-exposed users?"
   ]
  },
  {
   "cell_type": "markdown",
   "metadata": {
    "slideshow": {
     "slide_type": "skip"
    }
   },
   "source": [
    "### Why things are not what it seems\n",
    "\n",
    "Detailed about user aspects"
   ]
  },
  {
   "cell_type": "code",
   "execution_count": null,
   "metadata": {},
   "outputs": [],
   "source": [
    "# observation, session, user"
   ]
  },
  {
   "cell_type": "code",
   "execution_count": null,
   "metadata": {},
   "outputs": [],
   "source": [
    "# sites and company\n",
    "\n",
    "# Shuffling because size difference"
   ]
  },
  {
   "cell_type": "code",
   "execution_count": null,
   "metadata": {},
   "outputs": [],
   "source": [
    "class TestSample:\n",
    "    def __init__(self):\n",
    "        self.segment = pd.DataFrame([])\n",
    "        self.sample_size = 0\n",
    "        self.nb_observations = 0\n",
    "        self.nb_conversions = 0\n",
    "    \n",
    "    def generate_random(\n",
    "        self,\n",
    "        sample_size=10_000,\n",
    "        segment_names=['Control', 'Treatment'],\n",
    "        conversion_rate=0.3,\n",
    "    ):  \n",
    "        nb_segments = len(segment_names)\n",
    "        event = EventData(sample_size)\n",
    "        # segment = segment_names\n",
    "        \n",
    "    def remove_inconsistencies(self):\n",
    "        pass\n",
    "    def detect_inconsistencies(self):\n",
    "        pass"
   ]
  },
  {
   "cell_type": "code",
   "execution_count": null,
   "metadata": {
    "slideshow": {
     "slide_type": "fragment"
    }
   },
   "outputs": [],
   "source": [
    "# for each unit type\n",
    "#   for 10_000\n",
    "#     run function that does aa_test\n",
    "# show outcome"
   ]
  },
  {
   "cell_type": "markdown",
   "metadata": {
    "slideshow": {
     "slide_type": "subslide"
    }
   },
   "source": [
    "### Unit selection with Sensitivity\n"
   ]
  },
  {
   "cell_type": "code",
   "execution_count": null,
   "metadata": {
    "slideshow": {
     "slide_type": "fragment"
    }
   },
   "outputs": [],
   "source": [
    "# for each unit type\n",
    "#   for 10_000\n",
    "#     run function that does sensitivity\n",
    "# show outcome"
   ]
  },
  {
   "cell_type": "markdown",
   "metadata": {
    "slideshow": {
     "slide_type": "fragment"
    }
   },
   "source": [
    "### Why the discrepancy? Correlation\n",
    "\n",
    "In typical web traffic data, there are correlations between session and observation and conversion rates.\n"
   ]
  },
  {
   "cell_type": "markdown",
   "metadata": {},
   "source": [
    "## Identification after the fact\n",
    "<a name=\"id_post_exposure\"></a>\n",
    "\n",
    "Imagine some users go through the site without identification. They are treated as a distinct users first, and could be exposed to another experience.\n"
   ]
  },
  {
   "cell_type": "code",
   "execution_count": null,
   "metadata": {},
   "outputs": [],
   "source": [
    "# def users_log_in_after_fact():\n",
    "# "
   ]
  },
  {
   "cell_type": "markdown",
   "metadata": {},
   "source": [
    "### Double-exposure\n",
    "\n",
    "If that is the case, we have to exclude them."
   ]
  },
  {
   "cell_type": "code",
   "execution_count": null,
   "metadata": {},
   "outputs": [],
   "source": [
    "# def exclude_double_exposure()"
   ]
  },
  {
   "cell_type": "markdown",
   "metadata": {},
   "source": [
    "This reduces significance if you have a large number of non-logged in users."
   ]
  },
  {
   "cell_type": "markdown",
   "metadata": {
    "slideshow": {
     "slide_type": "slide"
    }
   },
   "source": [
    "## Multiple overlaping experiments\n",
    "<a name=\"overlap\"></a>\n",
    "\n",
    "### Risk of overlap\n"
   ]
  },
  {
   "cell_type": "code",
   "execution_count": null,
   "metadata": {
    "slideshow": {
     "slide_type": "fragment"
    }
   },
   "outputs": [],
   "source": []
  },
  {
   "cell_type": "markdown",
   "metadata": {
    "slideshow": {
     "slide_type": "fragment"
    }
   },
   "source": [
    "### Detecting interference and exclusion"
   ]
  },
  {
   "cell_type": "code",
   "execution_count": null,
   "metadata": {},
   "outputs": [],
   "source": []
  },
  {
   "cell_type": "markdown",
   "metadata": {
    "slideshow": {
     "slide_type": "slide"
    }
   },
   "source": [
    "## Multiple overlaping experiments\n",
    "\n",
    "### Multi-variate testing \n",
    "\n",
    "<a name=\"multi-variate_test\"></a>\n",
    "\n",
    "Distinct from (additive) multi-variable test: ABC-test.\n",
    "\n",
    "Multiplicative: A-A', A-B', B-A', B-B'.\n",
    "Four way test? Detect significant difference between (A * A') and A-A'"
   ]
  },
  {
   "cell_type": "markdown",
   "metadata": {
    "slideshow": {
     "slide_type": "slide"
    }
   },
   "source": [
    "# Test on Small samples"
   ]
  },
  {
   "cell_type": "markdown",
   "metadata": {
    "slideshow": {
     "slide_type": "slide"
    }
   },
   "source": [
    "# Test on Small samples\n",
    "<a name=\"small_sample\"></a>\n",
    "\n",
    "## Random assignment: imprecise\n"
   ]
  },
  {
   "cell_type": "markdown",
   "metadata": {
    "slideshow": {
     "slide_type": "slide"
    }
   },
   "source": [
    "## Smart shuffle to optimise split\n",
    "<a name=\"reshuffle\"></a>"
   ]
  },
  {
   "cell_type": "markdown",
   "metadata": {
    "slideshow": {
     "slide_type": "slide"
    }
   },
   "source": [
    "## Control for unit type and activity level\n",
    "<a name=\"type_activity\"></a>\n",
    "\n",
    "### Type\n",
    "\n",
    "Is the activity level correlated with the conversion rate? Would the test likely have different impact on each level?"
   ]
  },
  {
   "cell_type": "code",
   "execution_count": null,
   "metadata": {
    "slideshow": {
     "slide_type": "fragment"
    }
   },
   "outputs": [],
   "source": [
    "# modify the session data to include type"
   ]
  },
  {
   "cell_type": "markdown",
   "metadata": {
    "slideshow": {
     "slide_type": "fragment"
    }
   },
   "source": [
    "If we try to re-sample to optimise for balanced type"
   ]
  },
  {
   "cell_type": "code",
   "execution_count": null,
   "metadata": {
    "slideshow": {
     "slide_type": "fragment"
    }
   },
   "outputs": [],
   "source": [
    "# Re-shuffle and re-test"
   ]
  },
  {
   "cell_type": "markdown",
   "metadata": {
    "slideshow": {
     "slide_type": "subslide"
    }
   },
   "source": [
    "### Activity level\n",
    "\n",
    "Is the activity level correlated with the conversion rate? Would the test likely have different impact on each level?"
   ]
  },
  {
   "cell_type": "code",
   "execution_count": null,
   "metadata": {
    "slideshow": {
     "slide_type": "fragment"
    }
   },
   "outputs": [],
   "source": [
    "# session data already has activity level"
   ]
  },
  {
   "cell_type": "markdown",
   "metadata": {
    "slideshow": {
     "slide_type": "fragment"
    }
   },
   "source": [
    "If we try to re-sample to optimise for balanced activity level"
   ]
  },
  {
   "cell_type": "code",
   "execution_count": null,
   "metadata": {
    "slideshow": {
     "slide_type": "fragment"
    }
   },
   "outputs": [],
   "source": [
    "# Re-shuffle and re-test"
   ]
  },
  {
   "cell_type": "markdown",
   "metadata": {
    "slideshow": {
     "slide_type": "slide"
    }
   },
   "source": [
    "## Exclude outliers\n",
    "<a name=\"outliers\"></a>\n",
    "\n",
    "Sometimes, some units have so much activity that you can’t swap to balance the samples. In this case, it’s reasonnable to consider that those units can’t be properly tested.\n"
   ]
  },
  {
   "cell_type": "markdown",
   "metadata": {
    "slideshow": {
     "slide_type": "skip"
    }
   },
   "source": [
    "## Observations as a Bayesian update\n",
    "\n",
    "### Different level with uneven size"
   ]
  },
  {
   "cell_type": "markdown",
   "metadata": {
    "slideshow": {
     "slide_type": "slide"
    }
   },
   "source": [
    "# Summary\n",
    "<a name=\"summary\"></a>\n",
    "\n",
    "You can test on small samples, but it’s less sensitive:\n",
    "- consider the **relevant unit** carefully;\n",
    "- run **sensitivity testing**;\n",
    "- swap or exclude units to **optimise** the split;\n",
    "- **control** for activity, type."
   ]
  },
  {
   "cell_type": "markdown",
   "metadata": {
    "slideshow": {
     "slide_type": "subslide"
    }
   },
   "source": [
    "### Other great content\n",
    "\n",
    "- [Detailed advice on common testing issues](https://towardsdatascience.com/chasing-statistical-ghosts-in-experimentation-3f393323a1c1) from Lizzie Eardley, with Colin McFarland and Tom Oliver of SkyScanner;\n",
    "- [Guidelines for AB testing](https://robinsones.github.io/Guidelines-for-AB-Testing/) from Emily Robinson of Etsy and DataCamp;\n",
    "- [Fully detailed code](https://towardsdatascience.com/the-math-behind-a-b-testing-with-example-code-part-1-of-2-7be752e1d06f) from Nguyen Ngo of TowardsDataScience;\n",
    "- [Arguments for a Bayesian approach](https://medium.com/convoy-tech/the-power-of-bayesian-a-b-testing-f859d2219d5) from Michael Frasco of Convoy and for  \n",
    "  [a mixed frequentist and Bayesian approach](https://www.convertize.com/ab-test-significance/) from Philippe Aimé of Convertize."
   ]
  },
  {
   "cell_type": "code",
   "execution_count": null,
   "metadata": {},
   "outputs": [],
   "source": []
  }
 ],
 "metadata": {
  "celltoolbar": "Slideshow",
  "kernelspec": {
   "display_name": "Python 3",
   "language": "python",
   "name": "python3"
  },
  "language_info": {
   "codemirror_mode": {
    "name": "ipython",
    "version": 3
   },
   "file_extension": ".py",
   "mimetype": "text/x-python",
   "name": "python",
   "nbconvert_exporter": "python",
   "pygments_lexer": "ipython3",
   "version": "3.7.3"
  }
 },
 "nbformat": 4,
 "nbformat_minor": 2
}
