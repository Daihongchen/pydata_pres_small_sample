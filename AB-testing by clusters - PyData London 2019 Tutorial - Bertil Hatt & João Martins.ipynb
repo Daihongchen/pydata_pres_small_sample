{
 "cells": [
  {
   "cell_type": "markdown",
   "metadata": {
    "slideshow": {
     "slide_type": "slide"
    }
   },
   "source": [
    "# AB-testing by clusters\n",
    "\n",
    "## How to run experiments on small data sets\n",
    "[Bertil Hatt](https://www.linkedin.com/in/bertilhatt/) & [João F. Martins](https://www.linkedin.com/in/joão-fidalgo-martins-8837b07a\n",
    ") — [Farfech](https://www.farfetchtechblog.com/en/)"
   ]
  },
  {
   "cell_type": "markdown",
   "metadata": {
    "slideshow": {
     "slide_type": "subslide"
    }
   },
   "source": [
    "## This presentation is relevant if you are curious about:\n",
    "- AB-tests _aka_ Double-blind randomised control trials (RCT)\n",
    "- Python code running such tests in general\n",
    "- specificially on small samples, for instance:\n",
    "  - Medical treatment at the experimental phase, _i.e._ with few patients\n",
    "  - New company or B2B, platform, market place structure with few clients\n",
    "  - External constraints, _e.g._ over-the-line (OTL), enrollment, relations between clients\n",
    "\n",
    "Constraints are often expressed as *clusters* of observations.  \n",
    "Another name for that pattern is *quasi-experiments*."
   ]
  },
  {
   "cell_type": "markdown",
   "metadata": {
    "slideshow": {
     "slide_type": "subslide"
    }
   },
   "source": [
    "## Contents\n",
    "<a name=\"contents_1\"></a>\n",
    "\n",
    "[Motivation](#intro)  \n",
    "[I. How to run a test](#principles)  \n",
    "[_Generate random samples_](#random_generation)  \n",
    "[II. Process results](#code)  \n",
    "[III. AA-tests](#aa_test)  \n",
    "[IV. Sensitivity testing](#sensitivity)  \n",
    "[V. Process the source dataset](#source_data)  \n",
    "[VI. Complications](#unit_selection)  \n",
    "[VII. Overlapping experiments](#overlap)  \n",
    "[_Summary_](#summary)"
   ]
  },
  {
   "cell_type": "markdown",
   "metadata": {
    "slideshow": {
     "slide_type": "subslide"
    }
   },
   "source": [
    "# Why run experiments when you have small samples\n",
    "<a name=\"intro\"></a>\n",
    "\n",
    "\n",
    "## Why AB tests (in general)?\n",
    "\n",
    "Measuring the impact of a change\n",
    "- When circumstances changes your objectives\n",
    "- Multiple simultaneous interfering tests\n",
    "- Explicit precision over impact measure"
   ]
  },
  {
   "cell_type": "markdown",
   "metadata": {
    "slideshow": {
     "slide_type": "fragment"
    }
   },
   "source": [
    "## Use cases with small samples\n",
    "- Early clinical tests with few patients\n",
    "- New company, B2B with few partners\n",
    "  - Multi-sided market, sides with few large blocks\n",
    "- Quasi experiment _aka_ Experiment by cluster"
   ]
  },
  {
   "cell_type": "markdown",
   "metadata": {
    "slideshow": {
     "slide_type": "fragment"
    }
   },
   "source": [
    "## Does it make sense to test on small sample?\n",
    "  - Yes but tests have **low power** _i.e._ can only detect large impact\n",
    "  - Manage stakeholders’ expectations, Monitor segmentation"
   ]
  },
  {
   "cell_type": "markdown",
   "metadata": {
    "slideshow": {
     "slide_type": "subslide"
    }
   },
   "source": [
    "### Running, open, free to use code and some equations\n",
    "\n",
    "This presentation and the notebook it is based on is freely available on-line. It contains some equations (for the $t$-test) and a lot of Python code — enough to run full AB-test analysis.\n",
    "\n",
    "All the code that you need will appear on the screen. The code runs on Python 3.x and basic PyData libraries (`pandas`, `numpy`, `copy`, `math`, `scipy.stats`, `matplotlib.pyplot`, `datetime`).\n",
    "\n",
    "The code in most cells should take less time to run than for us to make the presentation. There’s a handful of exception with a `Warning` comment letting you know some lines takes minutes to compute.\n",
    "\n",
    "We encourage you to download the notebook, follow along, execute cells as we go, modify and **ask questions about things you can change**."
   ]
  },
  {
   "cell_type": "markdown",
   "metadata": {
    "slideshow": {
     "slide_type": "slide"
    }
   },
   "source": [
    "# I. How to run a test\n",
    "<a name=\"principles\"></a>"
   ]
  },
  {
   "cell_type": "markdown",
   "metadata": {
    "slideshow": {
     "slide_type": "slide"
    }
   },
   "source": [
    "## Define your experiment\n",
    "\n",
    "### Population, treatment, objective metric, minimum relevant impact\n",
    "- Define population, isolate independent units (users)\n",
    "- Clarify your segments: Control _vs._ Treatment\n",
    "- Specify your Objective metric\n",
    "  - in this presentation, we have simplified it to a conversion rate of two integers: Conversions over Observations \n",
    "- Relevant impact: Minimum detectable effect and Expected duration"
   ]
  },
  {
   "cell_type": "markdown",
   "metadata": {
    "slideshow": {
     "slide_type": "subslide"
    }
   },
   "source": [
    "### Statistical test – Simplified\n",
    "\n",
    "We estimate the Conversion rate for control and treatment in their respective sample.\n",
    "\n",
    "$$ \\hat{{CR}_C} = \\frac{\\#conv_C}{\\#obs_C} \\quad \\hat{{CR}_T} = \\frac{\\#conv_T}{\\#obs_T}$$ \n",
    "\n",
    "the variance of the conversion rate for control is:\n",
    "$$ \\hat{V} \\left({CR}_C\\right) = \\frac{\\hat{{CR}_C}(1-\\hat{{CR}_C})}{\\#obs_C} $$"
   ]
  },
  {
   "cell_type": "markdown",
   "metadata": {
    "slideshow": {
     "slide_type": "fragment"
    }
   },
   "source": [
    "We consider the estimates on Control and Treatment to be independent,  \n",
    "therefore the theoretical variance for their difference is :\n",
    "$$ V \\left(d_{C-T}\\right) =\n",
    "   V \\left(CR_T - CR_C\\right) =\n",
    "\\frac{{CR}_C(1-{CR}_C)}{\\#obs_C} + \\frac{{CR}_T(1-{CR}_T)}{\\#obs_T} $$\n",
    "\n",
    "and the estimated standard deviation is:\n",
    "$$ \\hat\\sigma\\left(d_{C-T}\\right) =\n",
    "\\sqrt{\\frac{\\hat{CR_C}(1-\\hat{CR_C})}{\\#obs_C} +\n",
    "      \\frac{\\hat{CR_T}(1-\\hat{CR_T})}{\\#obs_T}} $$"
   ]
  },
  {
   "cell_type": "markdown",
   "metadata": {
    "slideshow": {
     "slide_type": "subslide"
    }
   },
   "source": [
    "### Statistical test – Simplified (Continued)\n",
    "\n",
    "We consider the difference to be **significant** by proving unlikely the hypothesis of No difference, specifically:\n",
    "- if we assume Control and Treatment are the same,\n",
    "- would the difference only happen in the most eggregious cases, say 5%?\n",
    "\n",
    "  _i.e._ Is the difference in conversion rate **outside of the confidence interval** for Control?\n",
    "\n",
    "For $\\alpha = \\: 5\\%$, that means $ z_{1-\\alpha/2} = 1.96 $ standard deviations on either side of the estimate.  \n",
    "For $\\alpha = 10\\%$, that means $z_{1-\\alpha/2} = 1.65$.\n",
    "\n",
    "$$ \\hat{d}_{C-T} \\in \\left[ 0 \\pm z.\\hat\\sigma\\left(d_{C-T}\\right)\\right] $$"
   ]
  },
  {
   "cell_type": "markdown",
   "metadata": {
    "slideshow": {
     "slide_type": "subslide"
    }
   },
   "source": [
    "### Minimal detectable effect\n",
    "\n",
    "Given $p_C = \\hat{CR_C}, p_T = \\hat{CR_T} $ and an agreed $z$, the **minimal detectable effect** (MDE) is\n",
    "\n",
    "$$ \\begin{align}\n",
    "MDE & = z.\\hat\\sigma(d_{C-T}) \\\\\n",
    "& = z \\sqrt{\\frac{p_C(1-p_C)}{\\#obs_C}+\\frac{p_T(1-p_T)}{\\#obs_T}}\n",
    "\\end{align}$$"
   ]
  },
  {
   "cell_type": "markdown",
   "metadata": {
    "slideshow": {
     "slide_type": "fragment"
    }
   },
   "source": [
    "Therefore, assuming that we have a balanced segment ($\\#obs_C = \\#obs_T$) and that we have a rought estimation $p$ of $p_C$ and $p_T$, we can compute how many observations are needed for a test to reach a relevant minimal detectable effect:\n",
    "\n",
    "$$ \\begin{align}\n",
    "MDE \\quad \\approx & \\quad z \\sqrt{2 \\frac{p(1-p)}{\\#obs_C}} \\\\\n",
    "\\#obs_C \\quad \\approx  & \\quad 2 p(1-p)\\left(\\frac{z}{MDE}\\right)^2 \\\\\n",
    "\\#obs \\quad = \\quad \\#obs_T + \\#obs_C \\quad \\approx & \\quad 4 p(1-p)\\left(\\frac{z}{MDE}\\right)^2\n",
    "\\end{align}$$"
   ]
  },
  {
   "cell_type": "markdown",
   "metadata": {
    "slideshow": {
     "slide_type": "fragment"
    }
   },
   "source": [
    "The expected test **duration** is inferred from the expected traffic. For a MDE twice more refined, you’ll need four times more observations, _i.e._ wait four times longer. "
   ]
  },
  {
   "cell_type": "markdown",
   "metadata": {
    "slideshow": {
     "slide_type": "subslide"
    }
   },
   "source": [
    "### Test statistics\n",
    "\n",
    "We can also express the test with a $t$-score and a $p$-value: \n",
    "\n",
    "- the $t$-score is the number of standard deviation observed, _i.e._ $$ t = \\frac{\\hat{d_{C-T}}}{\\hat{\\sigma}\\left(d_{C-T}\\right)} $$\n",
    "- the $p$-value is the probability that our data would be at least this inconsistent given our hypothesis. It’s typically computed using known $t$-test distributions dependent of the degrees of freedom of the test, _i.e._ the sample."
   ]
  },
  {
   "cell_type": "markdown",
   "metadata": {
    "slideshow": {
     "slide_type": "fragment"
    }
   },
   "source": [
    "Those correspond to a frequentist test. If you want to contribute to this repository and presentation by submitting a Bayesian tests to replace `TTest`, you are more than welcome to do so."
   ]
  },
  {
   "cell_type": "markdown",
   "metadata": {
    "slideshow": {
     "slide_type": "subslide"
    }
   },
   "source": [
    "### Caveat\n",
    "\n",
    "We are assuming that:\n",
    "1. we observe at most one conversion per observation;\n",
    "  - This is not true for test on non-binary quantities.\n",
    "1. there are enough observations in total and;\n",
    "1. the conversion rate is far enough from zero  \n",
    "   for a Bernoulli sample to be assumed Gaussian;\n",
    "  - This is not true for very small samples.\n",
    "1. each observation (and conversion) is independent;\n",
    "  - This might not be true if events can be grouped.\n",
    "\n",
    "Most of those assumptions will be challenged further down.  "
   ]
  },
  {
   "cell_type": "markdown",
   "metadata": {
    "slideshow": {
     "slide_type": "slide"
    }
   },
   "source": [
    "# _Generate random samples_\n",
    "\n",
    "<a name=\"random_generation\"></a>\n",
    "\n",
    "We need to create fake data for the purpose of this presentation.\n",
    "\n",
    "_Feel free to skip if you use your own dataset._"
   ]
  },
  {
   "cell_type": "markdown",
   "metadata": {
    "slideshow": {
     "slide_type": "subslide"
    }
   },
   "source": [
    "### Generate random observations"
   ]
  },
  {
   "cell_type": "code",
   "execution_count": 1,
   "metadata": {
    "slideshow": {
     "slide_type": "fragment"
    }
   },
   "outputs": [],
   "source": [
    "import pandas as pd\n",
    "import datetime as dt\n",
    "import numpy as np\n",
    "\n",
    "def date_from_value(value, start = \"2019-01-01\", end = \"2019-07-01\"):\n",
    "    \"\"\"\n",
    "    Given a value between 0 and 1,\n",
    "    Returns a datetime between two dates (as string)\n",
    "    \"\"\"\n",
    "    # TODO: more realistic time of day\n",
    "    start = dt.datetime.strptime(start, '%Y-%m-%d')\n",
    "    end = dt.datetime.strptime(end, '%Y-%m-%d')\n",
    "    duration_sec = value * ((end - start).days*24*60*60)\n",
    "    return start + dt.timedelta(seconds=duration_sec)"
   ]
  },
  {
   "cell_type": "code",
   "execution_count": 2,
   "metadata": {
    "slideshow": {
     "slide_type": "subslide"
    }
   },
   "outputs": [],
   "source": [
    "def generate_observation_and_conversion(\n",
    "    conversion_rate = 0.3, nb_users= 400, nb_events = 1000,\n",
    "    pareto_parameter_conversion_delay = .4,\n",
    "):\n",
    "    \"\"\"\n",
    "    Given parameters about a population,\n",
    "    Returns a list of random events, with a possible conversion and delay\n",
    "    \"\"\"\n",
    "    random_dates = pd.Series(np.random.random(size=(nb_events)))\n",
    "    random_dates = random_dates.apply(date_from_value)\n",
    "    random_users = pd.Series(np.random.randint(nb_users, size=(nb_events)))\n",
    "    random_convs = pd.Series(np.random.rand(nb_events) < conversion_rate)\n",
    "    random_conv_delay = pd.Series(np.random.pareto(\n",
    "        pareto_parameter_conversion_delay, size=(nb_events)\n",
    "    ))\n",
    "    random_events = pd.concat([\n",
    "        random_dates, random_users, random_convs, random_conv_delay,\n",
    "    ], axis=1, sort=False)\n",
    "    random_events.columns = \\\n",
    "        [\"event_timestamp\", \"user_id\", \"conversion\", \"conversion_delay\",]\n",
    "    return random_events"
   ]
  },
  {
   "cell_type": "code",
   "execution_count": 3,
   "metadata": {
    "slideshow": {
     "slide_type": "fragment"
    }
   },
   "outputs": [
    {
     "data": {
      "text/html": [
       "<div>\n",
       "<style scoped>\n",
       "    .dataframe tbody tr th:only-of-type {\n",
       "        vertical-align: middle;\n",
       "    }\n",
       "\n",
       "    .dataframe tbody tr th {\n",
       "        vertical-align: top;\n",
       "    }\n",
       "\n",
       "    .dataframe thead th {\n",
       "        text-align: right;\n",
       "    }\n",
       "</style>\n",
       "<table border=\"1\" class=\"dataframe\">\n",
       "  <thead>\n",
       "    <tr style=\"text-align: right;\">\n",
       "      <th></th>\n",
       "      <th>event_timestamp</th>\n",
       "      <th>user_id</th>\n",
       "      <th>conversion</th>\n",
       "      <th>conversion_delay</th>\n",
       "    </tr>\n",
       "  </thead>\n",
       "  <tbody>\n",
       "    <tr>\n",
       "      <th>0</th>\n",
       "      <td>2019-01-22 02:07:53.726027</td>\n",
       "      <td>124</td>\n",
       "      <td>False</td>\n",
       "      <td>2.133551</td>\n",
       "    </tr>\n",
       "    <tr>\n",
       "      <th>1</th>\n",
       "      <td>2019-05-28 11:04:50.592505</td>\n",
       "      <td>223</td>\n",
       "      <td>False</td>\n",
       "      <td>47.933266</td>\n",
       "    </tr>\n",
       "    <tr>\n",
       "      <th>2</th>\n",
       "      <td>2019-01-10 08:02:57.378689</td>\n",
       "      <td>214</td>\n",
       "      <td>False</td>\n",
       "      <td>9.969331</td>\n",
       "    </tr>\n",
       "    <tr>\n",
       "      <th>3</th>\n",
       "      <td>2019-02-01 05:57:20.454061</td>\n",
       "      <td>255</td>\n",
       "      <td>False</td>\n",
       "      <td>3.122901</td>\n",
       "    </tr>\n",
       "    <tr>\n",
       "      <th>4</th>\n",
       "      <td>2019-02-19 13:23:03.574150</td>\n",
       "      <td>387</td>\n",
       "      <td>False</td>\n",
       "      <td>0.190720</td>\n",
       "    </tr>\n",
       "  </tbody>\n",
       "</table>\n",
       "</div>"
      ],
      "text/plain": [
       "             event_timestamp  user_id  conversion  conversion_delay\n",
       "0 2019-01-22 02:07:53.726027      124       False          2.133551\n",
       "1 2019-05-28 11:04:50.592505      223       False         47.933266\n",
       "2 2019-01-10 08:02:57.378689      214       False          9.969331\n",
       "3 2019-02-01 05:57:20.454061      255       False          3.122901\n",
       "4 2019-02-19 13:23:03.574150      387       False          0.190720"
      ]
     },
     "execution_count": 3,
     "metadata": {},
     "output_type": "execute_result"
    }
   ],
   "source": [
    "random_events = generate_observation_and_conversion()\n",
    "random_events.head()"
   ]
  },
  {
   "cell_type": "code",
   "execution_count": 4,
   "metadata": {
    "slideshow": {
     "slide_type": "subslide"
    }
   },
   "outputs": [],
   "source": [
    "def generate_conversion_from_observation(random_events):\n",
    "    \"\"\"\n",
    "    Given a set of events with possible conversions\n",
    "    Return the table of conversions\n",
    "    \"\"\"\n",
    "    cols = [col for col in random_events.columns\n",
    "            if col not in (\"event_delay\", \"conversion\", \"conversion_delay\")]\n",
    "    conversions = random_events[random_events[\"conversion\"]]\n",
    "    if len(conversions) > 0:\n",
    "        conversions = conversions.assign(\n",
    "            event_timestamp = conversions.apply(\n",
    "                lambda row: row[\"event_timestamp\"] + dt.timedelta(\n",
    "                    minutes=min(row[\"conversion_delay\"], 24*60*60)\n",
    "                    # If conversion_delay is too high, type can overflod\n",
    "                ),\n",
    "            axis=1))\n",
    "    return conversions[cols]"
   ]
  },
  {
   "cell_type": "code",
   "execution_count": 5,
   "metadata": {
    "slideshow": {
     "slide_type": "fragment"
    }
   },
   "outputs": [
    {
     "data": {
      "text/html": [
       "<div>\n",
       "<style scoped>\n",
       "    .dataframe tbody tr th:only-of-type {\n",
       "        vertical-align: middle;\n",
       "    }\n",
       "\n",
       "    .dataframe tbody tr th {\n",
       "        vertical-align: top;\n",
       "    }\n",
       "\n",
       "    .dataframe thead th {\n",
       "        text-align: right;\n",
       "    }\n",
       "</style>\n",
       "<table border=\"1\" class=\"dataframe\">\n",
       "  <thead>\n",
       "    <tr style=\"text-align: right;\">\n",
       "      <th></th>\n",
       "      <th>event_timestamp</th>\n",
       "      <th>user_id</th>\n",
       "    </tr>\n",
       "  </thead>\n",
       "  <tbody>\n",
       "    <tr>\n",
       "      <th>5</th>\n",
       "      <td>2019-01-10 10:38:07.045633</td>\n",
       "      <td>240</td>\n",
       "    </tr>\n",
       "    <tr>\n",
       "      <th>7</th>\n",
       "      <td>2019-04-30 02:11:40.753286</td>\n",
       "      <td>136</td>\n",
       "    </tr>\n",
       "    <tr>\n",
       "      <th>11</th>\n",
       "      <td>2019-06-26 05:57:16.946521</td>\n",
       "      <td>26</td>\n",
       "    </tr>\n",
       "  </tbody>\n",
       "</table>\n",
       "</div>"
      ],
      "text/plain": [
       "              event_timestamp  user_id\n",
       "5  2019-01-10 10:38:07.045633      240\n",
       "7  2019-04-30 02:11:40.753286      136\n",
       "11 2019-06-26 05:57:16.946521       26"
      ]
     },
     "execution_count": 5,
     "metadata": {},
     "output_type": "execute_result"
    }
   ],
   "source": [
    "random_convertions = generate_conversion_from_observation(random_events)\n",
    "random_convertions.head(3)"
   ]
  },
  {
   "cell_type": "code",
   "execution_count": 6,
   "metadata": {
    "scrolled": false,
    "slideshow": {
     "slide_type": "subslide"
    }
   },
   "outputs": [],
   "source": [
    "def generate_events(cr=.3, n_user=400, n_obs=1_000, pp=.4):\n",
    "    \"\"\"\n",
    "    Given optional key parameters about an set of events\n",
    "    Return a sample set of events with observations and conversions\n",
    "    \"\"\"\n",
    "    observation = generate_observation_and_conversion(cr, n_user, n_obs, pp)\n",
    "    convertions = generate_conversion_from_observation(observation)\n",
    "    observation = observation[[\"event_timestamp\", \"user_id\"]]\n",
    "    observation = observation.assign(event_type = \"observation\")\n",
    "    convertions = convertions.assign(event_type = \"conversion\")\n",
    "    events = pd.concat([observation, convertions], axis=0)    \n",
    "    events = events.sort_values(by=[\"event_timestamp\"]).reset_index(drop=True)\n",
    "    return events"
   ]
  },
  {
   "cell_type": "code",
   "execution_count": 7,
   "metadata": {
    "slideshow": {
     "slide_type": "fragment"
    }
   },
   "outputs": [
    {
     "data": {
      "text/html": [
       "<div>\n",
       "<style scoped>\n",
       "    .dataframe tbody tr th:only-of-type {\n",
       "        vertical-align: middle;\n",
       "    }\n",
       "\n",
       "    .dataframe tbody tr th {\n",
       "        vertical-align: top;\n",
       "    }\n",
       "\n",
       "    .dataframe thead th {\n",
       "        text-align: right;\n",
       "    }\n",
       "</style>\n",
       "<table border=\"1\" class=\"dataframe\">\n",
       "  <thead>\n",
       "    <tr style=\"text-align: right;\">\n",
       "      <th></th>\n",
       "      <th>event_timestamp</th>\n",
       "      <th>user_id</th>\n",
       "      <th>event_type</th>\n",
       "    </tr>\n",
       "  </thead>\n",
       "  <tbody>\n",
       "    <tr>\n",
       "      <th>0</th>\n",
       "      <td>2019-01-01 00:26:37.868592</td>\n",
       "      <td>77</td>\n",
       "      <td>observation</td>\n",
       "    </tr>\n",
       "    <tr>\n",
       "      <th>1</th>\n",
       "      <td>2019-01-01 05:36:16.426138</td>\n",
       "      <td>31</td>\n",
       "      <td>observation</td>\n",
       "    </tr>\n",
       "    <tr>\n",
       "      <th>2</th>\n",
       "      <td>2019-01-01 17:07:59.839830</td>\n",
       "      <td>3</td>\n",
       "      <td>observation</td>\n",
       "    </tr>\n",
       "    <tr>\n",
       "      <th>3</th>\n",
       "      <td>2019-01-01 17:16:42.164813</td>\n",
       "      <td>308</td>\n",
       "      <td>observation</td>\n",
       "    </tr>\n",
       "    <tr>\n",
       "      <th>4</th>\n",
       "      <td>2019-01-01 17:22:25.403848</td>\n",
       "      <td>3</td>\n",
       "      <td>conversion</td>\n",
       "    </tr>\n",
       "  </tbody>\n",
       "</table>\n",
       "</div>"
      ],
      "text/plain": [
       "             event_timestamp  user_id   event_type\n",
       "0 2019-01-01 00:26:37.868592       77  observation\n",
       "1 2019-01-01 05:36:16.426138       31  observation\n",
       "2 2019-01-01 17:07:59.839830        3  observation\n",
       "3 2019-01-01 17:16:42.164813      308  observation\n",
       "4 2019-01-01 17:22:25.403848        3   conversion"
      ]
     },
     "execution_count": 7,
     "metadata": {},
     "output_type": "execute_result"
    }
   ],
   "source": [
    "events = generate_events()\n",
    "events.head()"
   ]
  },
  {
   "cell_type": "code",
   "execution_count": 8,
   "metadata": {
    "slideshow": {
     "slide_type": "subslide"
    }
   },
   "outputs": [],
   "source": [
    "segments = [\"control\", \"treatment\"]\n",
    "def generate_segment(events, segments=segments, unit=\"user_id\"):\n",
    "    \"\"\"\n",
    "    Given events and an optional list of alternative options\n",
    "    Returns balanced assignement to each segment\n",
    "    \"\"\"\n",
    "    creation = events.groupby(unit)[\"event_timestamp\"].min()\n",
    "    creation = pd.DataFrame(creation)    \n",
    "    assignment = np.random.choice(segments, len(creation))\n",
    "    creation = creation.assign(segment = assignment)\n",
    "    creation.columns = [\"assignment_timestamp\", \"segment\"]\n",
    "    return creation"
   ]
  },
  {
   "cell_type": "code",
   "execution_count": 9,
   "metadata": {
    "slideshow": {
     "slide_type": "fragment"
    }
   },
   "outputs": [
    {
     "data": {
      "text/html": [
       "<div>\n",
       "<style scoped>\n",
       "    .dataframe tbody tr th:only-of-type {\n",
       "        vertical-align: middle;\n",
       "    }\n",
       "\n",
       "    .dataframe tbody tr th {\n",
       "        vertical-align: top;\n",
       "    }\n",
       "\n",
       "    .dataframe thead th {\n",
       "        text-align: right;\n",
       "    }\n",
       "</style>\n",
       "<table border=\"1\" class=\"dataframe\">\n",
       "  <thead>\n",
       "    <tr style=\"text-align: right;\">\n",
       "      <th></th>\n",
       "      <th>assignment_timestamp</th>\n",
       "      <th>segment</th>\n",
       "    </tr>\n",
       "    <tr>\n",
       "      <th>user_id</th>\n",
       "      <th></th>\n",
       "      <th></th>\n",
       "    </tr>\n",
       "  </thead>\n",
       "  <tbody>\n",
       "    <tr>\n",
       "      <th>0</th>\n",
       "      <td>2019-06-28 05:51:07.041460</td>\n",
       "      <td>treatment</td>\n",
       "    </tr>\n",
       "    <tr>\n",
       "      <th>1</th>\n",
       "      <td>2019-02-05 01:08:33.080577</td>\n",
       "      <td>control</td>\n",
       "    </tr>\n",
       "    <tr>\n",
       "      <th>2</th>\n",
       "      <td>2019-03-23 10:00:05.942448</td>\n",
       "      <td>control</td>\n",
       "    </tr>\n",
       "    <tr>\n",
       "      <th>3</th>\n",
       "      <td>2019-01-01 17:07:59.839830</td>\n",
       "      <td>treatment</td>\n",
       "    </tr>\n",
       "    <tr>\n",
       "      <th>4</th>\n",
       "      <td>2019-05-29 12:07:50.657763</td>\n",
       "      <td>treatment</td>\n",
       "    </tr>\n",
       "  </tbody>\n",
       "</table>\n",
       "</div>"
      ],
      "text/plain": [
       "              assignment_timestamp    segment\n",
       "user_id                                      \n",
       "0       2019-06-28 05:51:07.041460  treatment\n",
       "1       2019-02-05 01:08:33.080577    control\n",
       "2       2019-03-23 10:00:05.942448    control\n",
       "3       2019-01-01 17:07:59.839830  treatment\n",
       "4       2019-05-29 12:07:50.657763  treatment"
      ]
     },
     "execution_count": 9,
     "metadata": {},
     "output_type": "execute_result"
    }
   ],
   "source": [
    "segment = generate_segment(events)\n",
    "segment.head()"
   ]
  },
  {
   "cell_type": "markdown",
   "metadata": {
    "slideshow": {
     "slide_type": "slide"
    }
   },
   "source": [
    "# II. Processing results\n",
    "\n",
    "<a name=\"code\"></a>"
   ]
  },
  {
   "cell_type": "markdown",
   "metadata": {
    "slideshow": {
     "slide_type": "slide"
    }
   },
   "source": [
    "## Aggregating and testing significance"
   ]
  },
  {
   "cell_type": "code",
   "execution_count": 10,
   "metadata": {
    "slideshow": {
     "slide_type": "fragment"
    }
   },
   "outputs": [],
   "source": [
    "events = generate_events()           # load from database\n",
    "segment = generate_segment(events)   # randomised in prod\n",
    "events_with_segment = events.set_index(\"user_id\")\\\n",
    "                     .join(segment, on=\"user_id\")\n",
    "events_with_segment[\"user_id\"] = events_with_segment.index\n",
    "totals = events_with_segment\\\n",
    "    .groupby([\"segment\", \"event_type\"])[\"user_id\"].nunique()"
   ]
  },
  {
   "cell_type": "code",
   "execution_count": 11,
   "metadata": {
    "slideshow": {
     "slide_type": "-"
    }
   },
   "outputs": [
    {
     "data": {
      "text/plain": [
       "segment    event_type \n",
       "control    conversion     101\n",
       "           observation    179\n",
       "treatment  conversion     111\n",
       "           observation    178\n",
       "Name: user_id, dtype: int64"
      ]
     },
     "execution_count": 11,
     "metadata": {},
     "output_type": "execute_result"
    }
   ],
   "source": [
    "totals"
   ]
  },
  {
   "cell_type": "markdown",
   "metadata": {
    "slideshow": {
     "slide_type": "-"
    }
   },
   "source": [
    "We always want to use a metric that is a ratio over the attribution unit. Otherwise, correlation with engagement and conversion [bias our measurement](https://towardsdatascience.com/the-second-ghost-of-experimentation-the-fallacy-of-session-based-metrics-fb65006d30ff)."
   ]
  },
  {
   "cell_type": "markdown",
   "metadata": {
    "slideshow": {
     "slide_type": "subslide"
    }
   },
   "source": [
    "Let’s turn that into a function."
   ]
  },
  {
   "cell_type": "code",
   "execution_count": 12,
   "metadata": {
    "slideshow": {
     "slide_type": "-"
    }
   },
   "outputs": [],
   "source": [
    "def compute_totals(events, segment, unit=\"user_id\"):\n",
    "    events_with_segment = events.set_index(unit)\\\n",
    "        .join(segment, on=unit)\n",
    "    events_with_segment[unit] = events_with_segment.index\n",
    "    totals = events_with_segment \\\n",
    "        .groupby([\"segment\", \"event_type\"])[unit].nunique()\n",
    "    return totals"
   ]
  },
  {
   "cell_type": "code",
   "execution_count": 13,
   "metadata": {
    "scrolled": true,
    "slideshow": {
     "slide_type": "-"
    }
   },
   "outputs": [
    {
     "data": {
      "text/plain": [
       "segment    event_type \n",
       "control    conversion     118\n",
       "           observation    214\n",
       "treatment  conversion      86\n",
       "           observation    160\n",
       "Name: user_id, dtype: int64"
      ]
     },
     "execution_count": 13,
     "metadata": {},
     "output_type": "execute_result"
    }
   ],
   "source": [
    "events = generate_events()\n",
    "segment = generate_segment(events)\n",
    "totals = compute_totals(events, segment)\n",
    "totals"
   ]
  },
  {
   "cell_type": "markdown",
   "metadata": {
    "slideshow": {
     "slide_type": "-"
    }
   },
   "source": [
    "How can we tell if the difference between the two conversion rates is significant?"
   ]
  },
  {
   "cell_type": "markdown",
   "metadata": {
    "slideshow": {
     "slide_type": "subslide"
    }
   },
   "source": [
    "First, we need to decide when a value is outside of a confidence interval."
   ]
  },
  {
   "cell_type": "code",
   "execution_count": 14,
   "metadata": {
    "slideshow": {
     "slide_type": "-"
    }
   },
   "outputs": [],
   "source": [
    "from scipy.stats import norm, t\n",
    "alpha = .1\n",
    "\n",
    "def var_cr(segment):\n",
    "    if segment.observation > 0:\n",
    "        cr = segment.conversion / segment.observation\n",
    "        var = cr*(1-cr)/segment.observation\n",
    "        return var, cr\n",
    "    else:\n",
    "        return None\n",
    "\n",
    "def beat_conf_interval(value, conf_interval):\n",
    "    if value < conf_interval[0]:\n",
    "        result = \"Loose\"        \n",
    "        significant = True\n",
    "    else:    \n",
    "        if value > conf_interval[1]:\n",
    "            result = \"Win\"\n",
    "            significant = True\n",
    "        else:\n",
    "            result = \"Draw\"        \n",
    "            significant = False\n",
    "    return significant, result"
   ]
  },
  {
   "cell_type": "markdown",
   "metadata": {
    "slideshow": {
     "slide_type": "subslide"
    }
   },
   "source": [
    "And apply that distinction to a new class."
   ]
  },
  {
   "cell_type": "code",
   "execution_count": 15,
   "metadata": {
    "slideshow": {
     "slide_type": "-"
    }
   },
   "outputs": [],
   "source": [
    "class TTest():\n",
    "    def __init__(self, totals, alpha=alpha):\n",
    "        self.totals = totals\n",
    "        self.alpha = alpha\n",
    "    def compute(self):\n",
    "        co = self.totals.control\n",
    "        tr = self.totals.treatment\n",
    "        self.observation = co.observation + tr.observation\n",
    "        var_c, self.cr_c = var_cr(co) \n",
    "        var_t, self.cr_t = var_cr(tr)\n",
    "        # Stats\n",
    "        self.difference = self.cr_t - self.cr_c\n",
    "        self.rel_diff = self.difference/self.cr_c\n",
    "        self.stddev = np.sqrt(var_c + var_t)\n",
    "        self.z = norm.interval(1-self.alpha)\n",
    "        self.conf_interval = tuple(i*self.stddev for i in self.z)\n",
    "        # Results\n",
    "        self.significant, self.result = \\\n",
    "            beat_conf_interval(self.difference, self.conf_interval)    \n",
    "        self.t = self.difference/self.stddev\n",
    "        self.p = 1 - t.cdf(self.t, df=self.observation -2)        \n",
    "        return self.significant"
   ]
  },
  {
   "cell_type": "markdown",
   "metadata": {
    "slideshow": {
     "slide_type": "subslide"
    }
   },
   "source": [
    "Let’s check what that looks like for the `totals` that we just computed."
   ]
  },
  {
   "cell_type": "code",
   "execution_count": 16,
   "metadata": {
    "slideshow": {
     "slide_type": "-"
    }
   },
   "outputs": [
    {
     "data": {
      "text/plain": [
       "{'totals': segment    event_type \n",
       " control    conversion     118\n",
       "            observation    214\n",
       " treatment  conversion      86\n",
       "            observation    160\n",
       " Name: user_id, dtype: int64,\n",
       " 'alpha': 0.1,\n",
       " 'observation': 374,\n",
       " 'cr_c': 0.5514018691588785,\n",
       " 'cr_t': 0.5375,\n",
       " 'difference': -0.013901869158878477,\n",
       " 'rel_diff': -0.025211864406779614,\n",
       " 'stddev': 0.05205371006160316,\n",
       " 'z': (-1.6448536269514729, 1.6448536269514722),\n",
       " 'conf_interval': (-0.08562073379110834, 0.08562073379110831),\n",
       " 'significant': False,\n",
       " 'result': 'Draw',\n",
       " 't': -0.2670677871457434,\n",
       " 'p': 0.6052175195538485}"
      ]
     },
     "execution_count": 16,
     "metadata": {},
     "output_type": "execute_result"
    }
   ],
   "source": [
    "t_test = TTest(totals)\n",
    "t_test.compute()\n",
    "vars(t_test)"
   ]
  },
  {
   "cell_type": "markdown",
   "metadata": {
    "slideshow": {
     "slide_type": "subslide"
    }
   },
   "source": [
    "Let’s represent that result in a more legible way."
   ]
  },
  {
   "cell_type": "code",
   "execution_count": 17,
   "metadata": {
    "slideshow": {
     "slide_type": "-"
    }
   },
   "outputs": [],
   "source": [
    "def format_ci(ci, sep=' '):\n",
    "    return sep.join(format(lim, '.1%') for lim in ci)\n",
    "\n",
    "def format_decision(self):\n",
    "    str = \"Our metric went from {0:.1%} to {1:.1%}, \".format(self.cr_c, self.cr_t)\n",
    "    str += \"a difference of {0:.1%}.\\n\".format(self.difference)\n",
    "    str += \"Our Minimal detectable effect (MDE) is \"\n",
    "    str += \"{0:.1%}.\\n\".format(self.conf_interval[1])\n",
    "    str += \"The absolute difference is \" + (\"larger\" if self.significant else \"smaller\") \n",
    "    str += \" and\" + ((\"\" if self.significant else \" not\") + \" significant.\")\n",
    "    return str\n",
    "TTest.format_decision = format_decision"
   ]
  },
  {
   "cell_type": "code",
   "execution_count": 18,
   "metadata": {
    "slideshow": {
     "slide_type": "-"
    }
   },
   "outputs": [
    {
     "name": "stdout",
     "output_type": "stream",
     "text": [
      "Our metric went from 55.1% to 53.8%, a difference of -1.4%.\n",
      "Our Minimal detectable effect (MDE) is 8.6%.\n",
      "The absolute difference is smaller and not significant.\n"
     ]
    }
   ],
   "source": [
    "print(t_test.format_decision())"
   ]
  },
  {
   "cell_type": "markdown",
   "metadata": {
    "slideshow": {
     "slide_type": "slide"
    }
   },
   "source": [
    "## Basic classes\n",
    "\n",
    "<a name=\"classes\"></a>\n"
   ]
  },
  {
   "cell_type": "code",
   "execution_count": 19,
   "metadata": {
    "slideshow": {
     "slide_type": "-"
    }
   },
   "outputs": [],
   "source": [
    "class ABTest:\n",
    "    def __init__(self, events, segment):\n",
    "        self.events = events # Events(events)\n",
    "        self.segment = segment # Segment(segment)\n",
    "    def compute(self):\n",
    "        self.totals = compute_totals(self.events, self.segment)        \n",
    "        self.t_test = TTest(self.totals)\n",
    "        self.t_test.compute()\n",
    "        self.decision = self.t_test.format_decision()\n",
    "        return self.t_test.significant"
   ]
  },
  {
   "cell_type": "code",
   "execution_count": 20,
   "metadata": {
    "slideshow": {
     "slide_type": "fragment"
    }
   },
   "outputs": [
    {
     "data": {
      "text/plain": [
       "segment    event_type \n",
       "control    conversion     118\n",
       "           observation    214\n",
       "treatment  conversion      86\n",
       "           observation    160\n",
       "Name: user_id, dtype: int64"
      ]
     },
     "execution_count": 20,
     "metadata": {},
     "output_type": "execute_result"
    }
   ],
   "source": [
    "ab_test = ABTest(events, segment)\n",
    "ab_test.compute()\n",
    "ab_test.totals"
   ]
  },
  {
   "cell_type": "code",
   "execution_count": 21,
   "metadata": {
    "slideshow": {
     "slide_type": "fragment"
    }
   },
   "outputs": [
    {
     "name": "stdout",
     "output_type": "stream",
     "text": [
      "Our metric went from 55.1% to 53.8%, a difference of -1.4%.\n",
      "Our Minimal detectable effect (MDE) is 8.6%.\n",
      "The absolute difference is smaller and not significant.\n"
     ]
    }
   ],
   "source": [
    "print(ab_test.decision)"
   ]
  },
  {
   "cell_type": "markdown",
   "metadata": {
    "slideshow": {
     "slide_type": "subslide"
    }
   },
   "source": [
    "### Size-dependent results\n",
    "\n",
    "A test on a larger sample can detect more refined effects."
   ]
  },
  {
   "cell_type": "code",
   "execution_count": 86,
   "metadata": {
    "slideshow": {
     "slide_type": "fragment"
    }
   },
   "outputs": [],
   "source": [
    "def test_sample_by_size(n_obs=1_000):\n",
    "    events = generate_events(n_obs=n_obs, n_user=n_obs)\n",
    "    ab_test = ABTest(events, generate_segment(events))\n",
    "    ab_test.compute()\n",
    "    print(ab_test.decision)"
   ]
  },
  {
   "cell_type": "code",
   "execution_count": 87,
   "metadata": {
    "slideshow": {
     "slide_type": "fragment"
    }
   },
   "outputs": [
    {
     "name": "stdout",
     "output_type": "stream",
     "text": [
      "Our metric went from 40.7% to 43.6%, a difference of 2.8%.\n",
      "Our Minimal detectable effect (MDE) is 6.5%.\n",
      "The absolute difference is smaller and not significant.\n"
     ]
    }
   ],
   "source": [
    "test_sample_by_size(n_obs=1_000)"
   ]
  },
  {
   "cell_type": "code",
   "execution_count": 88,
   "metadata": {
    "slideshow": {
     "slide_type": "fragment"
    }
   },
   "outputs": [
    {
     "name": "stdout",
     "output_type": "stream",
     "text": [
      "Our metric went from 41.8% to 40.6%, a difference of -1.2%.\n",
      "Our Minimal detectable effect (MDE) is 2.0%.\n",
      "The absolute difference is smaller and not significant.\n"
     ]
    }
   ],
   "source": [
    "test_sample_by_size(n_obs=10_000, )"
   ]
  },
  {
   "cell_type": "code",
   "execution_count": 90,
   "metadata": {
    "slideshow": {
     "slide_type": "fragment"
    }
   },
   "outputs": [
    {
     "name": "stdout",
     "output_type": "stream",
     "text": [
      "Our metric went from 41.0% to 41.2%, a difference of 0.2%.\n",
      "Our Minimal detectable effect (MDE) is 0.6%.\n",
      "The absolute difference is smaller and not significant.\n"
     ]
    }
   ],
   "source": [
    "test_sample_by_size(n_obs=100_000)"
   ]
  },
  {
   "cell_type": "markdown",
   "metadata": {
    "slideshow": {
     "slide_type": "subslide"
    }
   },
   "source": [
    "### Sequential tests\n",
    "\n",
    "Running test for increasingly longer should improve precision. But running the test **repeatedly** while accumulating more data, and acting on any significant result means that we **compound the probability of false positives**.\n",
    "\n",
    "We can reduce the false positive rate for each individual test to a value that compounds up to our desired $\\alpha$. This is known as the Sequential Probability Ratio Test (SPRT) We have implemented a sequential approach known as the modified SPRT or **mSPRT**.\n",
    "\n",
    "For details, see [a recent paper by Etsy](https://www.hongliangjie.com/publications/wsdm2019_preprint.pdf)"
   ]
  },
  {
   "cell_type": "markdown",
   "metadata": {
    "slideshow": {
     "slide_type": "slide"
    }
   },
   "source": [
    "# III. AA-tests\n",
    "\n",
    "<a name=\"aa_test\"></a>"
   ]
  },
  {
   "cell_type": "markdown",
   "metadata": {
    "slideshow": {
     "slide_type": "slide"
    }
   },
   "source": [
    "## Why run AA-tests\n",
    "\n",
    "Is the test detecting non-changes?"
   ]
  },
  {
   "cell_type": "markdown",
   "metadata": {
    "slideshow": {
     "slide_type": "fragment"
    }
   },
   "source": [
    "### Confusion matrix\n",
    "\n",
    "|        _             | Actual difference | No real difference  |\n",
    "| -------------------- |:-----------------:|:------------------- |\n",
    "| **Test signficant**  | True positive     | False positive      |\n",
    "| **Test non-signif.** | False negative    | True negative       |\n"
   ]
  },
  {
   "cell_type": "markdown",
   "metadata": {
    "slideshow": {
     "slide_type": "subslide"
    }
   },
   "source": [
    "We don’t know how much of a change a treatment will actually bring: “significant” is contextual.\n",
    "\n",
    "It’s simpler to test a non-difference, using past data based before we introduced a change and spliting it in half randomly.\n",
    "\n",
    "If we test those two (presumably equivalent) halves, we shouldn’t detect a difference. In practice, they might. We can then check how frequent are false positives, _i.e._ tests that wrongly appear significant.\n",
    "\n",
    "|        _      | *Actual difference* |  No real difference |\n",
    "| ------------- |:-------------------:|--------------------:|\n",
    "| Test positive | *True positive*     | **False positive**  |\n",
    "| Test negative | *False negative*    | True negative       |\n"
   ]
  },
  {
   "cell_type": "markdown",
   "metadata": {
    "slideshow": {
     "slide_type": "subslide"
    }
   },
   "source": [
    "### How to run an AA tests\n",
    "\n",
    "#### Random split and test, repeatedly\n",
    "\n",
    "- Collect recent relevant data\n",
    "\n",
    "- Split segments randomly (fairly)\n",
    "\n",
    "- Test that distinction without a difference"
   ]
  },
  {
   "cell_type": "code",
   "execution_count": 26,
   "metadata": {
    "slideshow": {
     "slide_type": "subslide"
    }
   },
   "outputs": [],
   "source": [
    "class BatchAATest:\n",
    "    def __init__(self, events):\n",
    "        self.events = events\n",
    "    \n",
    "    def test_with_random_segment(self):\n",
    "        self.segment = generate_segment(self.events)\n",
    "        self.test = ABTest(self.events, self.segment)\n",
    "        self.test.compute()\n",
    "        return self.test\n",
    "    \n",
    "    def run_steps(self, n_runs=100):\n",
    "        self.results, self.list_t, self.list_p = [], [], []\n",
    "        for j in range(n_runs):\n",
    "            self.test_with_random_segment()\n",
    "            self.results.append(self.test.t_test.significant)\n",
    "            self.list_t.append(self.test.t_test.t)\n",
    "            self.list_p.append(self.test.t_test.p)\n",
    "        return self.results\n",
    "\n",
    "    def run_series(self, n_runs=100):\n",
    "        self.results = self.run_steps(n_runs)\n",
    "        self.aggregate = pd.Series(self.results).agg(['sum','count'])\n",
    "        self.aggregate.index = [\"false_positive\", \"nb_aa_test\"]\n",
    "        self.cumsum_t = pd.Series(self.list_t)\\\n",
    "            .value_counts().sort_index().cumsum()\n",
    "        self.cumsum_p = pd.Series(self.list_p)\\\n",
    "            .value_counts().sort_index().cumsum()\n",
    "        return self.aggregate"
   ]
  },
  {
   "cell_type": "code",
   "execution_count": 27,
   "metadata": {
    "scrolled": true,
    "slideshow": {
     "slide_type": "subslide"
    }
   },
   "outputs": [
    {
     "name": "stdout",
     "output_type": "stream",
     "text": [
      "8 false positives over 100 AA-tests.\n",
      "22 false positives over 100 AA-tests.\n",
      "10 false positives over 100 AA-tests.\n",
      "13 false positives over 100 AA-tests.\n"
     ]
    }
   ],
   "source": [
    "events = generate_events()\n",
    "batch_aa_test = BatchAATest(events)\n",
    "for i in range (4):\n",
    "    batch_aa_test.run_series()\n",
    "    print(\"{0} false positives over {1} AA-tests.\"\\\n",
    "        .format(*batch_aa_test.aggregate))"
   ]
  },
  {
   "cell_type": "markdown",
   "metadata": {
    "slideshow": {
     "slide_type": "fragment"
    }
   },
   "source": [
    "We expect a false positive rate of 10%.\n",
    "\n",
    "Is `7 false positives over 100 AA-tests` a sign that there’s something wrong?\n",
    "\n",
    "We need to run thousands of times to have an accurate idea of the _de facto_ false positive rate.\n",
    "\n",
    "We can treat batches of AA-tests as a meta AB-test when a false positive being a conversion. That way, we can estimate a confidence interval for false positives."
   ]
  },
  {
   "cell_type": "markdown",
   "metadata": {
    "slideshow": {
     "slide_type": "slide"
    }
   },
   "source": [
    "### Checking $\\alpha$\n",
    "\n",
    "Thanks to several thousand AA-tests, we compute the ratio of false positives. But we have *set* that ratio with $\\alpha$. Is it consistent?"
   ]
  },
  {
   "cell_type": "code",
   "execution_count": 28,
   "metadata": {
    "slideshow": {
     "slide_type": "fragment"
    }
   },
   "outputs": [],
   "source": [
    "def compute_alpha_ci(self, n_runs=100, verbose=True):    \n",
    "    self.totals = self.run_series(n_runs)\n",
    "    self.totals.index = [\"conversion\", \"observation\"]\n",
    "    var, false_pos_r = var_cr(self.totals)\n",
    "    stdev = np.sqrt(var)\n",
    "    z = norm.interval(1-alpha)\n",
    "    self.alpha_ci = (false_pos_r + z[0]*stdev, false_pos_r + z[1]*stdev)\n",
    "    return self.alpha_ci\n",
    "\n",
    "def display_alpha_ci(self):\n",
    "    fail = beat_conf_interval(alpha, self.alpha_ci)[0]\n",
    "    msg = \"We measure a false positive rate between \"\n",
    "    msg += format_ci(self.alpha_ci, \" and \") + \".\\n\" \n",
    "    msg += \"This is\" + (\" not\" if fail else \"\") + \" consistent\"\n",
    "    msg += \" with our rate set at \" + \"{0:.1%}\".format(alpha) + \". \"\n",
    "    print(msg)\n",
    "    return not fail\n",
    "\n",
    "BatchAATest.compute_alpha_ci = compute_alpha_ci\n",
    "BatchAATest.display_alpha_ci = display_alpha_ci"
   ]
  },
  {
   "cell_type": "code",
   "execution_count": 29,
   "metadata": {
    "slideshow": {
     "slide_type": "subslide"
    }
   },
   "outputs": [
    {
     "name": "stdout",
     "output_type": "stream",
     "text": [
      "We measure a false positive rate between 11.0% and 14.4%.\n",
      "This is not consistent with our rate set at 10.0%. \n"
     ]
    },
    {
     "data": {
      "text/plain": [
       "False"
      ]
     },
     "execution_count": 29,
     "metadata": {},
     "output_type": "execute_result"
    }
   ],
   "source": [
    "batch_aa_test = BatchAATest(events)\n",
    "batch_aa_test.compute_alpha_ci(1_000)\n",
    "batch_aa_test.display_alpha_ci()"
   ]
  },
  {
   "cell_type": "markdown",
   "metadata": {
    "slideshow": {
     "slide_type": "fragment"
    }
   },
   "source": [
    "Given a set of `events`, we can test “nothing” enough times to make sure that a test on a similar sample won’t find things that are not there."
   ]
  },
  {
   "cell_type": "markdown",
   "metadata": {
    "slideshow": {
     "slide_type": "subslide"
    }
   },
   "source": [
    "Just like with standard AB-tests on observations, a batch of AA-tests are more accurate if you iterate on many of tests.\n",
    "\n",
    "10,000 AA-tests are typically enough to have good precision on the false positive rate $\\alpha$."
   ]
  },
  {
   "cell_type": "code",
   "execution_count": 30,
   "metadata": {
    "slideshow": {
     "slide_type": "fragment"
    }
   },
   "outputs": [
    {
     "name": "stdout",
     "output_type": "stream",
     "text": [
      "We measure a false positive rate between 9.7% and 10.7%.\n",
      "This is consistent with our rate set at 10.0%. \n"
     ]
    },
    {
     "data": {
      "text/plain": [
       "True"
      ]
     },
     "execution_count": 30,
     "metadata": {},
     "output_type": "execute_result"
    }
   ],
   "source": [
    "# Warning: This might take several minutes\n",
    "batch_aa_test = BatchAATest(events)\n",
    "batch_aa_test.compute_alpha_ci(10_000)\n",
    "batch_aa_test.display_alpha_ci()"
   ]
  },
  {
   "cell_type": "markdown",
   "metadata": {
    "slideshow": {
     "slide_type": "subslide"
    }
   },
   "source": [
    "### Distribution of $t$-scores and $p$-values\n",
    "\n",
    "Another common way to check that AA-tests are behaving as expected is to check that:\n",
    "- $t$-scores follow the expected distribution of $t$-test statistics;\n",
    "- $p$-value distribution is **uniform**."
   ]
  },
  {
   "cell_type": "code",
   "execution_count": 141,
   "metadata": {
    "slideshow": {
     "slide_type": "-"
    }
   },
   "outputs": [],
   "source": [
    "import matplotlib.pyplot as plt\n",
    "def display_t_p(self, bins=20):\n",
    "    n_obs = self.aggregate.observation\n",
    "    c_msg = \" over {:,} AA-tests\".format(n_obs)\n",
    "    fig, (ax1, ax2) = plt.subplots(1, 2, figsize=(12, 5))\n",
    "    \n",
    "    ax1.hist(pd.Series(self.list_t), bins=bins)\n",
    "    ax1.set(title=\"Distribution of $t$-scores\" + c_msg)\n",
    "    \n",
    "    ax2.hist(pd.Series(self.list_p), bins=bins)\n",
    "    ax2.set(title=\"Distribution of $p$-values\" + c_msg)\n",
    "    \n",
    "BatchAATest.display_t_p = display_t_p"
   ]
  },
  {
   "cell_type": "code",
   "execution_count": 142,
   "metadata": {
    "scrolled": true,
    "slideshow": {
     "slide_type": "subslide"
    }
   },
   "outputs": [
    {
     "data": {
      "image/png": "[encoded data removed]",
      "text/plain": [
       "<Figure size 864x360 with 2 Axes>"
      ]
     },
     "metadata": {
      "needs_background": "light"
     },
     "output_type": "display_data"
    }
   ],
   "source": [
    "batch_aa_test.display_t_p()"
   ]
  },
  {
   "cell_type": "markdown",
   "metadata": {
    "slideshow": {
     "slide_type": "slide"
    }
   },
   "source": [
    "# _Interlude_\n",
    "\n",
    "Is everything clear so far?\n",
    "\n",
    "<a name=\"interlude_1\"></a>\n",
    "\n",
    "[I. How to run a test](#principles)  \n",
    "[-. _Generate random samples_](#random_generation)  \n",
    "[II. Process results](#code)  \n",
    "[III. AA-tests](#aa_test)  \n",
    "**[IV. Sensitivity testing](#sensitivity)  \n",
    "[V. Process the source dataset](#source_data)  \n",
    "[VI. Complications](#unit_selection)  \n",
    "[VII. Overlapping experiments](#overlap)  \n",
    "[_Summary_](#summary)**"
   ]
  },
  {
   "cell_type": "markdown",
   "metadata": {
    "slideshow": {
     "slide_type": "slide"
    }
   },
   "source": [
    "# IV. Sensitivity testing\n",
    "\n",
    "<a name=\"sensitivity\"></a>\n",
    "\n",
    "Sensitivity tests are AA tests with a boost.\n",
    "\n",
    "What if, rather than pick two identical samples, we split the sample at random, call on Treatment and then **inflated its conversion rate** by a fraction? Would _that_ make the test more likely to succeed?"
   ]
  },
  {
   "cell_type": "markdown",
   "metadata": {
    "slideshow": {
     "slide_type": "slide"
    }
   },
   "source": [
    "## Naive implementation"
   ]
  },
  {
   "cell_type": "code",
   "execution_count": 33,
   "metadata": {
    "slideshow": {
     "slide_type": "fragment"
    }
   },
   "outputs": [],
   "source": [
    "import copy\n",
    "thresholds = [0, 0.001, 0.002, 0.005, 0.01, 0.02, 0.05, 0.1, 0.2, 0.5, 1, 2]\n",
    "\n",
    "def find_detected_diff(self, thresholds=thresholds):\n",
    "    for threshold in thresholds:\n",
    "        inflated_t_test = copy.deepcopy(self.t_test)\n",
    "        inflated_t_test.totals.treatment.conversion *= (1+threshold)\n",
    "        if inflated_t_test.compute():            \n",
    "            return threshold\n",
    "    \n",
    "ABTest.find_detected_diff = find_detected_diff"
   ]
  },
  {
   "cell_type": "code",
   "execution_count": 34,
   "metadata": {
    "slideshow": {
     "slide_type": "fragment"
    }
   },
   "outputs": [
    {
     "data": {
      "text/plain": [
       "False"
      ]
     },
     "execution_count": 34,
     "metadata": {},
     "output_type": "execute_result"
    }
   ],
   "source": [
    "aa_test = ABTest(events, segment)\n",
    "aa_test.compute()\n",
    "aa_test.t_test.significant"
   ]
  },
  {
   "cell_type": "code",
   "execution_count": 35,
   "metadata": {},
   "outputs": [
    {
     "data": {
      "text/plain": [
       "0.05"
      ]
     },
     "execution_count": 35,
     "metadata": {},
     "output_type": "execute_result"
    }
   ],
   "source": [
    "aa_test.find_detected_diff()"
   ]
  },
  {
   "cell_type": "code",
   "execution_count": 36,
   "metadata": {
    "slideshow": {
     "slide_type": "subslide"
    }
   },
   "outputs": [],
   "source": [
    "class SensitivityTest (BatchAATest):\n",
    "\n",
    "    def run_steps(self, n_runs=100):\n",
    "        self.list_diff = []\n",
    "        for j in range(n_runs):\n",
    "            self.test_with_random_segment()\n",
    "            self.test.compute()            \n",
    "            self.test.detected_diff = self.test.find_detected_diff()\n",
    "            self.list_diff.append(self.test.detected_diff)\n",
    "        return self.list_diff"
   ]
  },
  {
   "cell_type": "code",
   "execution_count": 37,
   "metadata": {
    "slideshow": {
     "slide_type": "fragment"
    }
   },
   "outputs": [
    {
     "data": {
      "text/plain": [
       "0.00    10\n",
       "0.02     1\n",
       "0.05     7\n",
       "0.10    13\n",
       "0.20    36\n",
       "0.50    33\n",
       "dtype: int64"
      ]
     },
     "execution_count": 37,
     "metadata": {},
     "output_type": "execute_result"
    }
   ],
   "source": [
    "sensitivity_test = SensitivityTest(generate_events())\n",
    "list_diff = sensitivity_test.run_steps()\n",
    "pd.Series(list_diff).value_counts().sort_index()"
   ]
  },
  {
   "cell_type": "markdown",
   "metadata": {
    "slideshow": {
     "slide_type": "fragment"
    }
   },
   "source": [
    "Out of 100 AA-tests on the same `events` data source, we were able to get a significant result by increasing the conversion rate by 5, 10 or 20% — depending on the test split."
   ]
  },
  {
   "cell_type": "markdown",
   "metadata": {
    "slideshow": {
     "slide_type": "subslide"
    }
   },
   "source": [
    "### Minimum difference reliably detected\n",
    "\n",
    "We want to know how much difference between Control and Treatment is large enough to be reliably detected.\n",
    "We consider that the boost on Treatement large enough to change an AA-test to positive to be a good representation for that.\n",
    "\n",
    "That value is noisy, therefore we prefer the difference that is large enough to change the test often, i.e. the upper quantile of that distribution of differences."
   ]
  },
  {
   "cell_type": "code",
   "execution_count": 38,
   "metadata": {
    "slideshow": {
     "slide_type": "subslide"
    }
   },
   "outputs": [],
   "source": [
    "def run_series(self, n_runs=100):\n",
    "    self.list_diff = self.run_steps(n_runs)\n",
    "    diff_dist = pd.Series(self.list_diff).value_counts().sort_index()\n",
    "    zero_ends = pd.Series([0]*len(thresholds), index=thresholds)\n",
    "    diff_dist.add(zero_ends)\n",
    "    self.cum_dist = diff_dist.cumsum()\n",
    "    return self.cum_dist\n",
    "\n",
    "def run_batch(self, n_runs=100):  \n",
    "    self.n_runs = n_runs\n",
    "    self.cum_dist = self.run_series(n_runs)\n",
    "    self.reliable = int((1-alpha)*n_runs)\n",
    "    significant = self.cum_dist[self.cum_dist > self.reliable]\n",
    "    self.min_significant = min(significant.index)\n",
    "    return self.min_significant\n",
    "\n",
    "SensitivityTest.run_series = run_series\n",
    "SensitivityTest.run_batch = run_batch"
   ]
  },
  {
   "cell_type": "code",
   "execution_count": 39,
   "metadata": {
    "slideshow": {
     "slide_type": "-"
    }
   },
   "outputs": [
    {
     "data": {
      "text/plain": [
       "0.5"
      ]
     },
     "execution_count": 39,
     "metadata": {},
     "output_type": "execute_result"
    }
   ],
   "source": [
    "sensitivity_test.run_batch()"
   ]
  },
  {
   "cell_type": "markdown",
   "metadata": {
    "slideshow": {
     "slide_type": "subslide"
    }
   },
   "source": [
    "Let’s output the results in a way that clearer."
   ]
  },
  {
   "cell_type": "code",
   "execution_count": 40,
   "metadata": {
    "slideshow": {
     "slide_type": "-"
    }
   },
   "outputs": [],
   "source": [
    "def format_result(self):\n",
    "    msg = \"After {0:,} runs, we estimate that \".format(self.n_runs)\n",
    "    msg += \"this test should reliably ({0:.0%}) detect \".format(1-alpha) \n",
    "    msg += \"improvements of at least {0:.1%}\".format(self.min_significant)\n",
    "    return msg\n",
    "\n",
    "SensitivityTest.format_result = format_result"
   ]
  },
  {
   "cell_type": "code",
   "execution_count": 41,
   "metadata": {
    "slideshow": {
     "slide_type": "-"
    }
   },
   "outputs": [
    {
     "data": {
      "text/plain": [
       "'After 100 runs, we estimate that this test should reliably (90%) detect improvements of at least 50.0%'"
      ]
     },
     "execution_count": 41,
     "metadata": {},
     "output_type": "execute_result"
    }
   ],
   "source": [
    "sensitivity_test.format_result()"
   ]
  },
  {
   "cell_type": "markdown",
   "metadata": {
    "slideshow": {
     "slide_type": "subslide"
    }
   },
   "source": [
    "Let’s now plot that distribution."
   ]
  },
  {
   "cell_type": "code",
   "execution_count": 42,
   "metadata": {
    "slideshow": {
     "slide_type": "-"
    }
   },
   "outputs": [],
   "source": [
    "def display(self):\n",
    "    val = self.cum_dist.index    \n",
    "    n_obs = self.test.t_test.observation\n",
    "    fig, ax = plt.subplots()\n",
    "    ax.set(\n",
    "        title=\"Sensitivity curve ({0:,} obs.)\".format(n_obs),\n",
    "        xlabel=\"Effect scale (log scale)\",\n",
    "        ylabel=\"Number of tests\",\n",
    "    )    \n",
    "    ax.plot(self.cum_dist[val > 0])\n",
    "    ax.set_xscale('log')\n",
    "    ax.hlines(self.reliable, min(val[val > 0]), max(val),\n",
    "              color=\"red\", linestyles=\"dotted\")    \n",
    "    ax.vlines(self.min_significant, 0, self.reliable,\n",
    "              color=\"red\", linestyles=\"dotted\")    \n",
    "    plt.show()\n",
    "\n",
    "SensitivityTest.display = display"
   ]
  },
  {
   "cell_type": "code",
   "execution_count": 43,
   "metadata": {
    "slideshow": {
     "slide_type": "subslide"
    }
   },
   "outputs": [
    {
     "name": "stdout",
     "output_type": "stream",
     "text": [
      "After 100 runs, we estimate that this test should reliably (90%) detect improvements of at least 50.0%\n"
     ]
    },
    {
     "data": {
      "image/png": "[encoded data removed]",
      "text/plain": [
       "<Figure size 432x288 with 1 Axes>"
      ]
     },
     "metadata": {
      "needs_background": "light"
     },
     "output_type": "display_data"
    }
   ],
   "source": [
    "print(sensitivity_test.format_result())\n",
    "sensitivity_test.display()"
   ]
  },
  {
   "cell_type": "markdown",
   "metadata": {
    "slideshow": {
     "slide_type": "fragment"
    }
   },
   "source": [
    "This is more granular that it needs to be because we‘ve used sparse `thresholds`."
   ]
  },
  {
   "cell_type": "markdown",
   "metadata": {
    "slideshow": {
     "slide_type": "slide"
    }
   },
   "source": [
    "## Compute minimal difference\n",
    "\n",
    "We actually do not have to iterate over sample `thresholds` to find the right value for a significant change.\n",
    "\n",
    "It would be more efficicent to process by dichotomy, either over the list or on absolute values.\n",
    "\n",
    "More simply, it is faster to run the AA-test; the ratio between the upper bound in real terms and the treatment conversion rate is the smallest effect that would make the test significant."
   ]
  },
  {
   "cell_type": "code",
   "execution_count": 44,
   "metadata": {
    "slideshow": {
     "slide_type": "fragment"
    }
   },
   "outputs": [],
   "source": [
    "def find_detected_diff(self):\n",
    "    min_detection = self.t_test.cr_c + self.t_test.conf_interval[1]\n",
    "    self.detected_diff = (min_detection/self.t_test.cr_t) - 1\n",
    "    return self.detected_diff\n",
    "\n",
    "ABTest.find_detected_diff = find_detected_diff"
   ]
  },
  {
   "cell_type": "markdown",
   "metadata": {
    "slideshow": {
     "slide_type": "skip"
    }
   },
   "source": [
    "### Verification\n",
    "\n",
    "Let’s check that the treatment conversion increased by this minimum boost gives the exact value of the upper limit."
   ]
  },
  {
   "cell_type": "code",
   "execution_count": 45,
   "metadata": {
    "slideshow": {
     "slide_type": "skip"
    }
   },
   "outputs": [
    {
     "data": {
      "text/plain": [
       "{'totals': segment    event_type \n",
       " control    conversion     113\n",
       "            observation    193\n",
       " treatment  conversion     102\n",
       "            observation    170\n",
       " Name: user_id, dtype: int64,\n",
       " 'alpha': 0.1,\n",
       " 'observation': 363,\n",
       " 'cr_c': 0.5854922279792746,\n",
       " 'cr_t': 0.6,\n",
       " 'difference': 0.014507772020725396,\n",
       " 'rel_diff': 0.024778761061946916,\n",
       " 'stddev': 0.051664605255628,\n",
       " 'z': (-1.6448536269514729, 1.6448536269514722),\n",
       " 'conf_interval': (-0.08498071333973584, 0.08498071333973581),\n",
       " 'significant': False,\n",
       " 'result': 'Draw',\n",
       " 't': 0.28080679120537777,\n",
       " 'p': 0.3895097294150668}"
      ]
     },
     "execution_count": 45,
     "metadata": {},
     "output_type": "execute_result"
    }
   ],
   "source": [
    "events = generate_events()\n",
    "segment = generate_segment(events)\n",
    "aa_test = ABTest(events, segment)\n",
    "aa_test.compute()\n",
    "vars(aa_test.t_test)"
   ]
  },
  {
   "cell_type": "code",
   "execution_count": 46,
   "metadata": {
    "slideshow": {
     "slide_type": "skip"
    }
   },
   "outputs": [
    {
     "name": "stdout",
     "output_type": "stream",
     "text": [
      "segment    event_type \n",
      "control    conversion     113\n",
      "           observation    193\n",
      "treatment  conversion     102\n",
      "           observation    170\n",
      "Name: user_id, dtype: int64\n",
      "0.11745490219835064\n"
     ]
    },
    {
     "data": {
      "text/plain": [
       "{'totals': segment    event_type \n",
       " control    conversion     113\n",
       "            observation    193\n",
       " treatment  conversion     114\n",
       "            observation    170\n",
       " Name: user_id, dtype: int64,\n",
       " 'alpha': 0.1,\n",
       " 'observation': 363,\n",
       " 'cr_c': 0.5854922279792746,\n",
       " 'cr_t': 0.6705882352941176,\n",
       " 'difference': 0.08509600731484301,\n",
       " 'rel_diff': 0.14534096824570533,\n",
       " 'stddev': 0.05056556594785775,\n",
       " 'z': (-1.6448536269514729, 1.6448536269514722),\n",
       " 'conf_interval': (-0.08317295454818771, 0.08317295454818768),\n",
       " 'significant': True,\n",
       " 'result': 'Win',\n",
       " 't': 1.6828845029163204,\n",
       " 'p': 0.04663102301291433}"
      ]
     },
     "execution_count": 46,
     "metadata": {},
     "output_type": "execute_result"
    }
   ],
   "source": [
    "import math\n",
    "print(aa_test.totals)\n",
    "sensitivity = aa_test.find_detected_diff()\n",
    "print(sensitivity)\n",
    "aa_test.totals.treatment.conversion = math.ceil(\n",
    "    aa_test.totals.treatment.conversion.astype(float) \\\n",
    "    * (1 + sensitivity)\n",
    ")\n",
    "aa_test.t_test.compute()\n",
    "vars(aa_test.t_test)"
   ]
  },
  {
   "cell_type": "markdown",
   "metadata": {
    "slideshow": {
     "slide_type": "subslide"
    }
   },
   "source": [
    "Let’s see how that faster and more accurate approach runs on our sample"
   ]
  },
  {
   "cell_type": "code",
   "execution_count": 47,
   "metadata": {
    "slideshow": {
     "slide_type": "-"
    }
   },
   "outputs": [
    {
     "name": "stdout",
     "output_type": "stream",
     "text": [
      "After 500 runs, we estimate that this test should reliably (90%) detect improvements of at least 29.1%\n"
     ]
    }
   ],
   "source": [
    "sensitivity_test.run_batch(n_runs=500)\n",
    "print(sensitivity_test.format_result())"
   ]
  },
  {
   "cell_type": "markdown",
   "metadata": {
    "slideshow": {
     "slide_type": "-"
    }
   },
   "source": [
    "That’s faster and offers a less coarse estimate of the actual impact than using `thresholds`."
   ]
  },
  {
   "cell_type": "markdown",
   "metadata": {
    "slideshow": {
     "slide_type": "subslide"
    }
   },
   "source": [
    "### Test sensitivity with observations\n",
    "\n",
    "Let’s now consider an test with more observations than just 1,000."
   ]
  },
  {
   "cell_type": "code",
   "execution_count": 48,
   "metadata": {
    "slideshow": {
     "slide_type": "-"
    }
   },
   "outputs": [
    {
     "name": "stderr",
     "output_type": "stream",
     "text": [
      "/usr/local/lib/python3.7/site-packages/ipykernel_launcher.py:20: RuntimeWarning: invalid value encountered in double_scalars\n"
     ]
    },
    {
     "name": "stdout",
     "output_type": "stream",
     "text": [
      "After 500 runs, we estimate that this test should reliably (90%) detect improvements of at least 0.0%\n"
     ]
    }
   ],
   "source": [
    "more_sensitive_test = SensitivityTest(generate_events(n_obs=10_000))\n",
    "more_sensitive_test.run_batch(n_runs=500)\n",
    "print(more_sensitive_test.format_result())"
   ]
  },
  {
   "cell_type": "code",
   "execution_count": 49,
   "metadata": {
    "slideshow": {
     "slide_type": "fragment"
    }
   },
   "outputs": [
    {
     "name": "stderr",
     "output_type": "stream",
     "text": [
      "/usr/local/lib/python3.7/site-packages/ipykernel_launcher.py:20: RuntimeWarning: invalid value encountered in double_scalars\n"
     ]
    },
    {
     "name": "stdout",
     "output_type": "stream",
     "text": [
      "After 500 runs, we estimate that this test should reliably (90%) detect improvements of at least 0.0%\n"
     ]
    }
   ],
   "source": [
    "# Warning: This might take several minutes\n",
    "most_sensitive_test = SensitivityTest(generate_events(n_obs=100_000))\n",
    "most_sensitive_test.run_batch(n_runs=500)\n",
    "print(most_sensitive_test.format_result())"
   ]
  },
  {
   "cell_type": "code",
   "execution_count": 50,
   "metadata": {
    "slideshow": {
     "slide_type": "subslide"
    }
   },
   "outputs": [],
   "source": [
    "def multi_display(tests): \n",
    "    n_obs = tests[0].test.t_test.observation\n",
    "    max_val = 0\n",
    "    fig, ax = plt.subplots()\n",
    "    ax.set(\n",
    "        title=\"Sensitivity curve ({0:,} obs.)\".format(n_obs),\n",
    "        xlabel=\"Effect scale (log scale)\",\n",
    "        ylabel=\"Number of tests\",\n",
    "    )    \n",
    "    for test in tests:\n",
    "        val = test.cum_dist.index    \n",
    "        ax.plot(test.cum_dist[val > 0])\n",
    "        ax.set_xscale('log')\n",
    "        ax.vlines(test.min_significant, 0, test.reliable,\n",
    "                  color=\"red\", linestyles=\"dotted\")\n",
    "        max_val = max(max(val), max_val)\n",
    "    ax.hlines(test.reliable, min(val[val > 0]), max_val,\n",
    "              color=\"red\", linestyles=\"dotted\")    \n",
    "    plt.show()"
   ]
  },
  {
   "cell_type": "code",
   "execution_count": 51,
   "metadata": {
    "slideshow": {
     "slide_type": "subslide"
    }
   },
   "outputs": [
    {
     "ename": "ValueError",
     "evalue": "min() arg is an empty sequence",
     "output_type": "error",
     "traceback": [
      "\u001b[0;31m---------------------------------------------------------------------------\u001b[0m",
      "\u001b[0;31mValueError\u001b[0m                                Traceback (most recent call last)",
      "\u001b[0;32m<ipython-input-51-621049cd2176>\u001b[0m in \u001b[0;36m<module>\u001b[0;34m\u001b[0m\n\u001b[1;32m      1\u001b[0m \u001b[0mtests\u001b[0m \u001b[0;34m=\u001b[0m \u001b[0;34m[\u001b[0m\u001b[0msensitivity_test\u001b[0m\u001b[0;34m,\u001b[0m \u001b[0mmore_sensitive_test\u001b[0m\u001b[0;34m,\u001b[0m \u001b[0mmost_sensitive_test\u001b[0m\u001b[0;34m]\u001b[0m\u001b[0;34m\u001b[0m\u001b[0;34m\u001b[0m\u001b[0m\n\u001b[0;32m----> 2\u001b[0;31m \u001b[0mmulti_display\u001b[0m\u001b[0;34m(\u001b[0m\u001b[0mtests\u001b[0m\u001b[0;34m)\u001b[0m\u001b[0;34m\u001b[0m\u001b[0;34m\u001b[0m\u001b[0m\n\u001b[0m",
      "\u001b[0;32m<ipython-input-50-d7a79074a3c1>\u001b[0m in \u001b[0;36mmulti_display\u001b[0;34m(tests)\u001b[0m\n\u001b[1;32m     15\u001b[0m                   color=\"red\", linestyles=\"dotted\")\n\u001b[1;32m     16\u001b[0m         \u001b[0mmax_val\u001b[0m \u001b[0;34m=\u001b[0m \u001b[0mmax\u001b[0m\u001b[0;34m(\u001b[0m\u001b[0mmax\u001b[0m\u001b[0;34m(\u001b[0m\u001b[0mval\u001b[0m\u001b[0;34m)\u001b[0m\u001b[0;34m,\u001b[0m \u001b[0mmax_val\u001b[0m\u001b[0;34m)\u001b[0m\u001b[0;34m\u001b[0m\u001b[0;34m\u001b[0m\u001b[0m\n\u001b[0;32m---> 17\u001b[0;31m     ax.hlines(test.reliable, min(val[val > 0]), max_val,\n\u001b[0m\u001b[1;32m     18\u001b[0m               color=\"red\", linestyles=\"dotted\")    \n\u001b[1;32m     19\u001b[0m     \u001b[0mplt\u001b[0m\u001b[0;34m.\u001b[0m\u001b[0mshow\u001b[0m\u001b[0;34m(\u001b[0m\u001b[0;34m)\u001b[0m\u001b[0;34m\u001b[0m\u001b[0;34m\u001b[0m\u001b[0m\n",
      "\u001b[0;31mValueError\u001b[0m: min() arg is an empty sequence"
     ]
    },
    {
     "data": {
      "image/png": "[encoded data removed]",
      "text/plain": [
       "<Figure size 432x288 with 1 Axes>"
      ]
     },
     "metadata": {
      "needs_background": "light"
     },
     "output_type": "display_data"
    }
   ],
   "source": [
    "tests = [sensitivity_test, more_sensitive_test, most_sensitive_test]\n",
    "multi_display(tests)"
   ]
  },
  {
   "cell_type": "markdown",
   "metadata": {
    "slideshow": {
     "slide_type": "subslide"
    }
   },
   "source": [
    "Tests on small samples are less sensitive to minor changes.\n",
    "\n",
    "We already knew that testing on smaller samples means our false positive rate $\\alpha$ is harder to confirm _cf._ [AA-tests](#aa-test): we can’t control the quality of our tests as well.\n",
    "\n",
    "Does this mean that, our prediction of the test sensitivity is but less reliable too?\n",
    "\n",
    "Let’s explore that by running multiple sensitivity tests on samples of different sizes."
   ]
  },
  {
   "cell_type": "markdown",
   "metadata": {
    "slideshow": {
     "slide_type": "slide"
    }
   },
   "source": [
    "## Sequence of multiple sensitivity test"
   ]
  },
  {
   "cell_type": "code",
   "execution_count": null,
   "metadata": {
    "slideshow": {
     "slide_type": "fragment"
    }
   },
   "outputs": [],
   "source": [
    "# Warning: This might take several minutes\n",
    "def compute_multiple_curves(events, n_curve=100):\n",
    "    list_sensitivity_test = []\n",
    "    for i in range(n_curve):\n",
    "        list_sensitivity_test.append(SensitivityTest(events))\n",
    "        list_sensitivity_test[i].run_batch()        \n",
    "    return list_sensitivity_test\n",
    "\n",
    "list_sensitivity_test = compute_multiple_curves(events)"
   ]
  },
  {
   "cell_type": "code",
   "execution_count": null,
   "metadata": {
    "slideshow": {
     "slide_type": "subslide"
    }
   },
   "outputs": [],
   "source": [
    "def display_multiple_curves(\n",
    "    list_sensitivity_test, \n",
    "    color=\"blue\", transparency=0.1, \n",
    "    padding=1.3, x_scale=\"linear\"\n",
    "):    \n",
    "    n_tests = len(list_sensitivity_test)\n",
    "    n_runs = list_sensitivity_test[0].n_runs\n",
    "    n_obs = list_sensitivity_test[0].test.t_test.observation\n",
    "\n",
    "    list_min_significant = []\n",
    "    for sensitive_test in list_sensitivity_test:\n",
    "        list_min_significant.append(sensitive_test.min_significant)\n",
    "    \n",
    "    fig, (ax1, ax2) = plt.subplots(1, 2, figsize=(12, 5))\n",
    "    \n",
    "    # Histogram of mininum significant value\n",
    "    # Titles\n",
    "    ax1.set(\n",
    "        title=\"{0:,} sensitivity tests ({1:,} obs.)\".format(n_tests, n_obs),\n",
    "        xlabel=\"Difference size\",\n",
    "        ylabel=\"Number of AA-tests\",\n",
    "    )    \n",
    "    # Scale\n",
    "    if x_scale == \"linear\":\n",
    "        x_lim = (0, max(list_min_significant)*padding)\n",
    "        ax1.set_xlim(x_lim)\n",
    "    if x_scale == \"log\":        \n",
    "        ax1.set_xscale('log')\n",
    "        x_lim = (val[val > 0], max(val))\n",
    "        ax1.set_xlim(x_lim)\n",
    "    ax1.hlines(\n",
    "        list_sensitivity_test[0].reliable, x_lim[0], x_lim[1],\n",
    "        color=\"red\", linestyles=\"dotted\"\n",
    "    )\n",
    "\n",
    "    # Iterate on each sensitivity curve\n",
    "    for sensitive_test in list_sensitivity_test:\n",
    "        cum_dist = sensitive_test.cum_dist\n",
    "        val = cum_dist.index\n",
    "        use = (val > x_lim[0]) & (val < x_lim[1])\n",
    "        ax1.plot(cum_dist[use], color=color, alpha=transparency)\n",
    "    x_ticks = ax1.get_xticks()\n",
    "    ax1.set_xticklabels(['{:,.0%}'.format(x) for x in x_ticks])\n",
    "    \n",
    "    # Histogram of mininum significant value\n",
    "    ax2.hist(list_min_significant)\n",
    "    x_ticks = ax2.get_xticks()\n",
    "    ax2.set_xticklabels(['{:,.0%}'.format(x) for x in x_ticks])\n",
    "    # Density curve of sensitivity\n",
    "    x = np.linspace(min(x_ticks), max(x_ticks), 20)\n",
    "    m = np.mean(list_min_significant)\n",
    "    s = np.std(list_min_significant)\n",
    "    ax2.plot(x, norm.pdf(x, m, s))\n",
    "    ax2.set(\n",
    "        title=\"Minimum difference reliably detectable\",\n",
    "        xlabel=\"Reliably ({0:.0%}) detectable difference\".format(1-alpha),\n",
    "        ylabel=\"Number of Sensitivity tests\",\n",
    "    )    \n",
    "\n",
    "    plt.show()"
   ]
  },
  {
   "cell_type": "markdown",
   "metadata": {
    "slideshow": {
     "slide_type": "subslide"
    }
   },
   "source": [
    "### How sensitive is a test on 1,000 observations?\n",
    "\n",
    "<a name=\"sensitive_1000\"></a>"
   ]
  },
  {
   "cell_type": "code",
   "execution_count": null,
   "metadata": {
    "slideshow": {
     "slide_type": "-"
    }
   },
   "outputs": [],
   "source": [
    "display_multiple_curves(list_sensitivity_test)"
   ]
  },
  {
   "cell_type": "markdown",
   "metadata": {
    "slideshow": {
     "slide_type": "fragment"
    }
   },
   "source": [
    "Around 30%. Remember that estimation: we’ll need it in 5 minutes."
   ]
  },
  {
   "cell_type": "markdown",
   "metadata": {
    "slideshow": {
     "slide_type": "subslide"
    }
   },
   "source": [
    "### How sensitive is a test on 200 observations?"
   ]
  },
  {
   "cell_type": "code",
   "execution_count": null,
   "metadata": {
    "slideshow": {
     "slide_type": "-"
    }
   },
   "outputs": [],
   "source": [
    "# Warning: This might take several minutes\n",
    "list_less_sensitive_test = \\\n",
    "    compute_multiple_curves(generate_events(n_obs=200))\n",
    "display_multiple_curves(list_less_sensitive_test)"
   ]
  },
  {
   "cell_type": "markdown",
   "metadata": {
    "slideshow": {
     "slide_type": "-"
    }
   },
   "source": [
    "This is a _lot_ less sensitive. That’s why it’s not seen as very useful at this scale."
   ]
  },
  {
   "cell_type": "markdown",
   "metadata": {
    "slideshow": {
     "slide_type": "slide"
    }
   },
   "source": [
    "# V. Processing the source dataset\n",
    "\n",
    "<a name=\"source_data\"></a>\n"
   ]
  },
  {
   "cell_type": "markdown",
   "metadata": {
    "slideshow": {
     "slide_type": "slide"
    }
   },
   "source": [
    "## Aggregating small samples gracefully\n",
    "\n",
    "Let’s take an extreme example (20 observations, 20% conversion rate) and see how our code fails on such a small sample."
   ]
  },
  {
   "cell_type": "code",
   "execution_count": null,
   "metadata": {
    "slideshow": {
     "slide_type": "subslide"
    }
   },
   "outputs": [],
   "source": [
    "def try_small_sample(cr=.2, n_obs=20, n_try=4):\n",
    "    for i in range(n_try):\n",
    "        events = generate_events(cr=cr, n_obs=n_obs)\n",
    "        batch_aa_test = BatchAATest(events)\n",
    "        try:\n",
    "            batch_aa_test.run_series(n_runs=1000)\n",
    "            batch_aa_test.compute_alpha_ci()\n",
    "            batch_aa_test.display_alpha_ci()\n",
    "        except Exception as e:\n",
    "            print(type(e).__name__, e)\n",
    "            print(batch_aa_test.test.totals)\n",
    "            break"
   ]
  },
  {
   "cell_type": "code",
   "execution_count": null,
   "metadata": {
    "scrolled": true,
    "slideshow": {
     "slide_type": "fragment"
    }
   },
   "outputs": [],
   "source": [
    "try_small_sample()"
   ]
  },
  {
   "cell_type": "markdown",
   "metadata": {
    "slideshow": {
     "slide_type": "subslide"
    }
   },
   "source": [
    "### Introduce data quality tests\n",
    "\n",
    "If `n_user < 100`, then random segments might not include both active users assigned to `control` or `treatment`. We want to check that there are enough in both segments to run a test."
   ]
  },
  {
   "cell_type": "code",
   "execution_count": null,
   "metadata": {
    "slideshow": {
     "slide_type": "fragment"
    }
   },
   "outputs": [],
   "source": [
    "def is_segment_balanced(self, min_ratio=.4):    \n",
    "    try:\n",
    "        oc = self.totals.control.observation\n",
    "        ot = self.totals.treatment.observation\n",
    "        min_ratio = (oc + ot) * min_ratio\n",
    "        balanced = (min(oc, ot) >= min_ratio)\n",
    "      \n",
    "        cc = self.totals.control.conversion\n",
    "        ct = self.totals.treatment.conversion\n",
    "        conversion_exist = (cc > 0) & (ct > 0)\n",
    "        \n",
    "        self.balanced = balanced & conversion_exist\n",
    "    except:\n",
    "        self.balanced = False\n",
    "    return self.balanced\n",
    "\n",
    "ABTest.is_segment_balanced = is_segment_balanced"
   ]
  },
  {
   "cell_type": "code",
   "execution_count": null,
   "metadata": {
    "slideshow": {
     "slide_type": "subslide"
    }
   },
   "outputs": [],
   "source": [
    "def test_with_random_segment(self, verbose=False):\n",
    "    self.balanced = False\n",
    "    while self.balanced is False:\n",
    "        self.segment = generate_segment(self.events)\n",
    "        self.test = ABTest(self.events, self.segment)        \n",
    "        self.test.totals = compute_totals(self.events, self.segment)\n",
    "        self.balanced = self.test.is_segment_balanced()\n",
    "        if verbose and not self.balanced:\n",
    "            print(\"Segment not balanced\", self.test.totals)\n",
    "    self.test.t_test = TTest(self.test.totals)\n",
    "    self.test.t_test.compute()\n",
    "    self.test.decision = self.test.t_test.format_decision()\n",
    "    return self.test\n",
    "\n",
    "BatchAATest.test_with_random_segment = test_with_random_segment"
   ]
  },
  {
   "cell_type": "code",
   "execution_count": null,
   "metadata": {
    "scrolled": true,
    "slideshow": {
     "slide_type": "subslide"
    }
   },
   "outputs": [],
   "source": [
    "try_small_sample()"
   ]
  },
  {
   "cell_type": "markdown",
   "metadata": {
    "slideshow": {
     "slide_type": "fragment"
    }
   },
   "source": [
    "Tests on samples as small as 20 (to be split in two) have terrible behaviour but our edited `BatchAATest.test_with_random_segment()` iterates until we had segments that respect basic rules (`balanced` and `conversion_exist`).\n",
    "\n",
    "If our constraints on segment are more constrained, we can reject some randomised splits to make sure the test is sensical. Let’s see what those constrained can be in practice."
   ]
  },
  {
   "cell_type": "markdown",
   "metadata": {
    "slideshow": {
     "slide_type": "slide"
    }
   },
   "source": [
    "## Clusters of uneven scale\n",
    "\n",
    "Imagine you are testing an over-the-line (OTL) adverting campaign: posters on bus stops and on buses. This can only be done per city. An large number of city doesn’t means the sample is balanced.\n",
    "\n",
    "Imagine you have 10,000 users to split, but they also live in one of 100 cities. You want to make sure the distribution in each segment per city is reasonnable. However, the number of users per city is very disparate. In practice, it often follows a Zipf’s law.\n",
    "\n",
    "What’s the impact of re-balancing on sensitivity?"
   ]
  },
  {
   "cell_type": "markdown",
   "metadata": {
    "slideshow": {
     "slide_type": "subslide"
    }
   },
   "source": [
    "Let's generate users attributed to a city, according to a Zipfian law."
   ]
  },
  {
   "cell_type": "code",
   "execution_count": null,
   "metadata": {
    "slideshow": {
     "slide_type": "-"
    }
   },
   "outputs": [],
   "source": [
    "def generate_user_city(n_user=10_000, n_city=100, zipf_zeta=1.23):\n",
    "    \"\"\"\n",
    "    Given optional key counts about users and city\n",
    "    Return a random Zipfian pairwise attribution of users to cities \n",
    "    \"\"\"\n",
    "    user_city = pd.DataFrame(np.random.zipf(zipf_zeta, n_user))\n",
    "    overshoot = (user_city > n_city)\n",
    "    replacements = sum(overshoot)\n",
    "    while replacements > 0:\n",
    "        user_city[overshoot] = np.random.zipf(2, replacements)\n",
    "        new_overshoot = (user_city > n_city)\n",
    "        replacements = sum(new_overshoot)\n",
    "        overshoot = new_overshoot        \n",
    "    user_city.rename(columns={0: 'city_id'}, inplace=True)\n",
    "    user_city.index.name = \"user_id\"\n",
    "    return user_city"
   ]
  },
  {
   "cell_type": "code",
   "execution_count": null,
   "metadata": {
    "slideshow": {
     "slide_type": "subslide"
    }
   },
   "outputs": [],
   "source": [
    "def generate_events_with_city(\n",
    "    n_user=10_000, n_obs=1_000, n_city=100,\n",
    "    cr=.3, pp=.4, zipf_zeta=2\n",
    "):\n",
    "    \"\"\"\n",
    "    Given optional counts of users and city and parameters\n",
    "    Return a random set of events done by users in cities \n",
    "    \"\"\"\n",
    "    events = generate_events(cr=cr, n_obs=n_obs, n_user=n_user, pp=pp)\n",
    "    user_city = generate_user_city(\n",
    "        n_user=n_user, n_city=n_city, zipf_zeta=zipf_zeta)\n",
    "    events = events.join(user_city, on=\"user_id\")\n",
    "    return events"
   ]
  },
  {
   "cell_type": "markdown",
   "metadata": {
    "slideshow": {
     "slide_type": "fragment"
    }
   },
   "source": [
    "By default, we use the most cited estimation of $\\zeta\\approx1.23$ but for this example we want a more extreme case and use a very infair distribution of $\\zeta=2$ "
   ]
  },
  {
   "cell_type": "code",
   "execution_count": null,
   "metadata": {
    "slideshow": {
     "slide_type": "subslide"
    }
   },
   "outputs": [],
   "source": [
    "events = generate_events_with_city(zipf_zeta=2)\n",
    "segment = generate_segment(events, unit=\"city_id\")\n",
    "events_with_segment = events.set_index(\"city_id\")\\\n",
    "    .join(segment, on=\"city_id\")\n",
    "totals = events_with_segment\\\n",
    "    .groupby([\"segment\", \"event_type\"])[\"segment\"].count()"
   ]
  },
  {
   "cell_type": "code",
   "execution_count": null,
   "metadata": {
    "slideshow": {
     "slide_type": "fragment"
    }
   },
   "outputs": [],
   "source": [
    "totals"
   ]
  },
  {
   "cell_type": "markdown",
   "metadata": {
    "slideshow": {
     "slide_type": "fragment"
    }
   },
   "source": [
    "Those are very unbalanced.\n",
    "\n",
    "If the largest city happens to be in one segment, that segment will have a lot more observations."
   ]
  },
  {
   "cell_type": "code",
   "execution_count": null,
   "metadata": {
    "slideshow": {
     "slide_type": "subslide"
    }
   },
   "outputs": [],
   "source": [
    "observation = (events_with_segment[\"event_type\"] == \"observation\")\n",
    "city_segment_obs = events_with_segment[observation]\\\n",
    "    .groupby([\"city_id\", \"segment\"])[\"segment\"].count()\n",
    "city_segment_obs.head(15)"
   ]
  },
  {
   "cell_type": "markdown",
   "metadata": {
    "slideshow": {
     "slide_type": "subslide"
    }
   },
   "source": [
    "Let’s use a standard definition for balanced repartition."
   ]
  },
  {
   "cell_type": "code",
   "execution_count": null,
   "metadata": {
    "slideshow": {
     "slide_type": "-"
    }
   },
   "outputs": [],
   "source": [
    "def gini_index(totals):\n",
    "    co = totals.control.observation\n",
    "    to = totals.treatment.observation\n",
    "    return abs(co-to)/(co+to)"
   ]
  },
  {
   "cell_type": "code",
   "execution_count": null,
   "metadata": {
    "slideshow": {
     "slide_type": "-"
    }
   },
   "outputs": [],
   "source": [
    "gini_index(totals)"
   ]
  },
  {
   "cell_type": "markdown",
   "metadata": {
    "slideshow": {
     "slide_type": "subslide"
    }
   },
   "source": [
    "Is this making false positive more common? Blunting the test sensitivity? Can we circumvent it while still respecting the constraint of cities as clusters?"
   ]
  },
  {
   "cell_type": "code",
   "execution_count": null,
   "metadata": {
    "slideshow": {
     "slide_type": "-"
    }
   },
   "outputs": [],
   "source": [
    "cluster_aa_test = BatchAATest(events)\n",
    "cluster_aa_test.run_series()\n",
    "cluster_aa_test.display_t_p()\n",
    "cluster_aa_test.compute_alpha_ci()\n",
    "cluster_aa_test.display_alpha_ci()"
   ]
  },
  {
   "cell_type": "code",
   "execution_count": null,
   "metadata": {
    "slideshow": {
     "slide_type": "subslide"
    }
   },
   "outputs": [],
   "source": [
    "cluster_sensitivity = SensitivityTest(events)\n",
    "cluster_sensitivity.run_batch()\n",
    "print(cluster_sensitivity.format_result())\n",
    "cluster_sensitivity.display()"
   ]
  },
  {
   "cell_type": "markdown",
   "metadata": {
    "slideshow": {
     "slide_type": "subslide"
    }
   },
   "source": [
    "Let’s represent that over several sensitivity tests."
   ]
  },
  {
   "cell_type": "code",
   "execution_count": null,
   "metadata": {
    "slideshow": {
     "slide_type": "-"
    }
   },
   "outputs": [],
   "source": [
    "# Warning: This might take several minutes\n",
    "list_cluster_sensitivity_tests = \\\n",
    "    compute_multiple_curves(events, n_curve=30)"
   ]
  },
  {
   "cell_type": "code",
   "execution_count": null,
   "metadata": {
    "slideshow": {
     "slide_type": "fragment"
    }
   },
   "outputs": [],
   "source": [
    "display_multiple_curves(list_cluster_sensitivity_tests)"
   ]
  },
  {
   "cell_type": "markdown",
   "metadata": {
    "slideshow": {
     "slide_type": "subslide"
    }
   },
   "source": [
    "An [earlier look](#sensitivity_1000) into a test on a similar sample of 1,000 observations lead to a sensitivity around 30%, so fairly similar.\n",
    "\n",
    "In spite of one segment being signficantly less common, we maintain relative test sensitivity. Another issue with asymetric sampling is that here’s a theoretical bias in variance. Remember to always check."
   ]
  },
  {
   "cell_type": "markdown",
   "metadata": {
    "slideshow": {
     "slide_type": "slide"
    }
   },
   "source": [
    "## Experiment improvement approaches\n",
    "\n",
    "What can we do to improve the sensitivity of an experiment, given a set of observations and contraints on segmentatation?"
   ]
  },
  {
   "cell_type": "markdown",
   "metadata": {},
   "source": [
    "We want to try to modify our segment generation to improve the test. Whether they actually improve the sensitivity is to be verified by running:\n",
    "- several Sensitivity tests to draw a bundle of (30) curves;\n",
    "- each curve correspond to a batch of (100) AA-tests,  \n",
    "  that were modified to reveal how much changes could flip them;\n",
    "- all (of 3,000) AA-tests use the same `events` but  \n",
    "  each of them `segment` them in `control` and `treatment` differently.\n",
    "\n",
    "Therefore we need to run that process `compute_multiple_curves()` twice:\n",
    "1. once with a `SensitivityTest.test_with_random_segment()` method that is constrained, restarted, optimised for considerations like `balance`;\n",
    "1. once where it’s not."
   ]
  },
  {
   "cell_type": "markdown",
   "metadata": {
    "slideshow": {
     "slide_type": "subslide"
    }
   },
   "source": [
    "### Exclusion\n",
    "\n",
    "Would removing the top-most option allow us to re-balance our sample?"
   ]
  },
  {
   "cell_type": "code",
   "execution_count": null,
   "metadata": {
    "slideshow": {
     "slide_type": "fragment"
    }
   },
   "outputs": [],
   "source": [
    "# Warning: This might take several minutes\n",
    "events_beheaded = events[events[\"city_id\"]!=1]\n",
    "list_behaded_sensitivity_tests = \\\n",
    "   compute_multiple_curves(events_beheaded, n_curve=30)"
   ]
  },
  {
   "cell_type": "markdown",
   "metadata": {
    "slideshow": {
     "slide_type": "fragment"
    }
   },
   "source": [
    "This is equivalent to modifying `SensitivityTest.test_with_random_segment()` so that it always assigns the `city_id=1` to the segment `None`: \n",
    "\n",
    "``` python\n",
    "def test_with_random_segment(self):\n",
    "    self.segment = generate_segment(self.events)\n",
    "    self.segment.loc[[1], \"segment\"] = None\n",
    "    self.test = ABTest(self.events, self.segment)\n",
    "    self.test.compute()\n",
    "    return self.test\n",
    "\n",
    "SensitivityTest.test_with_random_segment = test_with_random_segment\n",
    "```"
   ]
  },
  {
   "cell_type": "code",
   "execution_count": null,
   "metadata": {
    "slideshow": {
     "slide_type": "subslide"
    }
   },
   "outputs": [],
   "source": [
    "display_multiple_curves(list_behaded_sensitivity_tests)"
   ]
  },
  {
   "cell_type": "markdown",
   "metadata": {
    "slideshow": {
     "slide_type": "fragment"
    }
   },
   "source": [
    "It’s actually not improving the sensitivity the model, on the contrary."
   ]
  },
  {
   "cell_type": "markdown",
   "metadata": {
    "slideshow": {
     "slide_type": "subslide"
    }
   },
   "source": [
    "### Segment assignment by school-yard picking \n",
    "\n",
    "Would assigning each city in descending size order to the smallest segment improve our sensitivity?\n",
    "\n",
    "It would make the `segment`s very similar to one another and remove the randomisation that is essential to the technique."
   ]
  },
  {
   "cell_type": "markdown",
   "metadata": {
    "slideshow": {
     "slide_type": "subslide"
    }
   },
   "source": [
    "### Swaps\n",
    "\n",
    "Assuming that you want to make sure your sample is more balanced, here are techniques to modify a split that doesn’t respect certain conditions."
   ]
  },
  {
   "cell_type": "markdown",
   "metadata": {
    "slideshow": {
     "slide_type": "slide"
    }
   },
   "source": [
    "## User engagement level\n",
    "\n",
    "Most web-based activity logs presents the same latent dimension: engagement. Some users come often, contribute a lot to the business model. It often happens that their conversion rate per session is lower. This means that one dimension used for the segment assigment (user) can be correlated to the metric (conversion per session).\n",
    "\n",
    "If that’s the case, the test is biased: we need to either use a metric based on the same observation as our assigment mechanism.\n",
    "\n",
    "_TBC_"
   ]
  },
  {
   "cell_type": "markdown",
   "metadata": {
    "slideshow": {
     "slide_type": "subslide"
    }
   },
   "source": [
    "### Clusters unbalanced per known type\n",
    "\n",
    "Imagine that you have two types of customers, with different conversion ratio. Those types are not present in the same ratio in your clusters. \n",
    "\n",
    "_TBC_"
   ]
  },
  {
   "cell_type": "markdown",
   "metadata": {
    "slideshow": {
     "slide_type": "subslide"
    }
   },
   "source": [
    "### Clusters unbalanced per hidden type\n",
    "\n",
    "Imagine now that we can’t tell which user is which.\n",
    "\n",
    "_TBC_"
   ]
  },
  {
   "cell_type": "markdown",
   "metadata": {
    "slideshow": {
     "slide_type": "skip"
    }
   },
   "source": [
    "Let’s breakdown the process\n",
    "\n",
    "<!-- Run comparative `compute_multiple_curves` using the `test_with_random_segment` function as parameter. -->"
   ]
  },
  {
   "cell_type": "code",
   "execution_count": null,
   "metadata": {
    "slideshow": {
     "slide_type": "skip"
    }
   },
   "outputs": [],
   "source": [
    "alternative_tuple = (\"control\", \"treatment\")\n",
    "\n",
    "def get_unbalalance(events, segment, cluster):\n",
    "\n",
    "def find_best_reassign(events, segment, cluster, alt=alternative_tuple):\n",
    "    # Measuring asymetry\n",
    "    #self.#\n",
    "    events_with_segment = events.set_index(cluster)\\\n",
    "        .join(segment, on=cluster)   \n",
    "    #self.#\n",
    "    cluster_segment_obs = events_with_segment[observation]\\\n",
    "        .groupby([cluster, \"segment\"])[\"segment\"].count()\n",
    "    #self.#\n",
    "    unbalance = cluster_segment_obs.groupby([\"segment\"]).sum()    \n",
    "    # # # # # # # # # # # # # # # # # # # # \n",
    "    # if len(unbalance) < 2:\n",
    "    #     return generate_segment(events)\n",
    "    # print(\"Green\")\n",
    "    # print(len(unbalance))\n",
    "    # print(\"Green\")\n",
    "    # # # # # # # # # # # # # # # # # # # # \n",
    "    # Direction\n",
    "    shift_needed = (unbalance[alt[1]] - unbalance[alt[0]])/2\n",
    "    if shift_needed > 0:\n",
    "        destination, source = alt\n",
    "    else:\n",
    "        source, destination = alt\n",
    "    source_position = cluster_segment_obs.index.isin([source], level=1)\n",
    "    possible_source = cluster_segment_obs.iloc[source_position]\n",
    "    proximity_ideal = abs(possible_source - abs(shift_needed))\n",
    "    best_source = proximity_ideal.values.argmin()\n",
    "    return best_source, unbalance, \n",
    "\n",
    "# Reassignment\n",
    "segment.loc[best_source, \"segment\"] = destination\n"
   ]
  },
  {
   "cell_type": "code",
   "execution_count": null,
   "metadata": {
    "slideshow": {
     "slide_type": "skip"
    }
   },
   "outputs": [],
   "source": [
    "print(segment.head())\n",
    "new_segment = reassign_one_cluster(events, segment, cluster=\"city_id\")\n",
    "print(new_segment.head())"
   ]
  },
  {
   "cell_type": "code",
   "execution_count": null,
   "metadata": {
    "slideshow": {
     "slide_type": "skip"
    }
   },
   "outputs": [],
   "source": [
    "\n",
    "def test_with_random_segment(self, verbose=True):   \n",
    "    def reassign(segment):\n",
    "        return reassign_one_cluster(\n",
    "            self.events, segment, cluster=\"city_id\")\n",
    "    def segment_balance(segment):\n",
    "        test = ABTest(self.events, segment)        \n",
    "        test.totals = compute_totals(self.events, segment)\n",
    "        return balance(test.totals)       \n",
    "    segment = generate_segment(self.events)\n",
    "    possible_improvement = True\n",
    "    while possible_improvement:\n",
    "        new_segment = reassign(segment)        \n",
    "        old_balance = segment_balance(segment)\n",
    "        new_balance = segment_balance(new_segment)\n",
    "        possible_improvement = (new_balance > old_balance)\n",
    "        if possible_improvement:\n",
    "            segment = new_segment\n",
    "            if verbose:\n",
    "                print(\"Swap one\")\n",
    "                print(segment.head())\n",
    "    self.segment = segment    \n",
    "    self.test = ABTest(self.events, self.segment)        \n",
    "    self.test.totals = compute_totals(self.events, self.segment)\n",
    "    self.test.t_test = TTest(self.test.totals)\n",
    "    self.test.t_test.compute()\n",
    "    self.test.decision = self.test.t_test.format_decision()\n",
    "    return self.test\n",
    "\n",
    "SensitivityTestWithReassigment = SensitivityTest\n",
    "SensitivityTestWithReassigment\\\n",
    "    .test_with_random_segment = test_with_random_segment    "
   ]
  },
  {
   "cell_type": "code",
   "execution_count": null,
   "metadata": {
    "scrolled": false,
    "slideshow": {
     "slide_type": "skip"
    }
   },
   "outputs": [],
   "source": [
    "sensitivity_test = SensitivityTestWithReassigment(events)\n",
    "sensitivity_test.run_batch()"
   ]
  },
  {
   "cell_type": "markdown",
   "metadata": {},
   "source": [
    "### Scale as a category\n",
    "\n",
    "What if users from large cities behave differently than users from smaller ones?"
   ]
  },
  {
   "cell_type": "markdown",
   "metadata": {
    "slideshow": {
     "slide_type": "slide"
    }
   },
   "source": [
    "# _Interlude_\n",
    "\n",
    "Is everything still clear?\n",
    "\n",
    "<a name=\"interlude_2\"></a>\n",
    "\n",
    "[I. How to run a test](#principles)  \n",
    "[-. _Generate random samples_](#random_generation)  \n",
    "[II. Process results](#code)  \n",
    "[III. AA-tests](#aa_test)  \n",
    "[IV. Sensitivity testing](#sensitivity)  \n",
    "[V. Process the source dataset](#source_data)  \n",
    "**[VI. Complications](#unit_selection)  \n",
    "[VII. Overlapping experiments](#overlap)  \n",
    "[_Summary_](#summary)**"
   ]
  },
  {
   "cell_type": "markdown",
   "metadata": {
    "slideshow": {
     "slide_type": "slide"
    }
   },
   "source": [
    "# VI. Complications\n",
    "\n",
    "<a name=\"unit_selection\"></a>\n",
    "\n",
    "Identifying the test _unit_ is the least obvious difficulty."
   ]
  },
  {
   "cell_type": "markdown",
   "metadata": {
    "slideshow": {
     "slide_type": "slide"
    }
   },
   "source": [
    "\n",
    "## Unit selection with AA tests\n",
    "\n",
    "\n",
    "### Choosing a test unit on web traffic: observation, session, user, country\n",
    "\n",
    "Our `event` only knows about `user_id`. Let’s see what happens when we include realistic observations, session and countries in addition to users. "
   ]
  },
  {
   "cell_type": "code",
   "execution_count": null,
   "metadata": {},
   "outputs": [],
   "source": [
    "def generate_session(cr=.3, pp_n=.9, pp_d=.6):\n",
    "    n_obs_session = int(np.random.pareto(pp_n)+1)\n",
    "    delays = pd.Series(np.random.pareto(pp_d, size=(n_obs_session)))\n",
    "    delays = delays.cumsum()\n",
    "    conversions = pd.Series(np.random.rand(n_obs_session) < cr/np.sqrt(n_obs_session))\n",
    "    conv_delays = pd.Series(np.random.pareto(pp_d, size=(n_obs_session)))\n",
    "    session = pd.concat([delays, conversions, conv_delays], axis=1, sort=False)\n",
    "    session.columns = [\"event_delay\", \"conversion\", \"conversion_delay\"]\n",
    "    return session\n",
    "\n",
    "def generate_session_basic(n_session=500, n_user=500):\n",
    "    dates = pd.Series(np.random.random(size=(n_session)))\n",
    "    dates = dates.apply(date_from_value)\n",
    "    users = pd.Series(np.random.randint(n_user, size=(n_session)))    \n",
    "    sessions = pd.concat([dates, users], axis=1, sort=False)\n",
    "    sessions.columns = [\"event_timestamp\", \"user_id\"]\n",
    "    return sessions"
   ]
  },
  {
   "cell_type": "code",
   "execution_count": null,
   "metadata": {},
   "outputs": [],
   "source": [
    "def generate_session_detail(\n",
    "    n_session=500, n_user=500,\n",
    "    cr=.3, pp_n=.95, pp_d=.7\n",
    "):\n",
    "    sessions = generate_session_basic(n_session, n_user)\n",
    "    col_sess = [\"event_timestamp\", \"user_id\", \"session_id\", \"event_type\"]\n",
    "    sessions_detailed = pd.DataFrame([], columns=col_sess)\n",
    "    for index, row in sessions.iterrows():\n",
    "        session_events = generate_session(cr=cr, pp_n=pp_n, pp_d=pp_d)\n",
    "        n = len(session_events)\n",
    "        session_events[\"user_id\"] = row[\"user_id\"]\n",
    "        session_events[\"session_id\"] = index\n",
    "        session_start_time = row[\"event_timestamp\"]        \n",
    "        session_events[\"event_timestamp\"] = \\\n",
    "            session_events[\"event_delay\"].apply(\n",
    "                lambda x: session_start_time + dt.timedelta(minutes=x))        \n",
    "        session_events = pd.DataFrame(session_events)\n",
    "\n",
    "        conversions = generate_conversion_from_observation(session_events)\n",
    "        observation = session_events[[\"event_timestamp\", \"user_id\", \"session_id\"]]\n",
    "        observation = observation.assign(event_type = \"observation\")\n",
    "        conversions = conversions.assign(event_type = \"conversion\")\n",
    "        events = pd.concat([observation, conversions], axis=0, sort=False)    \n",
    "        sessions_detailed = sessions_detailed.append(\n",
    "            events, ignore_index=True, sort=False)\n",
    "    sessions_detailed.sort_values(\"event_timestamp\")        \n",
    "    return sessions_detailed"
   ]
  },
  {
   "cell_type": "code",
   "execution_count": null,
   "metadata": {},
   "outputs": [],
   "source": [
    "def generate_session_city(\n",
    "    n_session=1_000, n_user=2_000, n_city=100,\n",
    "    cr=.3, pp_n=.95, pp_d=.7, zipf_zeta=2\n",
    "):\n",
    "    \"\"\"\n",
    "    Given optional counts of users and city and parameters\n",
    "    Return a random set of events done by users in cities \n",
    "    \"\"\"\n",
    "    session = generate_session_detail(\n",
    "        n_session=n_session, n_user=n_user,\n",
    "        cr=cr, pp_n=pp_n, pp_d=pp_d\n",
    "    )\n",
    "    user_city = generate_user_city(\n",
    "        n_user=n_user, n_city=n_city, zipf_zeta=zipf_zeta)\n",
    "    session_city = session.join(user_city, on=\"user_id\")\n",
    "    return session_city    "
   ]
  },
  {
   "cell_type": "code",
   "execution_count": null,
   "metadata": {},
   "outputs": [],
   "source": [
    "session_detail = generate_session_city(n_session=5, n_user=5)\n",
    "session_detail.head()"
   ]
  },
  {
   "cell_type": "markdown",
   "metadata": {
    "slideshow": {
     "slide_type": "slide"
    }
   },
   "source": [
    "## Identification after the fact\n",
    "<a name=\"id_post_exposure\"></a>\n",
    "\n",
    "Imagine some users go through the site without identification. They are treated as a distinct users first, and could be exposed to another experience. This raises concerns: they might prefer consistency in their user experience.\n",
    "\n",
    "Using smaller or more units, like any users without cookies, can increase the number of units and the sensitivity of the test, but it might also increase the number of users who prove to have seen for experience after the fact."
   ]
  },
  {
   "cell_type": "code",
   "execution_count": null,
   "metadata": {
    "slideshow": {
     "slide_type": "subslide"
    }
   },
   "outputs": [],
   "source": [
    "session_detail = generate_session_city(n_session=50, n_user=50)"
   ]
  },
  {
   "cell_type": "code",
   "execution_count": null,
   "metadata": {},
   "outputs": [],
   "source": [
    "def generate_users_log_in_after_fact(\n",
    "        session_detail, logged_in=0.5, unit=\"user_id\"\n",
    "):\n",
    "    user_first_session = session_detail.groupby(unit)[\"event_timestamp\"].min()\n",
    "    user_first_session = pd.DataFrame(user_first_session)\n",
    "    n_user_session = max(user_first_session.index) + 1\n",
    "    user_first_session[\"logged_in\"] = \\\n",
    "        pd.Series(np.random.rand(n_user_session) < logged_in)\n",
    "    users_logged_in = (user_first_session[\"logged_in\"])\n",
    "    n_logged_in = int(sum(users_logged_in))\n",
    "    revelation = pd.DataFrame(\n",
    "        np.random.choice(users_logged_in.index, n_user_session),\n",
    "        columns=[\"alt_user_id\"]\n",
    "    )\n",
    "    user_first_session = user_first_session.join(revelation, on=unit)\n",
    "    alt_first_session = user_first_session\n",
    "    alt_first_session.index.name = \"alt_user_id\" # , \"alt_timestamp\", \"alt_logged_in\"]\n",
    "    user_first_session = user_first_session.join(\n",
    "        alt_first_session, on=\"alt_user_id\")\n",
    "    print(user_first_session)\n",
    "\n",
    "    # user_first_session[~users_logged_in][\"actual_user\"] = revelation\n",
    "    return user_first_session.head(10)\n",
    "    # user_first_session[][\"actual_user\"] = revelation\n",
    "    #session_detail.join(user_first_session, on=unit)\n",
    "    \n",
    "# Randomly assign by default 50% of users to another user.\n",
    "\n",
    "# events[\"actual_user\"]\n",
    "# exclude actual_user from possible re-assignments"
   ]
  },
  {
   "cell_type": "code",
   "execution_count": null,
   "metadata": {},
   "outputs": [],
   "source": [
    "generate_users_log_in_after_fact(session_detail)"
   ]
  },
  {
   "cell_type": "markdown",
   "metadata": {
    "slideshow": {
     "slide_type": "subslide"
    }
   },
   "source": [
    "### Double-exposure\n",
    "\n",
    "Users who have seen both option might have gone through a unusual experimence. In that case, we prefer to exclude them as it’s unclear which experience they’d represent. Let’s measure how common that is."
   ]
  },
  {
   "cell_type": "code",
   "execution_count": null,
   "metadata": {},
   "outputs": [],
   "source": [
    "def generate_events_with_duplicates(cr, n_users, n_obs, logged_in=0.5):\n",
    "    generate_events(cr, n_users, n_obs)\n",
    "    generate_events[] random. logged_in\n",
    "    ### count double-exposed users — as a function of ratio of not-logged-in"
   ]
  },
  {
   "cell_type": "markdown",
   "metadata": {
    "slideshow": {
     "slide_type": "fragment"
    }
   },
   "source": [
    "This exclusion can introduce bias; _e.g._ if they have to re-connect and might not remember their password —which is common when doing secure operations like paying— could be exposed; that means users are more likely to be double-exposed if the experience that they are exposed increase the likelihood of, say, paying. Or less likely if they are able to avoid complications during the operation."
   ]
  },
  {
   "cell_type": "code",
   "execution_count": null,
   "metadata": {},
   "outputs": [],
   "source": [
    "def exclude_double_exposure(events):\n",
    "    user_ids = events.groupby([\"actual_user\"])[\"segment\"].nunique()\n",
    "    double_exposed = (user_ids[\"count\"] > 1)\n",
    "    events_duplicates = events[\"actual_user\"].isin(double_exposed.index)\n",
    "    events_without_duplicates = events[~events_duplicates].dropna() \n",
    "    return events_without_duplicates"
   ]
  },
  {
   "cell_type": "markdown",
   "metadata": {
    "slideshow": {
     "slide_type": "fragment"
    }
   },
   "source": [
    "This reduces significance if you have a large number of non-logged in users."
   ]
  },
  {
   "cell_type": "markdown",
   "metadata": {
    "slideshow": {
     "slide_type": "slide"
    }
   },
   "source": [
    "# VII. Overlapping experiments\n",
    "\n",
    "<a name=\"overlap\"></a>"
   ]
  },
  {
   "cell_type": "markdown",
   "metadata": {
    "slideshow": {
     "slide_type": "slide"
    }
   },
   "source": [
    "## Simulating the risk of overlap\n",
    "\n",
    "_TBD_"
   ]
  },
  {
   "cell_type": "markdown",
   "metadata": {
    "slideshow": {
     "slide_type": "subslide"
    }
   },
   "source": [
    "## Detecting interference and exclusion\n",
    "\n",
    "_TBD_"
   ]
  },
  {
   "cell_type": "markdown",
   "metadata": {
    "slideshow": {
     "slide_type": "subslide"
    }
   },
   "source": [
    "## Multi-variate testing (MVT)\n",
    "\n",
    "<a name=\"multi-variate_test\"></a>\n",
    "\n",
    "Distinct from (additive) multi-variable test: ABC-test.\n",
    "\n",
    "_TBD_\n",
    "\n",
    "Multiplicative: A-A', A-B', B-A', B-B'.\n",
    "Four way test? Detect significant difference between (A * A') and A-A'"
   ]
  },
  {
   "cell_type": "markdown",
   "metadata": {
    "slideshow": {
     "slide_type": "slide"
    }
   },
   "source": [
    "# _Summary_\n",
    "<a name=\"summary\"></a>\n",
    "\n",
    "You can test on small samples, but it’s less sensitive:\n",
    "- run extensive AA- and  **sensitivity tests**;\n",
    "- swap or exclude units to **optimise** might not work as expected;\n",
    "- consider the **relevant unit** carefully;\n",
    "- **control** for activity, type.\n",
    "\n",
    "[I. How to run a test](#principles)  \n",
    "[-. _Generate random samples_](#random_generation)  \n",
    "[II. Process results](#code)  \n",
    "[III. AA-tests](#aa_test)  \n",
    "[IV. Sensitivity testing](#sensitivity)  \n",
    "[V. Process the source dataset](#source_data)  \n",
    "[VI. Complications](#unit_selection)  \n",
    "[VII. Overlapping experiments](#overlap)  \n",
    "[_Summary_](#summary)"
   ]
  },
  {
   "cell_type": "markdown",
   "metadata": {
    "slideshow": {
     "slide_type": "subslide"
    }
   },
   "source": [
    "# References \n",
    "## Implementing AB-tests\n",
    "\n",
    "- [Detailed advice on common testing issues](https://towardsdatascience.com/chasing-statistical-ghosts-in-experimentation-3f393323a1c1) from Lizzie Eardley,  \n",
    "  with Colin McFarland and Tom Oliver of SkyScanner;\n",
    "- [Guidelines for AB testing](https://robinsones.github.io/Guidelines-for-AB-Testing/) from Emily Robinson of Etsy and DataCamp;\n",
    "- [Fully detailed code](https://towardsdatascience.com/the-math-behind-a-b-testing-with-example-code-part-1-of-2-7be752e1d06f) from Nguyen Ngo of TowardsDataScience;\n",
    "- Arguments for [a Bayesian approach](https://medium.com/convoy-tech/the-power-of-bayesian-a-b-testing-f859d2219d5) from Michael Frasco of Convoy and  \n",
    "  for [a mixed frequentist and Bayesian approach](https://www.convertize.com/ab-test-significance/) from Philippe Aimé of Convertize\n",
    "\n",
    "## Theory on causal models\n",
    "- [Class video on Causal inference](https://www.youtube.com/watch?v=vGcWJcgY-MY) from Kari Lerum of Uni. of Washington\n",
    "- [Class slides on Causal inference](https://imai.fas.harvard.edu/talk/files/Taiwan14.pdf) from Kosuke Imai of Princeton\n",
    "- [Detailed tutorial on non-parametric causal models](https://www.youtube.com/watch?v=FBiBA1uV8Dk) from Thomas Richardson of Uni. of Washington at NeurIPS 2016"
   ]
  },
  {
   "cell_type": "code",
   "execution_count": null,
   "metadata": {
    "slideshow": {
     "slide_type": "skip"
    }
   },
   "outputs": [],
   "source": [
    "Encouragement"
   ]
  },
  {
   "cell_type": "markdown",
   "metadata": {
    "slideshow": {
     "slide_type": "skip"
    }
   },
   "source": [
    "# Appendix"
   ]
  },
  {
   "cell_type": "code",
   "execution_count": null,
   "metadata": {
    "slideshow": {
     "slide_type": "skip"
    }
   },
   "outputs": [],
   "source": [
    "# Strong typing\n",
    "class TypedDataFrame:\n",
    "    def __init__(self, table):\n",
    "        self.col_names = None\n",
    "        self.col_types = None\n",
    "        self.df = table\n",
    "    def specify_type(self):\n",
    "        self.df = pd.DataFrame(self.table, columns=self.col_names)\n",
    "        for i, col_name in enumerate(self.col_names):\n",
    "            self.df[col_name].astype(self.col_types[i])\n",
    "\n",
    "class Events(TypedDataFrame):\n",
    "    def __init__(self, table):\n",
    "        self.col_names = [\"event_timestamp\", \"user_id\", \"event_type\", ]\n",
    "        self.col_types = ['datetime64', 'int', 'category', ]        \n",
    "        self.specify_type()\n",
    "    def random_populate(sample_size, p):\n",
    "        self.df = generate_events()\n",
    "\n",
    "class Segment(TypedDataFrame):\n",
    "    def __init__(self, table):\n",
    "        self.cols = [\"timestamp_attribution\", \"segment\", ]\n",
    "        # user_id is key\n",
    "        self.col_type = ['datetime64', 'category', ]        \n",
    "        self.specify_type()\n",
    "    def random_populate(events, options):\n",
    "        self.df = generate_segment(events, options)"
   ]
  },
  {
   "cell_type": "markdown",
   "metadata": {
    "slideshow": {
     "slide_type": "skip"
    }
   },
   "source": [
    "With small samples, our confidence interval for $\\alpha$ is often far from expectations. \n",
    "\n",
    "When dealing with small samples, check the false positive rates. Make sure that you are comfortable with how large they can be. That’s one of the issues with smaller samples: results are less reliable -- unless you are checking a large change. Let’s look into that."
   ]
  },
  {
   "cell_type": "markdown",
   "metadata": {
    "slideshow": {
     "slide_type": "skip"
    }
   },
   "source": [
    "### Issue with small samples\n",
    "\n",
    "1. Less sensitive overall: use observations as a Bayesian update\n",
    "1. Less able to check for sensitivity and false positives\n",
    "1. There might not be 10,000 good, possible random samples\n"
   ]
  }
 ],
 "metadata": {
  "celltoolbar": "Slideshow",
  "kernelspec": {
   "display_name": "Python 3",
   "language": "python",
   "name": "python3"
  },
  "language_info": {
   "codemirror_mode": {
    "name": "ipython",
    "version": 3
   },
   "file_extension": ".py",
   "mimetype": "text/x-python",
   "name": "python",
   "nbconvert_exporter": "python",
   "pygments_lexer": "ipython3",
   "version": "3.7.3"
  }
 },
 "nbformat": 4,
 "nbformat_minor": 2
}
